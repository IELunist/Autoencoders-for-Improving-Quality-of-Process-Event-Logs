{
 "cells": [
  {
   "cell_type": "markdown",
   "metadata": {},
   "source": [
    "**Outline:**\n",
    "- Preprocess Activity and CumTimeInterval\n",
    "- Get padding mask\n",
    "- Get avai/nan mask"
   ]
  },
  {
   "cell_type": "code",
   "execution_count": 1,
   "metadata": {
    "collapsed": true
   },
   "outputs": [],
   "source": [
    "import os, sys\n",
    "import argparse\n",
    "import pandas as pd\n",
    "import numpy as np\n",
    "import pickle"
   ]
  },
  {
   "cell_type": "code",
   "execution_count": 2,
   "metadata": {
    "collapsed": true
   },
   "outputs": [],
   "source": [
    "from dateutil.parser import parse\n",
    "from datetime import datetime\n",
    "import time\n",
    "import matplotlib.pyplot as plt\n",
    "import seaborn as sns\n",
    "\n",
    "%matplotlib inline\n",
    "\n",
    "pd.options.mode.chained_assignment = None #to run loop quicker without warnings"
   ]
  },
  {
   "cell_type": "code",
   "execution_count": 3,
   "metadata": {
    "collapsed": true
   },
   "outputs": [],
   "source": [
    "#name = 'bpi_2012'\n",
    "name = 'bpi_2013'\n",
    "#name = 'Road_Traffic_Fine_Management_Process'\n",
    "args = {\n",
    "    'data_dir': '../data/',\n",
    "    'data_file': name + '.csv',\n",
    "    'input_dir': '../input/{}/'.format(name),  \n",
    "    'nan_pct': 0.3,\n",
    "    'train_pct': 0.6,\n",
    "    'val_pct': 0.2,\n",
    "}\n",
    "\n",
    "args = argparse.Namespace(**args)"
   ]
  },
  {
   "cell_type": "code",
   "execution_count": 4,
   "metadata": {
    "collapsed": true
   },
   "outputs": [],
   "source": [
    "file_name = os.path.join(args.input_dir, 'parameters_{}.pkl'.format(args.nan_pct))\n",
    "with open(file_name, 'rb') as f:\n",
    "    most_frequent_activity = pickle.load(f)\n",
    "    first_timestamp = pickle.load(f)\n",
    "    avai_instance = pickle.load(f)\n",
    "    nan_instance = pickle.load(f)\n",
    "    train_size = pickle.load(f)\n",
    "    val_size = pickle.load(f)\n",
    "    test_size = pickle.load(f)\n",
    "    train_row_num = pickle.load(f)\n",
    "    val_row_num = pickle.load(f)\n",
    "    test_row_num = pickle.load(f)"
   ]
  },
  {
   "cell_type": "code",
   "execution_count": 5,
   "metadata": {
    "collapsed": true
   },
   "outputs": [],
   "source": [
    "sys.path.insert(0, './../utils/')\n",
    "from utils import *"
   ]
  },
  {
   "cell_type": "markdown",
   "metadata": {},
   "source": [
    "# Load data"
   ]
  },
  {
   "cell_type": "code",
   "execution_count": 6,
   "metadata": {
    "collapsed": true
   },
   "outputs": [],
   "source": [
    "df_name = os.path.join(args.input_dir, 'complete_df_full_{}.csv'.format(args.nan_pct))\n",
    "df = pd.read_csv(df_name)\n",
    "\n",
    "missing_df_name = os.path.join(args.input_dir, 'missing_df_full_{}.csv'.format(args.nan_pct))\n",
    "missing_df = pd.read_csv(missing_df_name)"
   ]
  },
  {
   "cell_type": "markdown",
   "metadata": {},
   "source": [
    "# Preprocess data"
   ]
  },
  {
   "cell_type": "markdown",
   "metadata": {},
   "source": [
    "**To do:**\n",
    "- Normalize CumTimeInterval using minmaxScaler for each case.\n",
    "- One hot encode\n",
    "- Get avai/nan mask\n",
    "- Replace nan with 0\n",
    "- Pad with 0"
   ]
  },
  {
   "cell_type": "code",
   "execution_count": 7,
   "metadata": {},
   "outputs": [
    {
     "data": {
      "text/html": [
       "<div>\n",
       "<style>\n",
       "    .dataframe thead tr:only-child th {\n",
       "        text-align: right;\n",
       "    }\n",
       "\n",
       "    .dataframe thead th {\n",
       "        text-align: left;\n",
       "    }\n",
       "\n",
       "    .dataframe tbody tr th {\n",
       "        vertical-align: top;\n",
       "    }\n",
       "</style>\n",
       "<table border=\"1\" class=\"dataframe\">\n",
       "  <thead>\n",
       "    <tr style=\"text-align: right;\">\n",
       "      <th></th>\n",
       "      <th>CaseID</th>\n",
       "      <th>Activity</th>\n",
       "      <th>CompleteTimestamp</th>\n",
       "      <th>CumTimeInterval</th>\n",
       "    </tr>\n",
       "  </thead>\n",
       "  <tbody>\n",
       "    <tr>\n",
       "      <th>0</th>\n",
       "      <td>1</td>\n",
       "      <td>A_SUBMITTED-COMPLETE</td>\n",
       "      <td>2011-10-01 07:38:44.546</td>\n",
       "      <td>0.000</td>\n",
       "    </tr>\n",
       "    <tr>\n",
       "      <th>1</th>\n",
       "      <td>1</td>\n",
       "      <td>A_PARTLYSUBMITTED-COMPLETE</td>\n",
       "      <td>2011-10-01 07:38:44.880</td>\n",
       "      <td>0.334</td>\n",
       "    </tr>\n",
       "    <tr>\n",
       "      <th>2</th>\n",
       "      <td>1</td>\n",
       "      <td>A_PREACCEPTED-COMPLETE</td>\n",
       "      <td>2011-10-01 07:39:37.906</td>\n",
       "      <td>53.360</td>\n",
       "    </tr>\n",
       "    <tr>\n",
       "      <th>3</th>\n",
       "      <td>1</td>\n",
       "      <td>W_Completeren aanvraag-SCHEDULE</td>\n",
       "      <td>2011-10-01 07:39:38.875</td>\n",
       "      <td>54.329</td>\n",
       "    </tr>\n",
       "    <tr>\n",
       "      <th>4</th>\n",
       "      <td>1</td>\n",
       "      <td>W_Completeren aanvraag-START</td>\n",
       "      <td>2011-10-01 18:36:46.437</td>\n",
       "      <td>39481.891</td>\n",
       "    </tr>\n",
       "  </tbody>\n",
       "</table>\n",
       "</div>"
      ],
      "text/plain": [
       "   CaseID                         Activity        CompleteTimestamp  \\\n",
       "0       1             A_SUBMITTED-COMPLETE  2011-10-01 07:38:44.546   \n",
       "1       1       A_PARTLYSUBMITTED-COMPLETE  2011-10-01 07:38:44.880   \n",
       "2       1           A_PREACCEPTED-COMPLETE  2011-10-01 07:39:37.906   \n",
       "3       1  W_Completeren aanvraag-SCHEDULE  2011-10-01 07:39:38.875   \n",
       "4       1     W_Completeren aanvraag-START  2011-10-01 18:36:46.437   \n",
       "\n",
       "   CumTimeInterval  \n",
       "0            0.000  \n",
       "1            0.334  \n",
       "2           53.360  \n",
       "3           54.329  \n",
       "4        39481.891  "
      ]
     },
     "execution_count": 7,
     "metadata": {},
     "output_type": "execute_result"
    }
   ],
   "source": [
    "df.head()"
   ]
  },
  {
   "cell_type": "code",
   "execution_count": 13,
   "metadata": {},
   "outputs": [
    {
     "data": {
      "text/plain": [
       "36"
      ]
     },
     "execution_count": 13,
     "metadata": {},
     "output_type": "execute_result"
    }
   ],
   "source": [
    "len(df['Activity'].unique())"
   ]
  },
  {
   "cell_type": "code",
   "execution_count": 8,
   "metadata": {},
   "outputs": [
    {
     "data": {
      "text/html": [
       "<div>\n",
       "<style>\n",
       "    .dataframe thead tr:only-child th {\n",
       "        text-align: right;\n",
       "    }\n",
       "\n",
       "    .dataframe thead th {\n",
       "        text-align: left;\n",
       "    }\n",
       "\n",
       "    .dataframe tbody tr th {\n",
       "        vertical-align: top;\n",
       "    }\n",
       "</style>\n",
       "<table border=\"1\" class=\"dataframe\">\n",
       "  <thead>\n",
       "    <tr style=\"text-align: right;\">\n",
       "      <th></th>\n",
       "      <th>CaseID</th>\n",
       "      <th>Activity</th>\n",
       "      <th>CompleteTimestamp</th>\n",
       "      <th>CumTimeInterval</th>\n",
       "    </tr>\n",
       "  </thead>\n",
       "  <tbody>\n",
       "    <tr>\n",
       "      <th>0</th>\n",
       "      <td>1</td>\n",
       "      <td>A_SUBMITTED-COMPLETE</td>\n",
       "      <td>2011-10-01 07:38:44.546</td>\n",
       "      <td>0.000</td>\n",
       "    </tr>\n",
       "    <tr>\n",
       "      <th>1</th>\n",
       "      <td>1</td>\n",
       "      <td>NaN</td>\n",
       "      <td>NaN</td>\n",
       "      <td>NaN</td>\n",
       "    </tr>\n",
       "    <tr>\n",
       "      <th>2</th>\n",
       "      <td>1</td>\n",
       "      <td>A_PREACCEPTED-COMPLETE</td>\n",
       "      <td>2011-10-01 07:39:37.906</td>\n",
       "      <td>53.360</td>\n",
       "    </tr>\n",
       "    <tr>\n",
       "      <th>3</th>\n",
       "      <td>1</td>\n",
       "      <td>W_Completeren aanvraag-SCHEDULE</td>\n",
       "      <td>NaN</td>\n",
       "      <td>NaN</td>\n",
       "    </tr>\n",
       "    <tr>\n",
       "      <th>4</th>\n",
       "      <td>1</td>\n",
       "      <td>W_Completeren aanvraag-START</td>\n",
       "      <td>2011-10-01 18:36:46.437</td>\n",
       "      <td>39481.891</td>\n",
       "    </tr>\n",
       "  </tbody>\n",
       "</table>\n",
       "</div>"
      ],
      "text/plain": [
       "   CaseID                         Activity        CompleteTimestamp  \\\n",
       "0       1             A_SUBMITTED-COMPLETE  2011-10-01 07:38:44.546   \n",
       "1       1                              NaN                      NaN   \n",
       "2       1           A_PREACCEPTED-COMPLETE  2011-10-01 07:39:37.906   \n",
       "3       1  W_Completeren aanvraag-SCHEDULE                      NaN   \n",
       "4       1     W_Completeren aanvraag-START  2011-10-01 18:36:46.437   \n",
       "\n",
       "   CumTimeInterval  \n",
       "0            0.000  \n",
       "1              NaN  \n",
       "2           53.360  \n",
       "3              NaN  \n",
       "4        39481.891  "
      ]
     },
     "execution_count": 8,
     "metadata": {},
     "output_type": "execute_result"
    }
   ],
   "source": [
    "missing_df.head()"
   ]
  },
  {
   "cell_type": "code",
   "execution_count": 11,
   "metadata": {},
   "outputs": [
    {
     "data": {
      "text/plain": [
       "((262200, 4), 13087)"
      ]
     },
     "execution_count": 11,
     "metadata": {},
     "output_type": "execute_result"
    }
   ],
   "source": [
    "missing_df.shape, len(groupByCase)"
   ]
  },
  {
   "cell_type": "markdown",
   "metadata": {},
   "source": [
    "## Normalize"
   ]
  },
  {
   "cell_type": "code",
   "execution_count": 9,
   "metadata": {
    "collapsed": true
   },
   "outputs": [],
   "source": [
    "groupByCase = df.groupby(['CaseID'])\n",
    "missing_groupByCase = missing_df.groupby(['CaseID'])"
   ]
  },
  {
   "cell_type": "code",
   "execution_count": null,
   "metadata": {
    "collapsed": true
   },
   "outputs": [],
   "source": [
    "normalized_complete_df = pd.DataFrame(columns=list(df)+['NormalizedTime'])\n",
    "normalized_missing_df = pd.DataFrame(columns=list(df)+['NormalizedTime'])\n",
    "min_max_storage = {}\n",
    "\n",
    "for i, j in zip(groupByCase, missing_groupByCase):\n",
    "    temp, missing_temp, missing_case_storage = minmaxScaler(i[0], i[1], j[1])\n",
    "    normalized_complete_df = normalized_complete_df.append(temp)\n",
    "    normalized_missing_df = normalized_missing_df.append(missing_temp)\n",
    "    min_max_storage.update(missing_case_storage)"
   ]
  },
  {
   "cell_type": "code",
   "execution_count": null,
   "metadata": {
    "collapsed": true
   },
   "outputs": [],
   "source": [
    "len(min_max_storage), len(groupByCase), len(missing_groupByCase)"
   ]
  },
  {
   "cell_type": "code",
   "execution_count": null,
   "metadata": {
    "collapsed": true
   },
   "outputs": [],
   "source": [
    "normalized_complete_df.shape"
   ]
  },
  {
   "cell_type": "code",
   "execution_count": null,
   "metadata": {
    "collapsed": true
   },
   "outputs": [],
   "source": [
    "normalized_missing_df.shape"
   ]
  },
  {
   "cell_type": "code",
   "execution_count": null,
   "metadata": {
    "collapsed": true
   },
   "outputs": [],
   "source": [
    "normalized_complete_df_name = os.path.join(args.input_dir, 'normalized_complete_df_{}.csv'.format(args.nan_pct))\n",
    "normalized_complete_df.to_csv(normalized_complete_df_name, index=False)\n",
    "\n",
    "normalized_missing_df_name = os.path.join(args.input_dir, 'normalized_missing_df_{}.csv'.format(args.nan_pct))\n",
    "normalized_missing_df.to_csv(normalized_missing_df_name, index=False)"
   ]
  },
  {
   "cell_type": "markdown",
   "metadata": {},
   "source": [
    "## One hot encode"
   ]
  },
  {
   "cell_type": "markdown",
   "metadata": {},
   "source": [
    "- One hot encode for all categorical variables\n",
    "- All columns are 0 for nan value"
   ]
  },
  {
   "cell_type": "code",
   "execution_count": null,
   "metadata": {
    "collapsed": true
   },
   "outputs": [],
   "source": [
    "cat_var = ['Activity']"
   ]
  },
  {
   "cell_type": "code",
   "execution_count": null,
   "metadata": {
    "collapsed": true
   },
   "outputs": [],
   "source": [
    "# OHE: get k dummies out of k categorical levels (drop_first=False)\n",
    "enc_complete_df = OHE(normalized_complete_df, cat_var)\n",
    "enc_missing_df = OHE(normalized_missing_df, cat_var)"
   ]
  },
  {
   "cell_type": "code",
   "execution_count": null,
   "metadata": {
    "collapsed": true
   },
   "outputs": [],
   "source": [
    "enc_complete_df.head()"
   ]
  },
  {
   "cell_type": "code",
   "execution_count": null,
   "metadata": {
    "collapsed": true
   },
   "outputs": [],
   "source": [
    "enc_missing_df.head()"
   ]
  },
  {
   "cell_type": "markdown",
   "metadata": {},
   "source": [
    "## Get masks"
   ]
  },
  {
   "cell_type": "markdown",
   "metadata": {},
   "source": [
    "**Note:**\n",
    "- **nan_index_df**: 1: missing element, 0: available element \n",
    "- **avai_index_df**: 1: available element, 0: missing element\n",
    "- **pad_index_df**: 1: all element (prepare for padding later)"
   ]
  },
  {
   "cell_type": "markdown",
   "metadata": {},
   "source": [
    "### Mask for nan and avai"
   ]
  },
  {
   "cell_type": "code",
   "execution_count": null,
   "metadata": {
    "collapsed": true
   },
   "outputs": [],
   "source": [
    "c_df = enc_complete_df.copy()\n",
    "m_df = enc_missing_df.copy()\n",
    "enc_complete_df_w_normalized_time = c_df.drop(['CompleteTimestamp', 'CumTimeInterval'], axis=1)\n",
    "enc_missing_df_w_normalized_time = m_df.drop(['CompleteTimestamp', 'CumTimeInterval'], axis=1)"
   ]
  },
  {
   "cell_type": "code",
   "execution_count": null,
   "metadata": {
    "collapsed": true
   },
   "outputs": [],
   "source": [
    "c_df = enc_complete_df.copy()\n",
    "m_df = enc_missing_df.copy()\n",
    "enc_complete_df_w_time = c_df.drop(['CompleteTimestamp', 'NormalizedTime'], axis=1)\n",
    "enc_missing_df_w_time = m_df.drop(['CompleteTimestamp', 'NormalizedTime'], axis=1)"
   ]
  },
  {
   "cell_type": "code",
   "execution_count": null,
   "metadata": {
    "collapsed": true
   },
   "outputs": [],
   "source": [
    "avai_index_df = enc_missing_df_w_time.copy()\n",
    "nan_index_df = enc_missing_df_w_time.copy()"
   ]
  },
  {
   "cell_type": "code",
   "execution_count": null,
   "metadata": {
    "collapsed": true
   },
   "outputs": [],
   "source": [
    "#mask for Time\n",
    "for row in range(enc_missing_df_w_time.shape[0]):\n",
    "    if np.isnan(enc_missing_df_w_time.loc[row, 'CumTimeInterval']): # if nan Time\n",
    "        avai_index_df.loc[row, 'CumTimeInterval'] = 0\n",
    "        nan_index_df.loc[row, 'CumTimeInterval'] = 1\n",
    "    else:\n",
    "        avai_index_df.loc[row, 'CumTimeInterval'] = 1\n",
    "        nan_index_df.loc[row, 'CumTimeInterval'] = 0"
   ]
  },
  {
   "cell_type": "code",
   "execution_count": null,
   "metadata": {
    "collapsed": true
   },
   "outputs": [],
   "source": [
    "nan_index_df.head()"
   ]
  },
  {
   "cell_type": "code",
   "execution_count": null,
   "metadata": {
    "collapsed": true
   },
   "outputs": [],
   "source": [
    "#mask for Activity\n",
    "for row in range(enc_missing_df_w_time.shape[0]):\n",
    "    if np.any(enc_missing_df_w_time.iloc[row,2:]>0): #if avai Time\n",
    "        avai_index_df.iloc[row, 2:] = 1\n",
    "        nan_index_df.iloc[row, 2:] = 0\n",
    "    else:\n",
    "        avai_index_df.iloc[row, 2:] = 0\n",
    "        nan_index_df.iloc[row, 2:] = 1"
   ]
  },
  {
   "cell_type": "code",
   "execution_count": null,
   "metadata": {
    "collapsed": true
   },
   "outputs": [],
   "source": [
    "nan_index_df.head()"
   ]
  },
  {
   "cell_type": "markdown",
   "metadata": {},
   "source": [
    "### Mask for 0-padding"
   ]
  },
  {
   "cell_type": "code",
   "execution_count": null,
   "metadata": {
    "collapsed": true
   },
   "outputs": [],
   "source": [
    "pad_index_df = enc_complete_df.copy()\n",
    "cols = [x for x in list(pad_index_df) if x != 'CaseID']\n",
    "pad_index_df.loc[:, cols] = 1\n",
    "#padding_df[cols] = 1"
   ]
  },
  {
   "cell_type": "markdown",
   "metadata": {},
   "source": [
    "## Replace nan with 0"
   ]
  },
  {
   "cell_type": "code",
   "execution_count": null,
   "metadata": {
    "collapsed": true
   },
   "outputs": [],
   "source": [
    "enc_missing_df_w_normalized_time.head()"
   ]
  },
  {
   "cell_type": "code",
   "execution_count": null,
   "metadata": {
    "collapsed": true
   },
   "outputs": [],
   "source": [
    "enc_missing_df_w_normalized_time.fillna(0, inplace=True)\n",
    "enc_missing_df_w_time.fillna(0, inplace=True)"
   ]
  },
  {
   "cell_type": "code",
   "execution_count": null,
   "metadata": {
    "collapsed": true
   },
   "outputs": [],
   "source": [
    "enc_missing_df_w_normalized_time.head()"
   ]
  },
  {
   "cell_type": "markdown",
   "metadata": {},
   "source": [
    "## Pad with 0"
   ]
  },
  {
   "cell_type": "markdown",
   "metadata": {},
   "source": [
    "At this point, eliminate 'CaseID'"
   ]
  },
  {
   "cell_type": "markdown",
   "metadata": {},
   "source": [
    "**To do:**\n",
    "- Find longest case\n",
    "- Vectorize based on CaseID to get input"
   ]
  },
  {
   "cell_type": "code",
   "execution_count": null,
   "metadata": {
    "collapsed": true
   },
   "outputs": [],
   "source": [
    "enc_complete_w_normalized_time_groupByCase = enc_complete_df_w_normalized_time.groupby(['CaseID'])\n",
    "enc_missing_w_normalized_time_groupByCase = enc_missing_df_w_normalized_time.groupby(['CaseID'])\n",
    "\n",
    "enc_complete_w_time_groupByCase = enc_complete_df_w_time.groupby(['CaseID'])\n",
    "enc_missing_w_time_groupByCase = enc_missing_df_w_time.groupby(['CaseID'])\n",
    "\n",
    "avai_index_df_groupByCase = avai_index_df.groupby(['CaseID'])\n",
    "nan_index_df_groupByCase = nan_index_df.groupby(['CaseID'])\n",
    "pad_index_df_groupByCase = pad_index_df.groupby(['CaseID'])"
   ]
  },
  {
   "cell_type": "code",
   "execution_count": null,
   "metadata": {
    "collapsed": true
   },
   "outputs": [],
   "source": [
    "maxlen = findLongestLength(groupByCase)\n",
    "print('Length of longest case: {}'.format(maxlen))"
   ]
  },
  {
   "cell_type": "code",
   "execution_count": null,
   "metadata": {
    "collapsed": true
   },
   "outputs": [],
   "source": [
    "cols_w_time = [i for i in list(enc_complete_df_w_time) if i != 'CaseID']\n",
    "cols_w_time"
   ]
  },
  {
   "cell_type": "code",
   "execution_count": null,
   "metadata": {
    "collapsed": true
   },
   "outputs": [],
   "source": [
    "cols_w_normalized_time = [i for i in list(enc_complete_df_w_normalized_time) if i != 'CaseID']\n",
    "cols_w_normalized_time"
   ]
  },
  {
   "cell_type": "code",
   "execution_count": null,
   "metadata": {
    "collapsed": true
   },
   "outputs": [],
   "source": [
    "vectorized_complete_df_w_normalized_time = getInput(enc_complete_w_normalized_time_groupByCase, cols_w_normalized_time, maxlen)\n",
    "vectorized_missing_df_w_normalized_time = getInput(enc_missing_w_normalized_time_groupByCase, cols_w_normalized_time, maxlen)\n",
    "\n",
    "vectorized_complete_df_w_time = getInput(enc_complete_w_time_groupByCase, cols_w_time, maxlen)\n",
    "vectorized_missing_df_w_time = getInput(enc_missing_w_time_groupByCase, cols_w_time, maxlen)\n",
    "\n",
    "vectorized_avai_index_df = getInput(avai_index_df_groupByCase, cols_w_time, maxlen)\n",
    "vectorized_nan_index_df = getInput(nan_index_df_groupByCase, cols_w_time, maxlen)\n",
    "vectorized_pad_index_df = getInput(pad_index_df_groupByCase, cols_w_time, maxlen)"
   ]
  },
  {
   "cell_type": "code",
   "execution_count": null,
   "metadata": {
    "collapsed": true
   },
   "outputs": [],
   "source": [
    "vectorized_complete_df_w_normalized_time.shape, vectorized_missing_df_w_normalized_time.shape"
   ]
  },
  {
   "cell_type": "code",
   "execution_count": null,
   "metadata": {
    "collapsed": true
   },
   "outputs": [],
   "source": [
    "vectorized_complete_df_w_time.shape, vectorized_missing_df_w_time.shape"
   ]
  },
  {
   "cell_type": "code",
   "execution_count": null,
   "metadata": {
    "collapsed": true
   },
   "outputs": [],
   "source": [
    "vectorized_avai_index_df.shape, vectorized_nan_index_df.shape, vectorized_pad_index_df.shape"
   ]
  },
  {
   "cell_type": "markdown",
   "metadata": {},
   "source": [
    "# Split and save data"
   ]
  },
  {
   "cell_type": "code",
   "execution_count": null,
   "metadata": {
    "collapsed": true
   },
   "outputs": [],
   "source": [
    "# Split: 70% train, 10% validate, 20% test\n",
    "\n",
    "#train\n",
    "complete_matrix_w_normalized_time_train = vectorized_complete_df_w_normalized_time[:train_size]\n",
    "missing_matrix_w_normalized_time_train = vectorized_missing_df_w_normalized_time[:train_size]\n",
    "\n",
    "avai_matrix_train = vectorized_avai_index_df[:train_size]\n",
    "nan_matrix_train = vectorized_nan_index_df[:train_size]\n",
    "\n",
    "#validate\n",
    "complete_matrix_w_normalized_time_val = vectorized_complete_df_w_normalized_time[train_size:train_size+val_size]\n",
    "missing_matrix_w_normalized_time_val = vectorized_missing_df_w_normalized_time[train_size:train_size+val_size]\n",
    "\n",
    "avai_matrix_val = vectorized_avai_index_df[train_size:train_size+val_size]\n",
    "nan_matrix_val = vectorized_nan_index_df[train_size:train_size+val_size]\n",
    "pad_matrix_val = vectorized_pad_index_df[train_size:train_size+val_size]\n",
    "\n",
    "#test\n",
    "complete_matrix_w_normalized_time_test = vectorized_complete_df_w_normalized_time[train_size+val_size:]\n",
    "missing_matrix_w_normalized_time_test = vectorized_missing_df_w_normalized_time[train_size+val_size:]\n",
    "\n",
    "avai_matrix_test = vectorized_avai_index_df[train_size+val_size:]\n",
    "nan_matrix_test = vectorized_nan_index_df[train_size+val_size:]\n",
    "pad_matrix_test = vectorized_pad_index_df[train_size+val_size:]"
   ]
  },
  {
   "cell_type": "code",
   "execution_count": null,
   "metadata": {
    "collapsed": true
   },
   "outputs": [],
   "source": [
    "#check number of avai instances in test set\n",
    "print('Checking number of available instances in test set:...')\n",
    "check_avai = avai_matrix_test.copy()\n",
    "check_avai = check_avai.reshape(avai_matrix_test.shape[0]*avai_matrix_test.shape[1], avai_matrix_test.shape[2])\n",
    "check_avai = check_avai[np.all(check_avai == 1, axis=1)]\n",
    "print('Number of available row: {}'.format(check_avai.shape[0]))\n",
    "print(check_avai.shape[0] == avai_instance)\n",
    "\n",
    "print('\\n')\n",
    "\n",
    "#check number of nan instances in test set\n",
    "print('Checking number of nan instances in test set:...')\n",
    "check_nan = nan_matrix_test.copy()\n",
    "check_nan = check_nan.reshape(nan_matrix_test.shape[0]*nan_matrix_test.shape[1], nan_matrix_test.shape[2])\n",
    "check_nan = check_nan[np.any(check_nan != 0, axis=1)]\n",
    "print('Number of nan row: {}'.format(check_nan.shape[0]))\n",
    "print(check_nan.shape[0] == nan_instance)"
   ]
  },
  {
   "cell_type": "code",
   "execution_count": null,
   "metadata": {
    "collapsed": true
   },
   "outputs": [],
   "source": [
    "preprocessed_data_name = os.path.join(args.input_dir, 'preprocessed_data_{}.pkl'.format(args.nan_pct))\n",
    "with open(preprocessed_data_name, 'wb') as f:\n",
    "    pickle.dump(min_max_storage, f, protocol=2)\n",
    "    pickle.dump(complete_matrix_w_normalized_time_train, f, protocol=2)\n",
    "    pickle.dump(missing_matrix_w_normalized_time_train, f, protocol=2)\n",
    "    pickle.dump(avai_matrix_train, f, protocol=2)\n",
    "    pickle.dump(nan_matrix_train, f, protocol=2)\n",
    "    pickle.dump(complete_matrix_w_normalized_time_val, f, protocol=2)\n",
    "    pickle.dump(missing_matrix_w_normalized_time_val, f, protocol=2)\n",
    "    pickle.dump(avai_matrix_val, f, protocol=2)\n",
    "    pickle.dump(nan_matrix_val, f, protocol=2)\n",
    "    pickle.dump(pad_matrix_val, f, protocol=2)\n",
    "    pickle.dump(complete_matrix_w_normalized_time_test, f, protocol=2)\n",
    "    pickle.dump(missing_matrix_w_normalized_time_test, f, protocol=2)\n",
    "    pickle.dump(avai_matrix_test, f, protocol=2)\n",
    "    pickle.dump(nan_matrix_test, f, protocol=2)\n",
    "    pickle.dump(pad_matrix_test, f, protocol=2)\n",
    "    pickle.dump(cols_w_time, f, protocol=2)\n",
    "    pickle.dump(cols_w_normalized_time, f, protocol=2)"
   ]
  },
  {
   "cell_type": "code",
   "execution_count": null,
   "metadata": {
    "collapsed": true
   },
   "outputs": [],
   "source": [
    "args"
   ]
  },
  {
   "cell_type": "code",
   "execution_count": null,
   "metadata": {
    "collapsed": true
   },
   "outputs": [],
   "source": []
  }
 ],
 "metadata": {
  "kernelspec": {
   "display_name": "Python 3",
   "language": "python",
   "name": "python3"
  },
  "language_info": {
   "codemirror_mode": {
    "name": "ipython",
    "version": 3
   },
   "file_extension": ".py",
   "mimetype": "text/x-python",
   "name": "python",
   "nbconvert_exporter": "python",
   "pygments_lexer": "ipython3",
   "version": "3.5.4"
  },
  "toc": {
   "colors": {
    "hover_highlight": "#DAA520",
    "running_highlight": "#FF0000",
    "selected_highlight": "#FFD700"
   },
   "moveMenuLeft": true,
   "nav_menu": {
    "height": "48px",
    "width": "252px"
   },
   "navigate_menu": true,
   "number_sections": true,
   "sideBar": true,
   "threshold": 4,
   "toc_cell": false,
   "toc_section_display": "block",
   "toc_window_display": false
  }
 },
 "nbformat": 4,
 "nbformat_minor": 2
}

{
 "cells": [
  {
   "cell_type": "markdown",
   "metadata": {},
   "source": [
    "**Outline:**\n",
    "- Introduce missing values\n",
    "- Split data into train/val/test"
   ]
  },
  {
   "cell_type": "code",
   "execution_count": 1,
   "metadata": {
    "collapsed": true
   },
   "outputs": [],
   "source": [
    "import os, sys\n",
    "import argparse\n",
    "import pandas as pd\n",
    "import numpy as np\n",
    "import pickle"
   ]
  },
  {
   "cell_type": "code",
   "execution_count": 2,
   "metadata": {
    "collapsed": true
   },
   "outputs": [],
   "source": [
    "from dateutil.parser import parse\n",
    "from datetime import datetime\n",
    "import time\n",
    "import matplotlib.pyplot as plt\n",
    "import seaborn as sns\n",
    "\n",
    "%matplotlib inline\n",
    "\n",
    "pd.options.mode.chained_assignment = None #to run loop quicker without warnings"
   ]
  },
  {
   "cell_type": "code",
   "execution_count": 3,
   "metadata": {
    "collapsed": true
   },
   "outputs": [],
   "source": [
    "#name = 'bpi_2012'\n",
    "#name = 'bpi_2013'\n",
    "name = 'Road_Traffic_Fine_Management_Process'\n",
    "args = {\n",
    "    'data_dir': '../data/',\n",
    "    'data_file': name + '.csv',\n",
    "    'input_dir': '../input/{}/'.format(name),  \n",
    "    'nan_pct': 0.3,\n",
    "    'train_pct': 0.6,\n",
    "    'val_pct': 0.2,\n",
    "}\n",
    "\n",
    "args = argparse.Namespace(**args)"
   ]
  },
  {
   "cell_type": "code",
   "execution_count": 4,
   "metadata": {
    "collapsed": true
   },
   "outputs": [],
   "source": [
    "if not os.path.isdir('../input/'):\n",
    "    os.makedirs('../input/')\n",
    "    \n",
    "if not os.path.isdir(args.input_dir):\n",
    "    os.makedirs(args.input_dir)"
   ]
  },
  {
   "cell_type": "code",
   "execution_count": 5,
   "metadata": {
    "collapsed": true
   },
   "outputs": [],
   "source": [
    "sys.path.insert(0, './../utils/')\n",
    "from utils import *"
   ]
  },
  {
   "cell_type": "markdown",
   "metadata": {},
   "source": [
    "# Load data"
   ]
  },
  {
   "cell_type": "code",
   "execution_count": 6,
   "metadata": {
    "collapsed": true
   },
   "outputs": [],
   "source": [
    "# Only consider Case, Activity, Timestamp\n",
    "cols = ['CaseID', 'Activity', 'CompleteTimestamp']\n",
    "\n",
    "# For Timestamp: Convert to time\n",
    "if name == 'helpdesk':\n",
    "    data = pd.read_csv(args.data_dir + args.data_file)\n",
    "else:\n",
    "    data = pd.read_csv(args.data_dir + args.data_file, usecols=['Case ID', 'Activity', 'Complete Timestamp'])\n",
    "    data['Case ID'] = data['Case ID'].apply(lambda x: x.split(' ')[1])\n",
    "    \n",
    "\n",
    "# Format for each column     \n",
    "data.columns = cols\n",
    "data['CompleteTimestamp'] = pd.to_datetime(data['CompleteTimestamp'], errors='coerce')\n",
    "data['CaseID'] = data['CaseID'].apply(pd.to_numeric)\n",
    "data['Activity'] = data['Activity'].apply(str)"
   ]
  },
  {
   "cell_type": "code",
   "execution_count": 7,
   "metadata": {},
   "outputs": [
    {
     "data": {
      "text/html": [
       "<div>\n",
       "<style>\n",
       "    .dataframe thead tr:only-child th {\n",
       "        text-align: right;\n",
       "    }\n",
       "\n",
       "    .dataframe thead th {\n",
       "        text-align: left;\n",
       "    }\n",
       "\n",
       "    .dataframe tbody tr th {\n",
       "        vertical-align: top;\n",
       "    }\n",
       "</style>\n",
       "<table border=\"1\" class=\"dataframe\">\n",
       "  <thead>\n",
       "    <tr style=\"text-align: right;\">\n",
       "      <th></th>\n",
       "      <th>CaseID</th>\n",
       "      <th>Activity</th>\n",
       "      <th>CompleteTimestamp</th>\n",
       "    </tr>\n",
       "  </thead>\n",
       "  <tbody>\n",
       "    <tr>\n",
       "      <th>0</th>\n",
       "      <td>1</td>\n",
       "      <td>Create Fine</td>\n",
       "      <td>2006-07-24 07:00:00</td>\n",
       "    </tr>\n",
       "    <tr>\n",
       "      <th>1</th>\n",
       "      <td>1</td>\n",
       "      <td>Send Fine</td>\n",
       "      <td>2006-12-05 08:00:00</td>\n",
       "    </tr>\n",
       "    <tr>\n",
       "      <th>2</th>\n",
       "      <td>2</td>\n",
       "      <td>Create Fine</td>\n",
       "      <td>2006-08-02 07:00:00</td>\n",
       "    </tr>\n",
       "    <tr>\n",
       "      <th>3</th>\n",
       "      <td>2</td>\n",
       "      <td>Send Fine</td>\n",
       "      <td>2006-12-12 08:00:00</td>\n",
       "    </tr>\n",
       "    <tr>\n",
       "      <th>4</th>\n",
       "      <td>2</td>\n",
       "      <td>Insert Fine Notification</td>\n",
       "      <td>2007-01-15 08:00:00</td>\n",
       "    </tr>\n",
       "  </tbody>\n",
       "</table>\n",
       "</div>"
      ],
      "text/plain": [
       "   CaseID                  Activity   CompleteTimestamp\n",
       "0       1               Create Fine 2006-07-24 07:00:00\n",
       "1       1                 Send Fine 2006-12-05 08:00:00\n",
       "2       2               Create Fine 2006-08-02 07:00:00\n",
       "3       2                 Send Fine 2006-12-12 08:00:00\n",
       "4       2  Insert Fine Notification 2007-01-15 08:00:00"
      ]
     },
     "execution_count": 7,
     "metadata": {},
     "output_type": "execute_result"
    }
   ],
   "source": [
    "data.head()"
   ]
  },
  {
   "cell_type": "markdown",
   "metadata": {},
   "source": [
    "# Explore data"
   ]
  },
  {
   "cell_type": "code",
   "execution_count": 8,
   "metadata": {},
   "outputs": [
    {
     "name": "stdout",
     "output_type": "stream",
     "text": [
      "There are: 150370 cases\n",
      "There are: 11 activities\n"
     ]
    }
   ],
   "source": [
    "print('There are: {} cases'.format(len(data['CaseID'].unique())))\n",
    "print('There are: {} activities'.format(len(data['Activity'].unique())))"
   ]
  },
  {
   "cell_type": "code",
   "execution_count": 9,
   "metadata": {},
   "outputs": [
    {
     "name": "stdout",
     "output_type": "stream",
     "text": [
      "-----Frequency of different activities-----\n",
      "Create Fine                              150370\n",
      "Send Fine                                103987\n",
      "Add penalty                               79860\n",
      "Insert Fine Notification                  79860\n",
      "Payment                                   77601\n",
      "Send for Credit Collection                59013\n",
      "Insert Date Appeal to Prefecture           4188\n",
      "Send Appeal to Prefecture                  4141\n",
      "Receive Result Appeal from Prefecture       999\n",
      "Notify Result Appeal to Offender            896\n",
      "Appeal to Judge                             555\n",
      "Name: Activity, dtype: int64\n"
     ]
    }
   ],
   "source": [
    "print('-----Frequency of different activities-----')\n",
    "print(data['Activity'].value_counts())"
   ]
  },
  {
   "cell_type": "markdown",
   "metadata": {},
   "source": [
    "# Induce missing data"
   ]
  },
  {
   "cell_type": "markdown",
   "metadata": {},
   "source": [
    "**To do:**\n",
    "- nan_pct: percentage of nan values\n",
    "- Induce missingness: 30% data"
   ]
  },
  {
   "cell_type": "code",
   "execution_count": 10,
   "metadata": {},
   "outputs": [
    {
     "data": {
      "text/plain": [
       "(561470, 3)"
      ]
     },
     "execution_count": 10,
     "metadata": {},
     "output_type": "execute_result"
    }
   ],
   "source": [
    "data.shape"
   ]
  },
  {
   "cell_type": "code",
   "execution_count": 11,
   "metadata": {},
   "outputs": [
    {
     "name": "stdout",
     "output_type": "stream",
     "text": [
      "Number of missing values: 336882\n"
     ]
    }
   ],
   "source": [
    "total_NA = int(data.shape[0]*(data.shape[1]-1)*args.nan_pct)\n",
    "print('Number of missing values: {}'.format(total_NA))"
   ]
  },
  {
   "cell_type": "code",
   "execution_count": 12,
   "metadata": {},
   "outputs": [],
   "source": [
    "# introduce missing Activities and Timestamps\n",
    "missing_data = data.copy()\n",
    "i = 0\n",
    "while i < total_NA:\n",
    "    row = np.random.randint(1, data.shape[0]) #exclude first row\n",
    "    col = np.random.randint(1, data.shape[1]) #exclude CaseID\n",
    "    if not pd.isnull(missing_data.iloc[row, col]): \n",
    "        missing_data.iloc[row, col] = np.nan\n",
    "        i+=1"
   ]
  },
  {
   "cell_type": "code",
   "execution_count": 13,
   "metadata": {},
   "outputs": [
    {
     "name": "stdout",
     "output_type": "stream",
     "text": [
      "-----Frequency of different activities-----\n",
      "Create Fine                              104993\n",
      "Send Fine                                 72931\n",
      "Add penalty                               55964\n",
      "Insert Fine Notification                  55854\n",
      "Payment                                   54573\n",
      "Send for Credit Collection                41200\n",
      "Insert Date Appeal to Prefecture           2937\n",
      "Send Appeal to Prefecture                  2885\n",
      "Receive Result Appeal from Prefecture       705\n",
      "Notify Result Appeal to Offender            637\n",
      "Appeal to Judge                             379\n",
      "Name: Activity, dtype: int64\n"
     ]
    }
   ],
   "source": [
    "print('-----Frequency of different activities-----')\n",
    "print(missing_data['Activity'].value_counts())"
   ]
  },
  {
   "cell_type": "code",
   "execution_count": 14,
   "metadata": {},
   "outputs": [
    {
     "name": "stdout",
     "output_type": "stream",
     "text": [
      "Most frequent activity is: Create Fine\n"
     ]
    }
   ],
   "source": [
    "most_frequent_activity = missing_data['Activity'].value_counts().index[0]\n",
    "print('Most frequent activity is: {}'.format(most_frequent_activity))"
   ]
  },
  {
   "cell_type": "code",
   "execution_count": 15,
   "metadata": {
    "collapsed": true
   },
   "outputs": [],
   "source": [
    "first_timestamp = missing_data['CompleteTimestamp'][0]"
   ]
  },
  {
   "cell_type": "markdown",
   "metadata": {},
   "source": [
    "# Compute CumTimeInverval"
   ]
  },
  {
   "cell_type": "code",
   "execution_count": 16,
   "metadata": {
    "collapsed": true
   },
   "outputs": [],
   "source": [
    "missing_df = calculateCumTimeInterval(missing_data)\n",
    "missing_df['CumTimeInterval'] = missing_df['CumTimeInterval'].apply(convert2seconds)"
   ]
  },
  {
   "cell_type": "code",
   "execution_count": 17,
   "metadata": {},
   "outputs": [
    {
     "data": {
      "text/html": [
       "<div>\n",
       "<style>\n",
       "    .dataframe thead tr:only-child th {\n",
       "        text-align: right;\n",
       "    }\n",
       "\n",
       "    .dataframe thead th {\n",
       "        text-align: left;\n",
       "    }\n",
       "\n",
       "    .dataframe tbody tr th {\n",
       "        vertical-align: top;\n",
       "    }\n",
       "</style>\n",
       "<table border=\"1\" class=\"dataframe\">\n",
       "  <thead>\n",
       "    <tr style=\"text-align: right;\">\n",
       "      <th></th>\n",
       "      <th>CaseID</th>\n",
       "      <th>Activity</th>\n",
       "      <th>CompleteTimestamp</th>\n",
       "      <th>CumTimeInterval</th>\n",
       "    </tr>\n",
       "  </thead>\n",
       "  <tbody>\n",
       "    <tr>\n",
       "      <th>0</th>\n",
       "      <td>1</td>\n",
       "      <td>Create Fine</td>\n",
       "      <td>2006-07-24 07:00:00</td>\n",
       "      <td>0.0</td>\n",
       "    </tr>\n",
       "    <tr>\n",
       "      <th>1</th>\n",
       "      <td>1</td>\n",
       "      <td>Send Fine</td>\n",
       "      <td>2006-12-05 08:00:00</td>\n",
       "      <td>11581200.0</td>\n",
       "    </tr>\n",
       "    <tr>\n",
       "      <th>2</th>\n",
       "      <td>2</td>\n",
       "      <td>Create Fine</td>\n",
       "      <td>2006-08-02 07:00:00</td>\n",
       "      <td>777600.0</td>\n",
       "    </tr>\n",
       "    <tr>\n",
       "      <th>3</th>\n",
       "      <td>2</td>\n",
       "      <td>Send Fine</td>\n",
       "      <td>NaT</td>\n",
       "      <td>NaN</td>\n",
       "    </tr>\n",
       "    <tr>\n",
       "      <th>4</th>\n",
       "      <td>2</td>\n",
       "      <td>Insert Fine Notification</td>\n",
       "      <td>2007-01-15 08:00:00</td>\n",
       "      <td>15123600.0</td>\n",
       "    </tr>\n",
       "  </tbody>\n",
       "</table>\n",
       "</div>"
      ],
      "text/plain": [
       "   CaseID                  Activity   CompleteTimestamp  CumTimeInterval\n",
       "0       1               Create Fine 2006-07-24 07:00:00              0.0\n",
       "1       1                 Send Fine 2006-12-05 08:00:00       11581200.0\n",
       "2       2               Create Fine 2006-08-02 07:00:00         777600.0\n",
       "3       2                 Send Fine                 NaT              NaN\n",
       "4       2  Insert Fine Notification 2007-01-15 08:00:00       15123600.0"
      ]
     },
     "execution_count": 17,
     "metadata": {},
     "output_type": "execute_result"
    }
   ],
   "source": [
    "missing_df.head()"
   ]
  },
  {
   "cell_type": "markdown",
   "metadata": {},
   "source": [
    "# Split df to train/val/test"
   ]
  },
  {
   "cell_type": "code",
   "execution_count": 18,
   "metadata": {
    "collapsed": true
   },
   "outputs": [],
   "source": [
    "df = calculateCumTimeInterval(data)\n",
    "df['CumTimeInterval'] = df['CumTimeInterval'].apply(convert2seconds)"
   ]
  },
  {
   "cell_type": "code",
   "execution_count": 19,
   "metadata": {},
   "outputs": [
    {
     "data": {
      "text/html": [
       "<div>\n",
       "<style>\n",
       "    .dataframe thead tr:only-child th {\n",
       "        text-align: right;\n",
       "    }\n",
       "\n",
       "    .dataframe thead th {\n",
       "        text-align: left;\n",
       "    }\n",
       "\n",
       "    .dataframe tbody tr th {\n",
       "        vertical-align: top;\n",
       "    }\n",
       "</style>\n",
       "<table border=\"1\" class=\"dataframe\">\n",
       "  <thead>\n",
       "    <tr style=\"text-align: right;\">\n",
       "      <th></th>\n",
       "      <th>CaseID</th>\n",
       "      <th>Activity</th>\n",
       "      <th>CompleteTimestamp</th>\n",
       "      <th>CumTimeInterval</th>\n",
       "    </tr>\n",
       "  </thead>\n",
       "  <tbody>\n",
       "    <tr>\n",
       "      <th>0</th>\n",
       "      <td>1</td>\n",
       "      <td>Create Fine</td>\n",
       "      <td>2006-07-24 07:00:00</td>\n",
       "      <td>0.0</td>\n",
       "    </tr>\n",
       "    <tr>\n",
       "      <th>1</th>\n",
       "      <td>1</td>\n",
       "      <td>Send Fine</td>\n",
       "      <td>2006-12-05 08:00:00</td>\n",
       "      <td>11581200.0</td>\n",
       "    </tr>\n",
       "    <tr>\n",
       "      <th>2</th>\n",
       "      <td>2</td>\n",
       "      <td>Create Fine</td>\n",
       "      <td>2006-08-02 07:00:00</td>\n",
       "      <td>777600.0</td>\n",
       "    </tr>\n",
       "    <tr>\n",
       "      <th>3</th>\n",
       "      <td>2</td>\n",
       "      <td>Send Fine</td>\n",
       "      <td>2006-12-12 08:00:00</td>\n",
       "      <td>12186000.0</td>\n",
       "    </tr>\n",
       "    <tr>\n",
       "      <th>4</th>\n",
       "      <td>2</td>\n",
       "      <td>Insert Fine Notification</td>\n",
       "      <td>2007-01-15 08:00:00</td>\n",
       "      <td>15123600.0</td>\n",
       "    </tr>\n",
       "  </tbody>\n",
       "</table>\n",
       "</div>"
      ],
      "text/plain": [
       "   CaseID                  Activity   CompleteTimestamp  CumTimeInterval\n",
       "0       1               Create Fine 2006-07-24 07:00:00              0.0\n",
       "1       1                 Send Fine 2006-12-05 08:00:00       11581200.0\n",
       "2       2               Create Fine 2006-08-02 07:00:00         777600.0\n",
       "3       2                 Send Fine 2006-12-12 08:00:00       12186000.0\n",
       "4       2  Insert Fine Notification 2007-01-15 08:00:00       15123600.0"
      ]
     },
     "execution_count": 19,
     "metadata": {},
     "output_type": "execute_result"
    }
   ],
   "source": [
    "df.head()"
   ]
  },
  {
   "cell_type": "code",
   "execution_count": 20,
   "metadata": {
    "collapsed": true
   },
   "outputs": [],
   "source": [
    "groupByCase = df.groupby(['CaseID'])\n",
    "missing_groupByCase = missing_df.groupby(['CaseID'])\n",
    "\n",
    "# Split: 70% train, 10% validate, 20% test\n",
    "train_size = int(len(groupByCase)*args.train_pct)\n",
    "val_size = int(len(groupByCase)*args.val_pct)\n",
    "test_size = len(groupByCase) - train_size - val_size"
   ]
  },
  {
   "cell_type": "code",
   "execution_count": 21,
   "metadata": {},
   "outputs": [
    {
     "data": {
      "text/plain": [
       "(561470, 4)"
      ]
     },
     "execution_count": 21,
     "metadata": {},
     "output_type": "execute_result"
    }
   ],
   "source": [
    "df.shape"
   ]
  },
  {
   "cell_type": "code",
   "execution_count": 22,
   "metadata": {
    "collapsed": true
   },
   "outputs": [],
   "source": [
    "df_train = pd.DataFrame(columns=list(df))\n",
    "df_val = pd.DataFrame(columns=list(df))\n",
    "df_test = pd.DataFrame(columns=list(df))\n",
    "\n",
    "for caseid, data_case in groupByCase:\n",
    "    if caseid <= train_size:\n",
    "        df_train = df_train.append(data_case)\n",
    "    elif train_size < caseid <= (train_size+val_size):\n",
    "        df_val = df_val.append(data_case)\n",
    "    else:\n",
    "        df_test = df_test.append(data_case)"
   ]
  },
  {
   "cell_type": "code",
   "execution_count": 23,
   "metadata": {},
   "outputs": [
    {
     "data": {
      "text/plain": [
       "True"
      ]
     },
     "execution_count": 23,
     "metadata": {},
     "output_type": "execute_result"
    }
   ],
   "source": [
    "df.shape[0] == df_train.shape[0] + df_val.shape[0] + df_test.shape[0]"
   ]
  },
  {
   "cell_type": "code",
   "execution_count": 24,
   "metadata": {
    "collapsed": true
   },
   "outputs": [],
   "source": [
    "missing_df_train = pd.DataFrame(columns=list(missing_df))\n",
    "missing_df_val = pd.DataFrame(columns=list(missing_df))\n",
    "missing_df_test = pd.DataFrame(columns=list(missing_df))\n",
    "\n",
    "#Note: case start from 1 not 0\n",
    "for caseid, data_case in missing_groupByCase:\n",
    "    if caseid <= train_size:\n",
    "        missing_df_train = missing_df_train.append(data_case)\n",
    "    elif train_size < caseid <= train_size+val_size:\n",
    "        missing_df_val = missing_df_val.append(data_case)\n",
    "    else:\n",
    "        missing_df_test = missing_df_test.append(data_case)"
   ]
  },
  {
   "cell_type": "code",
   "execution_count": 25,
   "metadata": {},
   "outputs": [
    {
     "data": {
      "text/plain": [
       "True"
      ]
     },
     "execution_count": 25,
     "metadata": {},
     "output_type": "execute_result"
    }
   ],
   "source": [
    "missing_df.shape[0] == missing_df_train.shape[0] + missing_df_val.shape[0] + missing_df_test.shape[0]"
   ]
  },
  {
   "cell_type": "code",
   "execution_count": 26,
   "metadata": {},
   "outputs": [
    {
     "data": {
      "text/plain": [
       "(90222, 30074, 30074)"
      ]
     },
     "execution_count": 26,
     "metadata": {},
     "output_type": "execute_result"
    }
   ],
   "source": [
    "len(df_train.groupby(['CaseID'])), len(df_val.groupby(['CaseID'])), len(df_test.groupby(['CaseID']))"
   ]
  },
  {
   "cell_type": "code",
   "execution_count": 27,
   "metadata": {},
   "outputs": [
    {
     "data": {
      "text/plain": [
       "(90222, 30074, 30074)"
      ]
     },
     "execution_count": 27,
     "metadata": {},
     "output_type": "execute_result"
    }
   ],
   "source": [
    "train_size, val_size, test_size"
   ]
  },
  {
   "cell_type": "code",
   "execution_count": 28,
   "metadata": {},
   "outputs": [
    {
     "data": {
      "text/plain": [
       "(90222, 30074, 30074)"
      ]
     },
     "execution_count": 28,
     "metadata": {},
     "output_type": "execute_result"
    }
   ],
   "source": [
    "len(missing_df_train.groupby(['CaseID'])), len(missing_df_val.groupby(['CaseID'])), len(missing_df_test.groupby(['CaseID']))"
   ]
  },
  {
   "cell_type": "code",
   "execution_count": 29,
   "metadata": {},
   "outputs": [
    {
     "name": "stdout",
     "output_type": "stream",
     "text": [
      "(334500, 4) (106297, 4) (120673, 4)\n"
     ]
    }
   ],
   "source": [
    "#get number of rows\n",
    "print(df_train.shape, df_val.shape, df_test.shape)\n",
    "train_row_num = df_train.shape[0]\n",
    "val_row_num = df_val.shape[0]\n",
    "test_row_num = df_test.shape[0]"
   ]
  },
  {
   "cell_type": "code",
   "execution_count": 30,
   "metadata": {},
   "outputs": [
    {
     "data": {
      "text/html": [
       "<div>\n",
       "<style>\n",
       "    .dataframe thead tr:only-child th {\n",
       "        text-align: right;\n",
       "    }\n",
       "\n",
       "    .dataframe thead th {\n",
       "        text-align: left;\n",
       "    }\n",
       "\n",
       "    .dataframe tbody tr th {\n",
       "        vertical-align: top;\n",
       "    }\n",
       "</style>\n",
       "<table border=\"1\" class=\"dataframe\">\n",
       "  <thead>\n",
       "    <tr style=\"text-align: right;\">\n",
       "      <th></th>\n",
       "      <th>CaseID</th>\n",
       "      <th>Activity</th>\n",
       "      <th>CompleteTimestamp</th>\n",
       "      <th>CumTimeInterval</th>\n",
       "    </tr>\n",
       "  </thead>\n",
       "  <tbody>\n",
       "    <tr>\n",
       "      <th>440797</th>\n",
       "      <td>120297</td>\n",
       "      <td>Create Fine</td>\n",
       "      <td>NaT</td>\n",
       "      <td>NaN</td>\n",
       "    </tr>\n",
       "    <tr>\n",
       "      <th>440798</th>\n",
       "      <td>120297</td>\n",
       "      <td>Send Fine</td>\n",
       "      <td>2000-08-26 07:00:00</td>\n",
       "      <td>-186451200.0</td>\n",
       "    </tr>\n",
       "    <tr>\n",
       "      <th>440799</th>\n",
       "      <td>120297</td>\n",
       "      <td>NaN</td>\n",
       "      <td>2000-09-14 07:00:00</td>\n",
       "      <td>-184809600.0</td>\n",
       "    </tr>\n",
       "    <tr>\n",
       "      <th>440800</th>\n",
       "      <td>120297</td>\n",
       "      <td>NaN</td>\n",
       "      <td>2000-11-13 08:00:00</td>\n",
       "      <td>-179622000.0</td>\n",
       "    </tr>\n",
       "    <tr>\n",
       "      <th>440801</th>\n",
       "      <td>120297</td>\n",
       "      <td>Send for Credit Collection</td>\n",
       "      <td>2002-04-10 07:00:00</td>\n",
       "      <td>-135302400.0</td>\n",
       "    </tr>\n",
       "  </tbody>\n",
       "</table>\n",
       "</div>"
      ],
      "text/plain": [
       "        CaseID                    Activity   CompleteTimestamp  \\\n",
       "440797  120297                 Create Fine                 NaT   \n",
       "440798  120297                   Send Fine 2000-08-26 07:00:00   \n",
       "440799  120297                         NaN 2000-09-14 07:00:00   \n",
       "440800  120297                         NaN 2000-11-13 08:00:00   \n",
       "440801  120297  Send for Credit Collection 2002-04-10 07:00:00   \n",
       "\n",
       "        CumTimeInterval  \n",
       "440797              NaN  \n",
       "440798     -186451200.0  \n",
       "440799     -184809600.0  \n",
       "440800     -179622000.0  \n",
       "440801     -135302400.0  "
      ]
     },
     "execution_count": 30,
     "metadata": {},
     "output_type": "execute_result"
    }
   ],
   "source": [
    "missing_df_test.head()"
   ]
  },
  {
   "cell_type": "code",
   "execution_count": 31,
   "metadata": {},
   "outputs": [
    {
     "name": "stdout",
     "output_type": "stream",
     "text": [
      "Number of available row: 59203\n"
     ]
    }
   ],
   "source": [
    "avai_instance = 0\n",
    "for row in range(len(missing_df_test)):\n",
    "    if not pd.isnull(missing_df_test['CumTimeInterval'].iloc[row]) and not pd.isnull(missing_df_test['Activity'].iloc[row]):\n",
    "        avai_instance+=1\n",
    "        \n",
    "print('Number of available row: {}'.format(avai_instance))"
   ]
  },
  {
   "cell_type": "code",
   "execution_count": 32,
   "metadata": {},
   "outputs": [
    {
     "name": "stdout",
     "output_type": "stream",
     "text": [
      "Number of nan row: 61470\n"
     ]
    }
   ],
   "source": [
    "nan_instance = 0\n",
    "for row in range(len(missing_df_test)):\n",
    "    if pd.isnull(missing_df_test['CumTimeInterval'].iloc[row]) or pd.isnull(missing_df_test['Activity'].iloc[row]):\n",
    "        nan_instance+=1\n",
    "        \n",
    "print('Number of nan row: {}'.format(nan_instance))"
   ]
  },
  {
   "cell_type": "code",
   "execution_count": 33,
   "metadata": {},
   "outputs": [
    {
     "data": {
      "text/plain": [
       "True"
      ]
     },
     "execution_count": 33,
     "metadata": {},
     "output_type": "execute_result"
    }
   ],
   "source": [
    "missing_df_test.shape[0] == avai_instance + nan_instance"
   ]
  },
  {
   "cell_type": "markdown",
   "metadata": {},
   "source": [
    "# Save df"
   ]
  },
  {
   "cell_type": "code",
   "execution_count": 34,
   "metadata": {
    "collapsed": true
   },
   "outputs": [],
   "source": [
    "df_name = os.path.join(args.input_dir, 'complete_df_full_{}.csv'.format(args.nan_pct))\n",
    "df.to_csv(df_name, index=False)\n",
    "\n",
    "missing_df_name = os.path.join(args.input_dir, 'missing_df_full_{}.csv'.format(args.nan_pct))\n",
    "missing_df.to_csv(missing_df_name, index=False)"
   ]
  },
  {
   "cell_type": "code",
   "execution_count": 35,
   "metadata": {
    "collapsed": true
   },
   "outputs": [],
   "source": [
    "#df_train.to_csv(args.input_dir+'complete_df_train.csv', index=False)\n",
    "#df_val.to_csv(args.input_dir+'complete_df_val.csv', index=False)\n",
    "#df_test.to_csv(args.input_dir+'complete_df_test.csv', index=False)"
   ]
  },
  {
   "cell_type": "code",
   "execution_count": 36,
   "metadata": {
    "collapsed": true
   },
   "outputs": [],
   "source": [
    "#missing_df_train.to_csv(args.input_dir+'missing_df_train.csv', index=False)\n",
    "#missing_df_val.to_csv(args.input_dir+'missing_df_val.csv', index=False)\n",
    "#missing_df_test.to_csv(args.input_dir+'missing_df_test.csv', index=False)"
   ]
  },
  {
   "cell_type": "code",
   "execution_count": 37,
   "metadata": {},
   "outputs": [
    {
     "data": {
      "text/plain": [
       "CaseID                    0\n",
       "Activity             168412\n",
       "CompleteTimestamp    168470\n",
       "CumTimeInterval      168470\n",
       "dtype: int64"
      ]
     },
     "execution_count": 37,
     "metadata": {},
     "output_type": "execute_result"
    }
   ],
   "source": [
    "pd.isnull(missing_df).sum()"
   ]
  },
  {
   "cell_type": "code",
   "execution_count": 38,
   "metadata": {},
   "outputs": [
    {
     "data": {
      "text/plain": [
       "CaseID                    0\n",
       "Activity             100385\n",
       "CompleteTimestamp    100493\n",
       "CumTimeInterval      100493\n",
       "dtype: int64"
      ]
     },
     "execution_count": 38,
     "metadata": {},
     "output_type": "execute_result"
    }
   ],
   "source": [
    "pd.isnull(missing_df_train).sum()"
   ]
  },
  {
   "cell_type": "code",
   "execution_count": 39,
   "metadata": {},
   "outputs": [
    {
     "data": {
      "text/plain": [
       "CaseID                   0\n",
       "Activity             31904\n",
       "CompleteTimestamp    31753\n",
       "CumTimeInterval      31753\n",
       "dtype: int64"
      ]
     },
     "execution_count": 39,
     "metadata": {},
     "output_type": "execute_result"
    }
   ],
   "source": [
    "pd.isnull(missing_df_val).sum()"
   ]
  },
  {
   "cell_type": "code",
   "execution_count": 40,
   "metadata": {
    "scrolled": true
   },
   "outputs": [
    {
     "data": {
      "text/plain": [
       "CaseID                   0\n",
       "Activity             36123\n",
       "CompleteTimestamp    36224\n",
       "CumTimeInterval      36224\n",
       "dtype: int64"
      ]
     },
     "execution_count": 40,
     "metadata": {},
     "output_type": "execute_result"
    }
   ],
   "source": [
    "pd.isnull(missing_df_test).sum()"
   ]
  },
  {
   "cell_type": "markdown",
   "metadata": {},
   "source": [
    "# Save parameters"
   ]
  },
  {
   "cell_type": "code",
   "execution_count": 41,
   "metadata": {
    "collapsed": true
   },
   "outputs": [],
   "source": [
    "file_name = os.path.join(args.input_dir, 'parameters_{}.pkl'.format(args.nan_pct))\n",
    "with open(file_name, 'wb') as f: \n",
    "    pickle.dump(most_frequent_activity, f, protocol=2)\n",
    "    pickle.dump(first_timestamp, f, protocol=2)\n",
    "    pickle.dump(avai_instance, f, protocol=2)\n",
    "    pickle.dump(nan_instance, f, protocol=2)\n",
    "    pickle.dump(train_size, f, protocol=2)\n",
    "    pickle.dump(val_size, f, protocol=2)\n",
    "    pickle.dump(test_size, f, protocol=2)\n",
    "    pickle.dump(train_row_num, f, protocol=2)\n",
    "    pickle.dump(val_row_num, f, protocol=2)\n",
    "    pickle.dump(test_row_num, f, protocol=2)"
   ]
  },
  {
   "cell_type": "code",
   "execution_count": null,
   "metadata": {
    "collapsed": true
   },
   "outputs": [],
   "source": []
  }
 ],
 "metadata": {
  "kernelspec": {
   "display_name": "Python 3",
   "language": "python",
   "name": "python3"
  },
  "language_info": {
   "codemirror_mode": {
    "name": "ipython",
    "version": 3
   },
   "file_extension": ".py",
   "mimetype": "text/x-python",
   "name": "python",
   "nbconvert_exporter": "python",
   "pygments_lexer": "ipython3",
   "version": "3.5.4"
  },
  "toc": {
   "colors": {
    "hover_highlight": "#DAA520",
    "running_highlight": "#FF0000",
    "selected_highlight": "#FFD700"
   },
   "moveMenuLeft": true,
   "nav_menu": {
    "height": "48px",
    "width": "252px"
   },
   "navigate_menu": true,
   "number_sections": true,
   "sideBar": true,
   "threshold": 4,
   "toc_cell": false,
   "toc_section_display": "block",
   "toc_window_display": false
  }
 },
 "nbformat": 4,
 "nbformat_minor": 2
}

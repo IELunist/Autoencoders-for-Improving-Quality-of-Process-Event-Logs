{
 "cells": [
  {
   "cell_type": "markdown",
   "metadata": {},
   "source": [
    "This is the implementation of [**Autoencoder**](http://www.iro.umontreal.ca/~lisa/bib/pub_subject/language/pointeurs/bengio+lecun-chapter2007.pdf)"
   ]
  },
  {
   "cell_type": "markdown",
   "metadata": {
    "deletable": true,
    "editable": true
   },
   "source": [
    "**Outline:**\n",
    "- Build model and loss function\n",
    "- Train model\n",
    "- Observe valdidate\n",
    "- Test"
   ]
  },
  {
   "cell_type": "markdown",
   "metadata": {
    "deletable": true,
    "editable": true
   },
   "source": [
    "**To do:**\n",
    "- Hyperparameter tuning\n",
    "    + lr\n",
    "    + layer1, layer2\n",
    "    + betas"
   ]
  },
  {
   "cell_type": "markdown",
   "metadata": {
    "deletable": true,
    "editable": true
   },
   "source": [
    "**Modification**\n",
    "- Weight initialization with xavier uniform\n",
    "- Adam optimization\n",
    "- LR decay"
   ]
  },
  {
   "cell_type": "code",
   "execution_count": 1,
   "metadata": {
    "collapsed": true,
    "deletable": true,
    "editable": true
   },
   "outputs": [],
   "source": [
    "import importlib\n",
    "import argparse\n",
    "import os, sys\n",
    "import argparse\n",
    "import pandas as pd\n",
    "import numpy as np\n",
    "import pickle\n",
    "import time"
   ]
  },
  {
   "cell_type": "code",
   "execution_count": 2,
   "metadata": {
    "collapsed": true,
    "deletable": true,
    "editable": true
   },
   "outputs": [],
   "source": [
    "import torch\n",
    "import torch.utils.data\n",
    "import torch.nn.functional as F\n",
    "import torch.nn as nn\n",
    "import torch.optim as optim\n",
    "import torch.optim.lr_scheduler\n",
    "from torch.autograd import Variable\n",
    "from torchvision import transforms"
   ]
  },
  {
   "cell_type": "code",
   "execution_count": 3,
   "metadata": {
    "collapsed": true,
    "deletable": true,
    "editable": true
   },
   "outputs": [],
   "source": [
    "sys.path.insert(0, './../utils/')\n",
    "from utils import *\n",
    "from models import *"
   ]
  },
  {
   "cell_type": "code",
   "execution_count": 4,
   "metadata": {
    "collapsed": true,
    "deletable": true,
    "editable": true
   },
   "outputs": [],
   "source": [
    "#Define parser\n",
    "#name = 'bpi_2012'\n",
    "#name = 'bpi_2013'\n",
    "#name = 'small_log'\n",
    "name = 'large_log'\n",
    "\n",
    "parser = {\n",
    "    'train': True,\n",
    "    'test': True,\n",
    "    'model_class': 'AE', #AE/AE_tanh\n",
    "    'model_name': '',\n",
    "    'data_dir': '../data/',\n",
    "    'data_file': name + '.csv',\n",
    "    'nan_pct': 0.35,\n",
    "    'input_dir': '../input/{}/'.format(name),\n",
    "    'batch_size' : 16,\n",
    "    'epochs' : 30,\n",
    "    'no_cuda' : False,\n",
    "    'seed' : 7,\n",
    "    'layer1': 50,\n",
    "    'layer2': 20,\n",
    "    'lr': 0.001,\n",
    "    'betas': (0.9, 0.999),   \n",
    "    'lr_decay': 0.99,\n",
    "}\n",
    "\n",
    "args = argparse.Namespace(**parser)\n",
    "args.output_dir = './output/{0}_{1}_{2}/'.format(name, args.nan_pct, args.model_class)"
   ]
  },
  {
   "cell_type": "code",
   "execution_count": 5,
   "metadata": {
    "collapsed": true,
    "deletable": true,
    "editable": true
   },
   "outputs": [],
   "source": [
    "if not os.path.isdir(args.output_dir):\n",
    "    os.makedirs(args.output_dir)"
   ]
  },
  {
   "cell_type": "code",
   "execution_count": 6,
   "metadata": {
    "collapsed": true,
    "deletable": true,
    "editable": true
   },
   "outputs": [],
   "source": [
    "args.cuda = not args.no_cuda and torch.cuda.is_available()"
   ]
  },
  {
   "cell_type": "code",
   "execution_count": 7,
   "metadata": {
    "collapsed": true,
    "deletable": true,
    "editable": true
   },
   "outputs": [],
   "source": [
    "torch.manual_seed(args.seed)\n",
    "if args.cuda:\n",
    "    torch.cuda.manual_seed(args.seed)"
   ]
  },
  {
   "cell_type": "code",
   "execution_count": 8,
   "metadata": {
    "collapsed": true,
    "deletable": true,
    "editable": true
   },
   "outputs": [],
   "source": [
    "kwargs = {'num_workers': 2, 'pin_memory': True} if args.cuda else {}"
   ]
  },
  {
   "cell_type": "code",
   "execution_count": 9,
   "metadata": {
    "collapsed": true,
    "deletable": true,
    "editable": true
   },
   "outputs": [],
   "source": [
    "preprocessed_data_name = os.path.join(args.input_dir, 'preprocessed_data_{}.pkl'.format(args.nan_pct))\n",
    "with open(preprocessed_data_name, 'rb') as f:\n",
    "    min_max_storage = pickle.load(f)\n",
    "    complete_matrix_w_normalized_time_train = pickle.load(f)\n",
    "    missing_matrix_w_normalized_time_train = pickle.load(f)\n",
    "    avai_matrix_train = pickle.load(f)\n",
    "    nan_matrix_train = pickle.load(f)\n",
    "    complete_matrix_w_normalized_time_val = pickle.load(f)\n",
    "    missing_matrix_w_normalized_time_val = pickle.load(f)\n",
    "    avai_matrix_val = pickle.load(f)\n",
    "    nan_matrix_val = pickle.load(f)\n",
    "    pad_matrix_val = pickle.load(f)\n",
    "    complete_matrix_w_normalized_time_test = pickle.load(f)\n",
    "    missing_matrix_w_normalized_time_test = pickle.load(f)\n",
    "    avai_matrix_test = pickle.load(f)\n",
    "    nan_matrix_test = pickle.load(f)\n",
    "    pad_matrix_test = pickle.load(f)\n",
    "    cols_w_time = pickle.load(f)\n",
    "    cols_w_normalized_time = pickle.load(f)"
   ]
  },
  {
   "cell_type": "code",
   "execution_count": 10,
   "metadata": {
    "collapsed": true,
    "deletable": true,
    "editable": true
   },
   "outputs": [],
   "source": [
    "file_name = os.path.join(args.input_dir, 'parameters_{}.pkl'.format(args.nan_pct))\n",
    "with open(file_name, 'rb') as f:\n",
    "    most_frequent_activity = pickle.load(f)\n",
    "    first_timestamp = pickle.load(f)\n",
    "    avai_instance = pickle.load(f)\n",
    "    nan_instance = pickle.load(f)\n",
    "    train_size = pickle.load(f)\n",
    "    val_size = pickle.load(f)\n",
    "    test_size = pickle.load(f)\n",
    "    train_row_num = pickle.load(f)\n",
    "    val_row_num = pickle.load(f)\n",
    "    test_row_num = pickle.load(f)"
   ]
  },
  {
   "cell_type": "markdown",
   "metadata": {
    "deletable": true,
    "editable": true
   },
   "source": [
    "# Load data"
   ]
  },
  {
   "cell_type": "markdown",
   "metadata": {
    "deletable": true,
    "editable": true
   },
   "source": [
    "## Train"
   ]
  },
  {
   "cell_type": "code",
   "execution_count": 11,
   "metadata": {
    "collapsed": true,
    "deletable": true,
    "editable": true
   },
   "outputs": [],
   "source": [
    "complete_matrix_w_normalized_time_trainLoader = torch.utils.data.DataLoader(complete_matrix_w_normalized_time_train, \n",
    "                                                                            batch_size=args.batch_size, shuffle=False, \n",
    "                                                                            num_workers=2)\n",
    "missing_matrix_w_normalized_time_trainLoader = torch.utils.data.DataLoader(missing_matrix_w_normalized_time_train, \n",
    "                                                                           batch_size=args.batch_size, shuffle=False, \n",
    "                                                                           num_workers=2)\n",
    "avai_matrix_trainLoader = torch.utils.data.DataLoader(avai_matrix_train, \n",
    "                                                      batch_size=args.batch_size, shuffle=False, \n",
    "                                                      num_workers=2)"
   ]
  },
  {
   "cell_type": "markdown",
   "metadata": {
    "deletable": true,
    "editable": true
   },
   "source": [
    "## Validate and test"
   ]
  },
  {
   "cell_type": "code",
   "execution_count": 12,
   "metadata": {
    "collapsed": true,
    "deletable": true,
    "editable": true
   },
   "outputs": [],
   "source": [
    "normalized_complete_df_name = os.path.join(args.input_dir, 'normalized_complete_df_{}.csv'.format(args.nan_pct))\n",
    "normalized_complete_df = pd.read_csv(normalized_complete_df_name)\n",
    "\n",
    "normalized_missing_df_name = os.path.join(args.input_dir, 'normalized_missing_df_{}.csv'.format(args.nan_pct))\n",
    "normalized_missing_df = pd.read_csv(normalized_missing_df_name)"
   ]
  },
  {
   "cell_type": "code",
   "execution_count": 13,
   "metadata": {
    "collapsed": true,
    "deletable": true,
    "editable": true
   },
   "outputs": [],
   "source": [
    "missing_true_val = normalized_missing_df[train_row_num:-test_row_num].reset_index(drop=True)\n",
    "complete_true_val = normalized_complete_df[train_row_num:-test_row_num].reset_index(drop=True)"
   ]
  },
  {
   "cell_type": "code",
   "execution_count": 14,
   "metadata": {
    "collapsed": true,
    "deletable": true,
    "editable": true
   },
   "outputs": [],
   "source": [
    "missing_true_test = normalized_missing_df[-test_row_num:].reset_index(drop=True)\n",
    "complete_true_test = normalized_complete_df[-test_row_num:].reset_index(drop=True)"
   ]
  },
  {
   "cell_type": "code",
   "execution_count": 15,
   "metadata": {
    "collapsed": false,
    "deletable": true,
    "editable": true
   },
   "outputs": [
    {
     "data": {
      "text/plain": [
       "((24000, 5), (24000, 5))"
      ]
     },
     "execution_count": 15,
     "metadata": {},
     "output_type": "execute_result"
    }
   ],
   "source": [
    "missing_true_val.shape, missing_true_test.shape"
   ]
  },
  {
   "cell_type": "code",
   "execution_count": 16,
   "metadata": {
    "collapsed": true,
    "deletable": true,
    "editable": true
   },
   "outputs": [],
   "source": [
    "nan_time_index_val, nan_activity_index_val = getnanindex(missing_true_val)"
   ]
  },
  {
   "cell_type": "code",
   "execution_count": 17,
   "metadata": {
    "collapsed": true,
    "deletable": true,
    "editable": true
   },
   "outputs": [],
   "source": [
    "nan_time_index_test, nan_activity_index_test = getnanindex(missing_true_test)"
   ]
  },
  {
   "cell_type": "code",
   "execution_count": 18,
   "metadata": {
    "collapsed": false,
    "deletable": true,
    "editable": true
   },
   "outputs": [
    {
     "data": {
      "text/plain": [
       "CaseID                   0\n",
       "Activity             41945\n",
       "CompleteTimestamp    42055\n",
       "CumTimeInterval      42055\n",
       "NormalizedTime       42055\n",
       "dtype: int64"
      ]
     },
     "execution_count": 18,
     "metadata": {},
     "output_type": "execute_result"
    }
   ],
   "source": [
    "pd.isnull(normalized_missing_df).sum()"
   ]
  },
  {
   "cell_type": "code",
   "execution_count": 19,
   "metadata": {
    "collapsed": false,
    "deletable": true,
    "editable": true
   },
   "outputs": [
    {
     "data": {
      "text/plain": [
       "CaseID                  0\n",
       "Activity             8453\n",
       "CompleteTimestamp    8313\n",
       "CumTimeInterval      8313\n",
       "NormalizedTime       8313\n",
       "dtype: int64"
      ]
     },
     "execution_count": 19,
     "metadata": {},
     "output_type": "execute_result"
    }
   ],
   "source": [
    "pd.isnull(missing_true_val).sum()"
   ]
  },
  {
   "cell_type": "code",
   "execution_count": 20,
   "metadata": {
    "collapsed": false,
    "deletable": true,
    "editable": true
   },
   "outputs": [
    {
     "data": {
      "text/plain": [
       "CaseID                  0\n",
       "Activity             8296\n",
       "CompleteTimestamp    8435\n",
       "CumTimeInterval      8435\n",
       "NormalizedTime       8435\n",
       "dtype: int64"
      ]
     },
     "execution_count": 20,
     "metadata": {},
     "output_type": "execute_result"
    }
   ],
   "source": [
    "pd.isnull(missing_true_test).sum()"
   ]
  },
  {
   "cell_type": "markdown",
   "metadata": {
    "deletable": true,
    "editable": true
   },
   "source": [
    "# Build model"
   ]
  },
  {
   "cell_type": "markdown",
   "metadata": {
    "deletable": true,
    "editable": true
   },
   "source": [
    "## Define model"
   ]
  },
  {
   "cell_type": "code",
   "execution_count": 21,
   "metadata": {
    "collapsed": true,
    "deletable": true,
    "editable": true
   },
   "outputs": [],
   "source": [
    "if args.model_class == 'AE':\n",
    "    model = AE(complete_matrix_w_normalized_time_train.shape, args.layer1, args.layer2)\n",
    "    \n",
    "if args.model_class == 'AE_tanh':\n",
    "    model = AE_tanh(complete_matrix_w_normalized_time_train.shape, args.layer1, args.layer2)\n",
    "\n",
    "if args.model_class == 'AE_dropout':\n",
    "    model = AE_dropout(complete_matrix_w_normalized_time_train.shape, args.layer1, args.layer2)\n",
    "    \n",
    "if args.cuda:\n",
    "    model.cuda()"
   ]
  },
  {
   "cell_type": "code",
   "execution_count": 22,
   "metadata": {
    "collapsed": false,
    "deletable": true,
    "editable": true
   },
   "outputs": [
    {
     "data": {
      "text/plain": [
       "AE (\n",
       "  (fc1): Linear (88 -> 50)\n",
       "  (fc2): Linear (50 -> 20)\n",
       "  (fc3): Linear (20 -> 50)\n",
       "  (fc4): Linear (50 -> 88)\n",
       "  (sigmoid): Sigmoid ()\n",
       ")"
      ]
     },
     "execution_count": 22,
     "metadata": {},
     "output_type": "execute_result"
    }
   ],
   "source": [
    "model"
   ]
  },
  {
   "cell_type": "markdown",
   "metadata": {
    "deletable": true,
    "editable": true
   },
   "source": [
    "## Define loss"
   ]
  },
  {
   "cell_type": "code",
   "execution_count": 23,
   "metadata": {
    "collapsed": true,
    "deletable": true,
    "editable": true
   },
   "outputs": [],
   "source": [
    "# Define loss\n",
    "def loss_function(recon_x, x, avai_mask):\n",
    "    BCE = F.binary_cross_entropy(recon_x, x, weight=avai_mask, size_average=False) \n",
    "    return BCE"
   ]
  },
  {
   "cell_type": "code",
   "execution_count": 24,
   "metadata": {
    "collapsed": true,
    "deletable": true,
    "editable": true
   },
   "outputs": [],
   "source": [
    "optimizer = optim.Adam(model.parameters(), lr=args.lr, betas=args.betas)"
   ]
  },
  {
   "cell_type": "code",
   "execution_count": 25,
   "metadata": {
    "collapsed": true,
    "deletable": true,
    "editable": true
   },
   "outputs": [],
   "source": [
    "#Adjust learning rate per epoch: http://pytorch.org/docs/master/optim.html?highlight=lr_scheduler#torch.optim.lr_scheduler.LambdaLR\n",
    "\n",
    "# Method 1:\n",
    "lambda1 = lambda epoch: args.lr_decay ** epoch\n",
    "scheduler = torch.optim.lr_scheduler.LambdaLR(optimizer, lr_lambda=[lambda1])\n",
    "\n",
    "# Method 2:\n",
    "#scheduler = torch.optim.lr_scheduler.ReduceLROnPlateau(optimizer, 'min', patience=10)"
   ]
  },
  {
   "cell_type": "markdown",
   "metadata": {
    "deletable": true,
    "editable": true
   },
   "source": [
    "## Utils"
   ]
  },
  {
   "cell_type": "code",
   "execution_count": 26,
   "metadata": {
    "collapsed": true,
    "deletable": true,
    "editable": true
   },
   "outputs": [],
   "source": [
    "def save_model(model, epoch, score):\n",
    "    model_file = os.path.join(args.output_dir, 'model_{}_epoch{}_score{:.4f}.pth'.format(args.model_class, epoch, score))\n",
    "    torch.save(model.state_dict(), model_file)"
   ]
  },
  {
   "cell_type": "code",
   "execution_count": 27,
   "metadata": {
    "collapsed": true,
    "deletable": true,
    "editable": true
   },
   "outputs": [],
   "source": [
    "def load_model(model, model_name):\n",
    "    model_file = os.path.join(args.output_dir, model_name)\n",
    "    assert os.path.isfile(model_file), 'Error: no model found!'\n",
    "    model_state = torch.load(model_file)\n",
    "    model.load_state_dict(model_state)"
   ]
  },
  {
   "cell_type": "code",
   "execution_count": 28,
   "metadata": {
    "collapsed": true,
    "deletable": true,
    "editable": true
   },
   "outputs": [],
   "source": [
    "def val(model, missing_matrix_w_normalized_time_val, complete_matrix_w_normalized_time_val, avai_matrix_val):   \n",
    "    model.eval()\n",
    "    m_val = missing_matrix_w_normalized_time_val\n",
    "    m_val = Variable(torch.Tensor(m_val).float())\n",
    "    \n",
    "    c_val = complete_matrix_w_normalized_time_val\n",
    "    c_val = Variable(torch.Tensor(c_val).float())\n",
    "    \n",
    "    avai_matrix_val = Variable(torch.Tensor(avai_matrix_val).float())\n",
    "    \n",
    "    if args.cuda:\n",
    "        m_val = m_val.cuda()\n",
    "        c_val = c_val.cuda()\n",
    "        avai_matrix_val = avai_matrix_val.cuda()\n",
    "\n",
    "    recon_val = model(m_val)\n",
    "    val_loss = loss_function(recon_val, c_val, avai_matrix_val)    \n",
    "    \n",
    "    return val_loss.data[0]/len(c_val.data)"
   ]
  },
  {
   "cell_type": "code",
   "execution_count": 29,
   "metadata": {
    "collapsed": false,
    "deletable": true,
    "editable": true
   },
   "outputs": [
    {
     "data": {
      "text/html": [
       "<div>\n",
       "<style>\n",
       "    .dataframe thead tr:only-child th {\n",
       "        text-align: right;\n",
       "    }\n",
       "\n",
       "    .dataframe thead th {\n",
       "        text-align: left;\n",
       "    }\n",
       "\n",
       "    .dataframe tbody tr th {\n",
       "        vertical-align: top;\n",
       "    }\n",
       "</style>\n",
       "<table border=\"1\" class=\"dataframe\">\n",
       "  <thead>\n",
       "    <tr style=\"text-align: right;\">\n",
       "      <th></th>\n",
       "      <th>CaseID</th>\n",
       "      <th>Activity</th>\n",
       "      <th>CompleteTimestamp</th>\n",
       "      <th>CumTimeInterval</th>\n",
       "      <th>NormalizedTime</th>\n",
       "    </tr>\n",
       "  </thead>\n",
       "  <tbody>\n",
       "    <tr>\n",
       "      <th>0</th>\n",
       "      <td>9001</td>\n",
       "      <td>Activity A</td>\n",
       "      <td>1970-01-01 09:00:00</td>\n",
       "      <td>0.0</td>\n",
       "      <td>0.000000</td>\n",
       "    </tr>\n",
       "    <tr>\n",
       "      <th>1</th>\n",
       "      <td>9001</td>\n",
       "      <td>Activity C</td>\n",
       "      <td>1970-01-01 10:00:00</td>\n",
       "      <td>3600.0</td>\n",
       "      <td>0.199999</td>\n",
       "    </tr>\n",
       "    <tr>\n",
       "      <th>2</th>\n",
       "      <td>9001</td>\n",
       "      <td>NaN</td>\n",
       "      <td>1970-01-01 10:00:00</td>\n",
       "      <td>3600.0</td>\n",
       "      <td>0.199999</td>\n",
       "    </tr>\n",
       "    <tr>\n",
       "      <th>3</th>\n",
       "      <td>9001</td>\n",
       "      <td>Activity B</td>\n",
       "      <td>1970-01-01 11:00:00</td>\n",
       "      <td>7200.0</td>\n",
       "      <td>0.399998</td>\n",
       "    </tr>\n",
       "    <tr>\n",
       "      <th>4</th>\n",
       "      <td>9001</td>\n",
       "      <td>Activity E</td>\n",
       "      <td>1970-01-01 12:00:00</td>\n",
       "      <td>10800.0</td>\n",
       "      <td>0.599997</td>\n",
       "    </tr>\n",
       "  </tbody>\n",
       "</table>\n",
       "</div>"
      ],
      "text/plain": [
       "   CaseID    Activity    CompleteTimestamp  CumTimeInterval  NormalizedTime\n",
       "0    9001  Activity A  1970-01-01 09:00:00              0.0        0.000000\n",
       "1    9001  Activity C  1970-01-01 10:00:00           3600.0        0.199999\n",
       "2    9001         NaN  1970-01-01 10:00:00           3600.0        0.199999\n",
       "3    9001  Activity B  1970-01-01 11:00:00           7200.0        0.399998\n",
       "4    9001  Activity E  1970-01-01 12:00:00          10800.0        0.599997"
      ]
     },
     "execution_count": 29,
     "metadata": {},
     "output_type": "execute_result"
    }
   ],
   "source": [
    "missing_true_val.head()"
   ]
  },
  {
   "cell_type": "code",
   "execution_count": 30,
   "metadata": {
    "collapsed": false,
    "deletable": true,
    "editable": true
   },
   "outputs": [
    {
     "data": {
      "text/html": [
       "<div>\n",
       "<style>\n",
       "    .dataframe thead tr:only-child th {\n",
       "        text-align: right;\n",
       "    }\n",
       "\n",
       "    .dataframe thead th {\n",
       "        text-align: left;\n",
       "    }\n",
       "\n",
       "    .dataframe tbody tr th {\n",
       "        vertical-align: top;\n",
       "    }\n",
       "</style>\n",
       "<table border=\"1\" class=\"dataframe\">\n",
       "  <thead>\n",
       "    <tr style=\"text-align: right;\">\n",
       "      <th></th>\n",
       "      <th>CaseID</th>\n",
       "      <th>Activity</th>\n",
       "      <th>CompleteTimestamp</th>\n",
       "      <th>CumTimeInterval</th>\n",
       "      <th>NormalizedTime</th>\n",
       "    </tr>\n",
       "  </thead>\n",
       "  <tbody>\n",
       "    <tr>\n",
       "      <th>0</th>\n",
       "      <td>9001</td>\n",
       "      <td>Activity A</td>\n",
       "      <td>1970-01-01 09:00:00</td>\n",
       "      <td>0.0</td>\n",
       "      <td>0.000000</td>\n",
       "    </tr>\n",
       "    <tr>\n",
       "      <th>1</th>\n",
       "      <td>9001</td>\n",
       "      <td>Activity C</td>\n",
       "      <td>1970-01-01 10:00:00</td>\n",
       "      <td>3600.0</td>\n",
       "      <td>0.166666</td>\n",
       "    </tr>\n",
       "    <tr>\n",
       "      <th>2</th>\n",
       "      <td>9001</td>\n",
       "      <td>Activity D</td>\n",
       "      <td>1970-01-01 10:00:00</td>\n",
       "      <td>3600.0</td>\n",
       "      <td>0.166666</td>\n",
       "    </tr>\n",
       "    <tr>\n",
       "      <th>3</th>\n",
       "      <td>9001</td>\n",
       "      <td>Activity B</td>\n",
       "      <td>1970-01-01 11:00:00</td>\n",
       "      <td>7200.0</td>\n",
       "      <td>0.333332</td>\n",
       "    </tr>\n",
       "    <tr>\n",
       "      <th>4</th>\n",
       "      <td>9001</td>\n",
       "      <td>Activity E</td>\n",
       "      <td>1970-01-01 12:00:00</td>\n",
       "      <td>10800.0</td>\n",
       "      <td>0.499998</td>\n",
       "    </tr>\n",
       "  </tbody>\n",
       "</table>\n",
       "</div>"
      ],
      "text/plain": [
       "   CaseID    Activity    CompleteTimestamp  CumTimeInterval  NormalizedTime\n",
       "0    9001  Activity A  1970-01-01 09:00:00              0.0        0.000000\n",
       "1    9001  Activity C  1970-01-01 10:00:00           3600.0        0.166666\n",
       "2    9001  Activity D  1970-01-01 10:00:00           3600.0        0.166666\n",
       "3    9001  Activity B  1970-01-01 11:00:00           7200.0        0.333332\n",
       "4    9001  Activity E  1970-01-01 12:00:00          10800.0        0.499998"
      ]
     },
     "execution_count": 30,
     "metadata": {},
     "output_type": "execute_result"
    }
   ],
   "source": [
    "complete_true_val.head()"
   ]
  },
  {
   "cell_type": "markdown",
   "metadata": {
    "deletable": true,
    "editable": true
   },
   "source": [
    "# Train model"
   ]
  },
  {
   "cell_type": "code",
   "execution_count": 31,
   "metadata": {
    "collapsed": true,
    "deletable": true,
    "editable": true
   },
   "outputs": [],
   "source": [
    "def train(epoch, model, optimizer):\n",
    "    model.train()\n",
    "    train_loss = 0\n",
    "    for batch_idx, (m_data, c_data, avai_mask) in enumerate(zip(missing_matrix_w_normalized_time_trainLoader, \n",
    "                                                                complete_matrix_w_normalized_time_trainLoader,\n",
    "                                                                avai_matrix_trainLoader)):\n",
    "        c_data = Variable(c_data.float())\n",
    "        m_data = Variable(m_data.float())\n",
    "        avai_mask = Variable(avai_mask.float())\n",
    "\n",
    "        if args.cuda:\n",
    "            c_data = c_data.cuda()\n",
    "            m_data = m_data.cuda()\n",
    "            avai_mask = avai_mask.cuda()\n",
    "\n",
    "            \n",
    "        optimizer.zero_grad()\n",
    "        \n",
    "        recon_data = model(m_data)\n",
    "        \n",
    "        loss = loss_function(recon_data, c_data, avai_mask)\n",
    "        \n",
    "        loss.backward()\n",
    "        train_loss += loss.data[0]\n",
    "        optimizer.step()\n",
    "        \n",
    "    return train_loss / len(complete_matrix_w_normalized_time_trainLoader.dataset)"
   ]
  },
  {
   "cell_type": "code",
   "execution_count": 32,
   "metadata": {
    "collapsed": false,
    "deletable": true,
    "editable": true
   },
   "outputs": [
    {
     "name": "stdout",
     "output_type": "stream",
     "text": [
      "====> Epoch 1 | Train time: 1400.5868 ms| End time: 1445.0674 ms | Train loss: 6.2403 | Val score: 3.4845\n",
      "====> Epoch 2 | Train time: 1314.8725 ms| End time: 1358.8841 ms | Train loss: 3.1846 | Val score: 2.6668\n",
      "====> Epoch 3 | Train time: 1275.8229 ms| End time: 1319.7517 ms | Train loss: 2.3409 | Val score: 2.2173\n",
      "====> Epoch 4 | Train time: 1302.7868 ms| End time: 1342.8094 ms | Train loss: 2.1820 | Val score: 2.1836\n",
      "====> Epoch 5 | Train time: 1251.4348 ms| End time: 1295.4035 ms | Train loss: 2.1644 | Val score: 2.1750\n",
      "====> Epoch 6 | Train time: 1295.5415 ms| End time: 1339.4792 ms | Train loss: 2.1587 | Val score: 2.1715\n",
      "====> Epoch 7 | Train time: 1332.6180 ms| End time: 1376.3120 ms | Train loss: 2.1561 | Val score: 2.1697\n",
      "====> Epoch 8 | Train time: 1263.7649 ms| End time: 1303.7450 ms | Train loss: 2.1547 | Val score: 2.1687\n",
      "====> Epoch 9 | Train time: 1303.4406 ms| End time: 1347.4517 ms | Train loss: 2.1539 | Val score: 2.1681\n",
      "====> Epoch 10 | Train time: 1310.7765 ms| End time: 1350.8389 ms | Train loss: 2.1534 | Val score: 2.1677\n",
      "====> Epoch 11 | Train time: 1304.7028 ms| End time: 1348.4626 ms | Train loss: 2.1531 | Val score: 2.1675\n",
      "====> Epoch 12 | Train time: 1289.2110 ms| End time: 1332.8896 ms | Train loss: 2.1528 | Val score: 2.1673\n",
      "====> Epoch 13 | Train time: 1285.3072 ms| End time: 1329.3099 ms | Train loss: 2.1527 | Val score: 2.1671\n",
      "====> Epoch 14 | Train time: 1253.2225 ms| End time: 1293.1774 ms | Train loss: 2.1526 | Val score: 2.1670\n",
      "====> Epoch 15 | Train time: 1309.9804 ms| End time: 1353.8299 ms | Train loss: 2.1525 | Val score: 2.1670\n",
      "====> Epoch 16 | Train time: 1315.9533 ms| End time: 1359.5257 ms | Train loss: 2.1524 | Val score: 2.1669\n",
      "====> Epoch 17 | Train time: 1336.5014 ms| End time: 1381.0952 ms | Train loss: 2.1524 | Val score: 2.1668\n",
      "====> Epoch 18 | Train time: 1291.6703 ms| End time: 1335.1984 ms | Train loss: 2.1523 | Val score: 2.1668\n",
      "====> Epoch 19 | Train time: 1334.8298 ms| End time: 1379.1564 ms | Train loss: 2.1523 | Val score: 2.1668\n",
      "====> Epoch 20 | Train time: 1331.2619 ms| End time: 1375.7443 ms | Train loss: 2.1523 | Val score: 2.1668\n",
      "====> Epoch 21 | Train time: 1273.7060 ms| End time: 1313.8585 ms | Train loss: 2.1523 | Val score: 2.1668\n",
      "====> Epoch 22 | Train time: 1323.7915 ms| End time: 1370.3525 ms | Train loss: 2.1523 | Val score: 2.1668\n",
      "====> Epoch 23 | Train time: 1298.7549 ms| End time: 1342.3147 ms | Train loss: 2.1523 | Val score: 2.1668\n",
      "====> Epoch 24 | Train time: 1263.3483 ms| End time: 1305.8314 ms | Train loss: 2.1523 | Val score: 2.1667\n",
      "====> Epoch 25 | Train time: 1301.0814 ms| End time: 1345.3007 ms | Train loss: 2.1523 | Val score: 2.1667\n",
      "====> Epoch 26 | Train time: 1299.2651 ms| End time: 1339.0582 ms | Train loss: 2.1523 | Val score: 2.1668\n",
      "====> Epoch 27 | Train time: 1248.0409 ms| End time: 1291.6527 ms | Train loss: 2.1523 | Val score: 2.1667\n",
      "====> Epoch 28 | Train time: 1280.4399 ms| End time: 1323.5075 ms | Train loss: 2.1523 | Val score: 2.1667\n",
      "====> Epoch 29 | Train time: 1295.7914 ms| End time: 1339.8616 ms | Train loss: 2.1523 | Val score: 2.1667\n",
      "====> Epoch 30 | Train time: 1286.0434 ms| End time: 1329.6447 ms | Train loss: 2.1523 | Val score: 2.1667\n"
     ]
    }
   ],
   "source": [
    "if args.train:\n",
    "    for epoch in range(1, args.epochs + 1):\n",
    "        init = time.time()\n",
    "        \n",
    "        #method 1 scheduler\n",
    "        scheduler.step()\n",
    "        train_loss = train(epoch, model, optimizer)\n",
    "        end_train = time.time()\n",
    "        \n",
    "        val_score = val(model, missing_matrix_w_normalized_time_val, \n",
    "                        complete_matrix_w_normalized_time_val, avai_matrix_val)\n",
    "        \n",
    "        '''\n",
    "        #save_model(model, epoch, val_score)\n",
    "        if epoch == 1:\n",
    "            current_best = val_score\n",
    "            save_model(model, epoch, val_score)\n",
    "        \n",
    "        else:\n",
    "            if val_score < current_best:\n",
    "                current_best = val_score\n",
    "                save_model(model, epoch, val_score)\n",
    "        '''\n",
    "        \n",
    "        #method 2 scheduler\n",
    "        #scheduler.step(val_score)\n",
    "        \n",
    "        end = time.time()\n",
    "        print('====> Epoch {} | Train time: {:.4f} ms| End time: {:.4f} ms | Train loss: {:.4f} | Val score: {:.4f}'.\n",
    "              format(epoch, (end_train-init)*1000, (end-init)*1000, train_loss, val_score))\n",
    "else:\n",
    "    load_model(model, args.model_name)"
   ]
  },
  {
   "cell_type": "markdown",
   "metadata": {
    "collapsed": true,
    "deletable": true,
    "editable": true
   },
   "source": [
    "# Predict and evaluate"
   ]
  },
  {
   "cell_type": "code",
   "execution_count": 33,
   "metadata": {
    "collapsed": false,
    "deletable": true,
    "editable": true,
    "scrolled": true
   },
   "outputs": [
    {
     "name": "stdout",
     "output_type": "stream",
     "text": [
      "Predicting...\n",
      "\n",
      "\n",
      "Converting to dataframe...\n",
      "Transforming Normalized Time to Time...\n",
      "Getting submission...\n"
     ]
    },
    {
     "name": "stderr",
     "output_type": "stream",
     "text": [
      "/home/pllab/miniconda2/envs/pydata/lib/python3.5/site-packages/pandas/core/indexing.py:517: SettingWithCopyWarning: \n",
      "A value is trying to be set on a copy of a slice from a DataFrame.\n",
      "Try using .loc[row_indexer,col_indexer] = value instead\n",
      "\n",
      "See the caveats in the documentation: http://pandas.pydata.org/pandas-docs/stable/indexing.html#indexing-view-versus-copy\n",
      "  self.obj[item] = s\n"
     ]
    },
    {
     "name": "stdout",
     "output_type": "stream",
     "text": [
      "Testing...\n",
      "Number of missing Time: 8435\n",
      "Mean Absolute Error: 0.0282 day(s)\n",
      "Root Mean Squared Error: 0.0435 day(s)\n",
      "Number of missing Activity: 8296\n",
      "Accuracy: 87.02%\n",
      "\n",
      "\n",
      "Saving submission...\n",
      "Done!\n"
     ]
    }
   ],
   "source": [
    "if args.test:\n",
    "    m_test = missing_matrix_w_normalized_time_test\n",
    "    m_test = Variable(torch.Tensor(m_test).float())\n",
    "    \n",
    "    if args.cuda:\n",
    "        m_test = m_test.cuda()\n",
    "    \n",
    "    print('Predicting...')\n",
    "    recon_test = model(m_test)\n",
    "    \n",
    "    print('\\n')\n",
    "    print('Converting to dataframe...')\n",
    "    recon_df_w_normalized_time = convert2df(recon_test, pad_matrix_test, cols_w_normalized_time, test_row_num)\n",
    "    \n",
    "    print('Transforming Normalized Time to Time...')\n",
    "    recon_df_w_time = getDfWithTime(recon_df_w_normalized_time, missing_true_test, min_max_storage)\n",
    "    \n",
    "    print('Getting submission...')\n",
    "    submission_df = getSubmission(recon_df_w_time, missing_true_test, complete_true_test, first_timestamp)\n",
    "    submission = fixTime(submission_df)\n",
    "    \n",
    "    print('Testing...')\n",
    "    mae_time, rmse_time, acc = evaluation(submission, nan_time_index_test, nan_activity_index_test,show=True)\n",
    "    print('\\n')\n",
    "    \n",
    "    print('Saving submission...')\n",
    "    submission_df.to_csv(args.output_dir+'submission.csv', index=False)\n",
    "    print('Done!')"
   ]
  },
  {
   "cell_type": "code",
   "execution_count": 34,
   "metadata": {
    "collapsed": false,
    "deletable": true,
    "editable": true
   },
   "outputs": [
    {
     "data": {
      "text/html": [
       "<div>\n",
       "<style>\n",
       "    .dataframe thead tr:only-child th {\n",
       "        text-align: right;\n",
       "    }\n",
       "\n",
       "    .dataframe thead th {\n",
       "        text-align: left;\n",
       "    }\n",
       "\n",
       "    .dataframe tbody tr th {\n",
       "        vertical-align: top;\n",
       "    }\n",
       "</style>\n",
       "<table border=\"1\" class=\"dataframe\">\n",
       "  <thead>\n",
       "    <tr style=\"text-align: right;\">\n",
       "      <th></th>\n",
       "      <th>CaseID</th>\n",
       "      <th>TrueActivity</th>\n",
       "      <th>PredictedActivity</th>\n",
       "      <th>TrueTime</th>\n",
       "      <th>PredictedTime</th>\n",
       "      <th>TrueCompleteTimestamp</th>\n",
       "      <th>PredictedCompleteTimestamp</th>\n",
       "    </tr>\n",
       "  </thead>\n",
       "  <tbody>\n",
       "    <tr>\n",
       "      <th>0</th>\n",
       "      <td>12001</td>\n",
       "      <td>Activity A</td>\n",
       "      <td>Activity A</td>\n",
       "      <td>0.0</td>\n",
       "      <td>7200.000083</td>\n",
       "      <td>1970-01-01 09:00:00</td>\n",
       "      <td>1970-01-01 11:00:00.000083</td>\n",
       "    </tr>\n",
       "    <tr>\n",
       "      <th>1</th>\n",
       "      <td>12001</td>\n",
       "      <td>Activity D</td>\n",
       "      <td>Activity D</td>\n",
       "      <td>3600.0</td>\n",
       "      <td>9005.077774</td>\n",
       "      <td>1970-01-01 10:00:00</td>\n",
       "      <td>1970-01-01 11:30:05.077774</td>\n",
       "    </tr>\n",
       "    <tr>\n",
       "      <th>2</th>\n",
       "      <td>12001</td>\n",
       "      <td>Activity C</td>\n",
       "      <td>Activity C</td>\n",
       "      <td>3600.0</td>\n",
       "      <td>9000.129857</td>\n",
       "      <td>1970-01-01 10:00:00</td>\n",
       "      <td>1970-01-01 11:30:00.129857</td>\n",
       "    </tr>\n",
       "    <tr>\n",
       "      <th>3</th>\n",
       "      <td>12001</td>\n",
       "      <td>Activity B</td>\n",
       "      <td>Activity B</td>\n",
       "      <td>7200.0</td>\n",
       "      <td>7200.000000</td>\n",
       "      <td>1970-01-01 11:00:00</td>\n",
       "      <td>1970-01-01 11:00:00</td>\n",
       "    </tr>\n",
       "    <tr>\n",
       "      <th>4</th>\n",
       "      <td>12001</td>\n",
       "      <td>Activity E</td>\n",
       "      <td>Activity E</td>\n",
       "      <td>10800.0</td>\n",
       "      <td>10800.000000</td>\n",
       "      <td>1970-01-01 12:00:00</td>\n",
       "      <td>1970-01-01 12:00:00</td>\n",
       "    </tr>\n",
       "    <tr>\n",
       "      <th>5</th>\n",
       "      <td>12001</td>\n",
       "      <td>Activity I</td>\n",
       "      <td>Activity H</td>\n",
       "      <td>14400.0</td>\n",
       "      <td>14394.246863</td>\n",
       "      <td>1970-01-01 13:00:00</td>\n",
       "      <td>1970-01-01 12:59:54.246863</td>\n",
       "    </tr>\n",
       "    <tr>\n",
       "      <th>6</th>\n",
       "      <td>12001</td>\n",
       "      <td>Activity F</td>\n",
       "      <td>Activity F</td>\n",
       "      <td>18000.0</td>\n",
       "      <td>18000.000000</td>\n",
       "      <td>1970-01-01 14:00:00</td>\n",
       "      <td>1970-01-01 14:00:00</td>\n",
       "    </tr>\n",
       "    <tr>\n",
       "      <th>7</th>\n",
       "      <td>12001</td>\n",
       "      <td>Activity J</td>\n",
       "      <td>Activity J</td>\n",
       "      <td>21600.0</td>\n",
       "      <td>18000.052364</td>\n",
       "      <td>1970-01-01 15:00:00</td>\n",
       "      <td>1970-01-01 14:00:00.052364</td>\n",
       "    </tr>\n",
       "    <tr>\n",
       "      <th>8</th>\n",
       "      <td>12002</td>\n",
       "      <td>Activity A</td>\n",
       "      <td>Activity A</td>\n",
       "      <td>0.0</td>\n",
       "      <td>0.000000</td>\n",
       "      <td>1970-01-01 09:00:00</td>\n",
       "      <td>1970-01-01 09:00:00</td>\n",
       "    </tr>\n",
       "    <tr>\n",
       "      <th>9</th>\n",
       "      <td>12002</td>\n",
       "      <td>Activity C</td>\n",
       "      <td>Activity C</td>\n",
       "      <td>3600.0</td>\n",
       "      <td>3642.145890</td>\n",
       "      <td>1970-01-01 10:00:00</td>\n",
       "      <td>1970-01-01 10:00:42.145890</td>\n",
       "    </tr>\n",
       "  </tbody>\n",
       "</table>\n",
       "</div>"
      ],
      "text/plain": [
       "   CaseID TrueActivity PredictedActivity  TrueTime  PredictedTime  \\\n",
       "0   12001   Activity A        Activity A       0.0    7200.000083   \n",
       "1   12001   Activity D        Activity D    3600.0    9005.077774   \n",
       "2   12001   Activity C        Activity C    3600.0    9000.129857   \n",
       "3   12001   Activity B        Activity B    7200.0    7200.000000   \n",
       "4   12001   Activity E        Activity E   10800.0   10800.000000   \n",
       "5   12001   Activity I        Activity H   14400.0   14394.246863   \n",
       "6   12001   Activity F        Activity F   18000.0   18000.000000   \n",
       "7   12001   Activity J        Activity J   21600.0   18000.052364   \n",
       "8   12002   Activity A        Activity A       0.0       0.000000   \n",
       "9   12002   Activity C        Activity C    3600.0    3642.145890   \n",
       "\n",
       "  TrueCompleteTimestamp  PredictedCompleteTimestamp  \n",
       "0   1970-01-01 09:00:00  1970-01-01 11:00:00.000083  \n",
       "1   1970-01-01 10:00:00  1970-01-01 11:30:05.077774  \n",
       "2   1970-01-01 10:00:00  1970-01-01 11:30:00.129857  \n",
       "3   1970-01-01 11:00:00         1970-01-01 11:00:00  \n",
       "4   1970-01-01 12:00:00         1970-01-01 12:00:00  \n",
       "5   1970-01-01 13:00:00  1970-01-01 12:59:54.246863  \n",
       "6   1970-01-01 14:00:00         1970-01-01 14:00:00  \n",
       "7   1970-01-01 15:00:00  1970-01-01 14:00:00.052364  \n",
       "8   1970-01-01 09:00:00         1970-01-01 09:00:00  \n",
       "9   1970-01-01 10:00:00  1970-01-01 10:00:42.145890  "
      ]
     },
     "execution_count": 34,
     "metadata": {},
     "output_type": "execute_result"
    }
   ],
   "source": [
    "submission_df.head(10)"
   ]
  },
  {
   "cell_type": "code",
   "execution_count": 35,
   "metadata": {
    "collapsed": false,
    "deletable": true,
    "editable": true
   },
   "outputs": [
    {
     "data": {
      "text/html": [
       "<div>\n",
       "<style>\n",
       "    .dataframe thead tr:only-child th {\n",
       "        text-align: right;\n",
       "    }\n",
       "\n",
       "    .dataframe thead th {\n",
       "        text-align: left;\n",
       "    }\n",
       "\n",
       "    .dataframe tbody tr th {\n",
       "        vertical-align: top;\n",
       "    }\n",
       "</style>\n",
       "<table border=\"1\" class=\"dataframe\">\n",
       "  <thead>\n",
       "    <tr style=\"text-align: right;\">\n",
       "      <th></th>\n",
       "      <th>CaseID</th>\n",
       "      <th>TrueActivity</th>\n",
       "      <th>PredictedActivity</th>\n",
       "      <th>TrueTime</th>\n",
       "      <th>PredictedTime</th>\n",
       "      <th>TrueCompleteTimestamp</th>\n",
       "      <th>PredictedCompleteTimestamp</th>\n",
       "    </tr>\n",
       "  </thead>\n",
       "  <tbody>\n",
       "    <tr>\n",
       "      <th>0</th>\n",
       "      <td>12001</td>\n",
       "      <td>Activity A</td>\n",
       "      <td>Activity A</td>\n",
       "      <td>0.0</td>\n",
       "      <td>7200.000083</td>\n",
       "      <td>1970-01-01 09:00:00</td>\n",
       "      <td>1970-01-01 11:00:00.000083</td>\n",
       "    </tr>\n",
       "    <tr>\n",
       "      <th>1</th>\n",
       "      <td>12001</td>\n",
       "      <td>Activity D</td>\n",
       "      <td>Activity D</td>\n",
       "      <td>3600.0</td>\n",
       "      <td>9005.077774</td>\n",
       "      <td>1970-01-01 10:00:00</td>\n",
       "      <td>1970-01-01 11:30:05.077774</td>\n",
       "    </tr>\n",
       "    <tr>\n",
       "      <th>2</th>\n",
       "      <td>12001</td>\n",
       "      <td>Activity C</td>\n",
       "      <td>Activity C</td>\n",
       "      <td>3600.0</td>\n",
       "      <td>9005.077774</td>\n",
       "      <td>1970-01-01 10:00:00</td>\n",
       "      <td>1970-01-01 11:30:05.077774</td>\n",
       "    </tr>\n",
       "    <tr>\n",
       "      <th>3</th>\n",
       "      <td>12001</td>\n",
       "      <td>Activity B</td>\n",
       "      <td>Activity B</td>\n",
       "      <td>7200.0</td>\n",
       "      <td>9005.077774</td>\n",
       "      <td>1970-01-01 11:00:00</td>\n",
       "      <td>1970-01-01 11:30:05.077774</td>\n",
       "    </tr>\n",
       "    <tr>\n",
       "      <th>4</th>\n",
       "      <td>12001</td>\n",
       "      <td>Activity E</td>\n",
       "      <td>Activity E</td>\n",
       "      <td>10800.0</td>\n",
       "      <td>10800.000000</td>\n",
       "      <td>1970-01-01 12:00:00</td>\n",
       "      <td>1970-01-01 12:00:00</td>\n",
       "    </tr>\n",
       "    <tr>\n",
       "      <th>5</th>\n",
       "      <td>12001</td>\n",
       "      <td>Activity I</td>\n",
       "      <td>Activity H</td>\n",
       "      <td>14400.0</td>\n",
       "      <td>14394.246863</td>\n",
       "      <td>1970-01-01 13:00:00</td>\n",
       "      <td>1970-01-01 12:59:54.246863</td>\n",
       "    </tr>\n",
       "    <tr>\n",
       "      <th>6</th>\n",
       "      <td>12001</td>\n",
       "      <td>Activity F</td>\n",
       "      <td>Activity F</td>\n",
       "      <td>18000.0</td>\n",
       "      <td>18000.000000</td>\n",
       "      <td>1970-01-01 14:00:00</td>\n",
       "      <td>1970-01-01 14:00:00</td>\n",
       "    </tr>\n",
       "    <tr>\n",
       "      <th>7</th>\n",
       "      <td>12001</td>\n",
       "      <td>Activity J</td>\n",
       "      <td>Activity J</td>\n",
       "      <td>21600.0</td>\n",
       "      <td>18000.052364</td>\n",
       "      <td>1970-01-01 15:00:00</td>\n",
       "      <td>1970-01-01 14:00:00.052364</td>\n",
       "    </tr>\n",
       "    <tr>\n",
       "      <th>8</th>\n",
       "      <td>12002</td>\n",
       "      <td>Activity A</td>\n",
       "      <td>Activity A</td>\n",
       "      <td>0.0</td>\n",
       "      <td>0.000000</td>\n",
       "      <td>1970-01-01 09:00:00</td>\n",
       "      <td>1970-01-01 09:00:00</td>\n",
       "    </tr>\n",
       "    <tr>\n",
       "      <th>9</th>\n",
       "      <td>12002</td>\n",
       "      <td>Activity C</td>\n",
       "      <td>Activity C</td>\n",
       "      <td>3600.0</td>\n",
       "      <td>3642.145890</td>\n",
       "      <td>1970-01-01 10:00:00</td>\n",
       "      <td>1970-01-01 10:00:42.145890</td>\n",
       "    </tr>\n",
       "  </tbody>\n",
       "</table>\n",
       "</div>"
      ],
      "text/plain": [
       "  CaseID TrueActivity PredictedActivity  TrueTime  PredictedTime  \\\n",
       "0  12001   Activity A        Activity A       0.0    7200.000083   \n",
       "1  12001   Activity D        Activity D    3600.0    9005.077774   \n",
       "2  12001   Activity C        Activity C    3600.0    9005.077774   \n",
       "3  12001   Activity B        Activity B    7200.0    9005.077774   \n",
       "4  12001   Activity E        Activity E   10800.0   10800.000000   \n",
       "5  12001   Activity I        Activity H   14400.0   14394.246863   \n",
       "6  12001   Activity F        Activity F   18000.0   18000.000000   \n",
       "7  12001   Activity J        Activity J   21600.0   18000.052364   \n",
       "8  12002   Activity A        Activity A       0.0       0.000000   \n",
       "9  12002   Activity C        Activity C    3600.0    3642.145890   \n",
       "\n",
       "  TrueCompleteTimestamp  PredictedCompleteTimestamp  \n",
       "0   1970-01-01 09:00:00  1970-01-01 11:00:00.000083  \n",
       "1   1970-01-01 10:00:00  1970-01-01 11:30:05.077774  \n",
       "2   1970-01-01 10:00:00  1970-01-01 11:30:05.077774  \n",
       "3   1970-01-01 11:00:00  1970-01-01 11:30:05.077774  \n",
       "4   1970-01-01 12:00:00         1970-01-01 12:00:00  \n",
       "5   1970-01-01 13:00:00  1970-01-01 12:59:54.246863  \n",
       "6   1970-01-01 14:00:00         1970-01-01 14:00:00  \n",
       "7   1970-01-01 15:00:00  1970-01-01 14:00:00.052364  \n",
       "8   1970-01-01 09:00:00         1970-01-01 09:00:00  \n",
       "9   1970-01-01 10:00:00  1970-01-01 10:00:42.145890  "
      ]
     },
     "execution_count": 35,
     "metadata": {},
     "output_type": "execute_result"
    }
   ],
   "source": [
    "submission.head(10)"
   ]
  },
  {
   "cell_type": "code",
   "execution_count": null,
   "metadata": {
    "collapsed": true,
    "deletable": true,
    "editable": true
   },
   "outputs": [],
   "source": []
  }
 ],
 "metadata": {
  "kernelspec": {
   "display_name": "Python 3",
   "language": "python",
   "name": "python3"
  },
  "language_info": {
   "codemirror_mode": {
    "name": "ipython",
    "version": 3
   },
   "file_extension": ".py",
   "mimetype": "text/x-python",
   "name": "python",
   "nbconvert_exporter": "python",
   "pygments_lexer": "ipython3",
   "version": "3.5.2"
  },
  "toc": {
   "colors": {
    "hover_highlight": "#DAA520",
    "running_highlight": "#FF0000",
    "selected_highlight": "#FFD700"
   },
   "moveMenuLeft": true,
   "nav_menu": {
    "height": "48px",
    "width": "252px"
   },
   "navigate_menu": true,
   "number_sections": true,
   "sideBar": true,
   "threshold": 4,
   "toc_cell": false,
   "toc_section_display": "block",
   "toc_window_display": false
  }
 },
 "nbformat": 4,
 "nbformat_minor": 2
}

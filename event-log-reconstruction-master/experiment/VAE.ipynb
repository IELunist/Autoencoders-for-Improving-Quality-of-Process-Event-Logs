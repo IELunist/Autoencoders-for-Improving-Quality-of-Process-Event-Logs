{
 "cells": [
  {
   "cell_type": "markdown",
   "metadata": {},
   "source": [
    "This is the implementation of [**Variational Autoencoder**](https://arxiv.org/pdf/1312.6114.pdf)"
   ]
  },
  {
   "cell_type": "markdown",
   "metadata": {
    "deletable": true,
    "editable": true
   },
   "source": [
    "**Outline:**\n",
    "- Build model and loss function\n",
    "- Train model\n",
    "- Observe valdidate\n",
    "- Test"
   ]
  },
  {
   "cell_type": "markdown",
   "metadata": {
    "deletable": true,
    "editable": true
   },
   "source": [
    "**To do:**\n",
    "- Hyperparameter tuning\n",
    "    + lr\n",
    "    + layer1, layer2\n",
    "    + betas"
   ]
  },
  {
   "cell_type": "markdown",
   "metadata": {
    "deletable": true,
    "editable": true
   },
   "source": [
    "**Modification**\n",
    "- Weight initialization with xavier uniform\n",
    "- Adam optimization\n",
    "- LR decay"
   ]
  },
  {
   "cell_type": "markdown",
   "metadata": {
    "deletable": true,
    "editable": true
   },
   "source": [
    "**To do:**\n",
    "- Add dropout\n",
    "- Implement another loss function"
   ]
  },
  {
   "cell_type": "code",
   "execution_count": 1,
   "metadata": {
    "collapsed": true,
    "deletable": true,
    "editable": true
   },
   "outputs": [],
   "source": [
    "import importlib\n",
    "import argparse\n",
    "import os, sys\n",
    "import argparse\n",
    "import pandas as pd\n",
    "import numpy as np\n",
    "import pickle\n",
    "import time"
   ]
  },
  {
   "cell_type": "code",
   "execution_count": 2,
   "metadata": {
    "collapsed": true,
    "deletable": true,
    "editable": true
   },
   "outputs": [],
   "source": [
    "import torch\n",
    "import torch.utils.data\n",
    "import torch.nn.functional as F\n",
    "import torch.nn as nn\n",
    "import torch.optim as optim\n",
    "import torch.optim.lr_scheduler\n",
    "from torch.autograd import Variable\n",
    "from torchvision import transforms"
   ]
  },
  {
   "cell_type": "code",
   "execution_count": 3,
   "metadata": {
    "collapsed": true,
    "deletable": true,
    "editable": true
   },
   "outputs": [],
   "source": [
    "sys.path.insert(0, './../utils/')\n",
    "from utils import *\n",
    "from models import *"
   ]
  },
  {
   "cell_type": "code",
   "execution_count": 4,
   "metadata": {
    "collapsed": true,
    "deletable": true,
    "editable": true
   },
   "outputs": [],
   "source": [
    "#Define parser\n",
    "#name = 'bpi_2012'\n",
    "#name = 'bpi_2013'\n",
    "#name = 'small_log'\n",
    "name = 'large_log'\n",
    "\n",
    "parser = {\n",
    "    'train': True,\n",
    "    'test': True,\n",
    "    'model_class': 'VAE', #VAE\n",
    "    'model_name': '',\n",
    "    'data_dir': '../data/',\n",
    "    'data_file': name + '.csv',\n",
    "    'nan_pct': 0.3,\n",
    "    'input_dir': '../input/{}/'.format(name), \n",
    "    'batch_size' : 16,\n",
    "    'epochs' : 50,\n",
    "    'no_cuda' : False,\n",
    "    'seed' : 7,\n",
    "    'layer1': 50,\n",
    "    'layer2': 20,\n",
    "    'early_stopping': 30,\n",
    "    'lr': 0.001,\n",
    "    'betas': (0.9, 0.99),   \n",
    "    'lr_decay': 0.99,\n",
    "}\n",
    "\n",
    "args = argparse.Namespace(**parser)\n",
    "args.output_dir = './output/{0}_{1}_{2}/'.format(name, args.nan_pct, args.model_class)"
   ]
  },
  {
   "cell_type": "code",
   "execution_count": 5,
   "metadata": {
    "collapsed": true,
    "deletable": true,
    "editable": true
   },
   "outputs": [],
   "source": [
    "if not os.path.isdir(args.output_dir):\n",
    "    os.makedirs(args.output_dir)"
   ]
  },
  {
   "cell_type": "code",
   "execution_count": 6,
   "metadata": {
    "collapsed": true,
    "deletable": true,
    "editable": true
   },
   "outputs": [],
   "source": [
    "args.cuda = not args.no_cuda and torch.cuda.is_available()"
   ]
  },
  {
   "cell_type": "code",
   "execution_count": 7,
   "metadata": {
    "collapsed": true,
    "deletable": true,
    "editable": true
   },
   "outputs": [],
   "source": [
    "torch.manual_seed(args.seed)\n",
    "if args.cuda:\n",
    "    torch.cuda.manual_seed(args.seed)"
   ]
  },
  {
   "cell_type": "code",
   "execution_count": 8,
   "metadata": {
    "collapsed": true,
    "deletable": true,
    "editable": true
   },
   "outputs": [],
   "source": [
    "kwargs = {'num_workers': 2, 'pin_memory': True} if args.cuda else {}"
   ]
  },
  {
   "cell_type": "code",
   "execution_count": 9,
   "metadata": {
    "collapsed": true,
    "deletable": true,
    "editable": true
   },
   "outputs": [],
   "source": [
    "preprocessed_data_name = os.path.join(args.input_dir, 'preprocessed_data_{}.pkl'.format(args.nan_pct))\n",
    "with open(preprocessed_data_name, 'rb') as f:\n",
    "    min_max_storage = pickle.load(f)\n",
    "    complete_matrix_w_normalized_time_train = pickle.load(f)\n",
    "    missing_matrix_w_normalized_time_train = pickle.load(f)\n",
    "    avai_matrix_train = pickle.load(f)\n",
    "    nan_matrix_train = pickle.load(f)\n",
    "    complete_matrix_w_normalized_time_val = pickle.load(f)\n",
    "    missing_matrix_w_normalized_time_val = pickle.load(f)\n",
    "    avai_matrix_val = pickle.load(f)\n",
    "    nan_matrix_val = pickle.load(f)\n",
    "    pad_matrix_val = pickle.load(f)\n",
    "    complete_matrix_w_normalized_time_test = pickle.load(f)\n",
    "    missing_matrix_w_normalized_time_test = pickle.load(f)\n",
    "    avai_matrix_test = pickle.load(f)\n",
    "    nan_matrix_test = pickle.load(f)\n",
    "    pad_matrix_test = pickle.load(f)\n",
    "    cols_w_time = pickle.load(f)\n",
    "    cols_w_normalized_time = pickle.load(f)"
   ]
  },
  {
   "cell_type": "code",
   "execution_count": 10,
   "metadata": {
    "collapsed": true,
    "deletable": true,
    "editable": true
   },
   "outputs": [],
   "source": [
    "file_name = os.path.join(args.input_dir, 'parameters_{}.pkl'.format(args.nan_pct))\n",
    "with open(file_name, 'rb') as f:\n",
    "    most_frequent_activity = pickle.load(f)\n",
    "    first_timestamp = pickle.load(f)\n",
    "    avai_instance = pickle.load(f)\n",
    "    nan_instance = pickle.load(f)\n",
    "    train_size = pickle.load(f)\n",
    "    val_size = pickle.load(f)\n",
    "    test_size = pickle.load(f)\n",
    "    train_row_num = pickle.load(f)\n",
    "    val_row_num = pickle.load(f)\n",
    "    test_row_num = pickle.load(f)"
   ]
  },
  {
   "cell_type": "markdown",
   "metadata": {
    "deletable": true,
    "editable": true
   },
   "source": [
    "# Load data"
   ]
  },
  {
   "cell_type": "markdown",
   "metadata": {
    "deletable": true,
    "editable": true
   },
   "source": [
    "## Train"
   ]
  },
  {
   "cell_type": "code",
   "execution_count": 11,
   "metadata": {
    "collapsed": true,
    "deletable": true,
    "editable": true
   },
   "outputs": [],
   "source": [
    "complete_matrix_w_normalized_time_trainLoader = torch.utils.data.DataLoader(complete_matrix_w_normalized_time_train, \n",
    "                                                                            batch_size=args.batch_size, shuffle=False, \n",
    "                                                                            num_workers=2)\n",
    "missing_matrix_w_normalized_time_trainLoader = torch.utils.data.DataLoader(missing_matrix_w_normalized_time_train, \n",
    "                                                                           batch_size=args.batch_size, shuffle=False, \n",
    "                                                                           num_workers=2)\n",
    "avai_matrix_trainLoader = torch.utils.data.DataLoader(avai_matrix_train, \n",
    "                                                      batch_size=args.batch_size, shuffle=False, \n",
    "                                                      num_workers=2)"
   ]
  },
  {
   "cell_type": "markdown",
   "metadata": {
    "deletable": true,
    "editable": true
   },
   "source": [
    "## Validate and test"
   ]
  },
  {
   "cell_type": "code",
   "execution_count": 12,
   "metadata": {
    "collapsed": true,
    "deletable": true,
    "editable": true
   },
   "outputs": [],
   "source": [
    "normalized_complete_df_name = os.path.join(args.input_dir, 'normalized_complete_df_{}.csv'.format(args.nan_pct))\n",
    "normalized_complete_df = pd.read_csv(normalized_complete_df_name)\n",
    "\n",
    "normalized_missing_df_name = os.path.join(args.input_dir, 'normalized_missing_df_{}.csv'.format(args.nan_pct))\n",
    "normalized_missing_df = pd.read_csv(normalized_missing_df_name)"
   ]
  },
  {
   "cell_type": "code",
   "execution_count": 13,
   "metadata": {
    "collapsed": true,
    "deletable": true,
    "editable": true
   },
   "outputs": [],
   "source": [
    "missing_true_val = normalized_missing_df[train_row_num:-test_row_num].reset_index(drop=True)\n",
    "complete_true_val = normalized_complete_df[train_row_num:-test_row_num].reset_index(drop=True)"
   ]
  },
  {
   "cell_type": "code",
   "execution_count": 14,
   "metadata": {
    "collapsed": true,
    "deletable": true,
    "editable": true
   },
   "outputs": [],
   "source": [
    "missing_true_test = normalized_missing_df[-test_row_num:].reset_index(drop=True)\n",
    "complete_true_test = normalized_complete_df[-test_row_num:].reset_index(drop=True)"
   ]
  },
  {
   "cell_type": "code",
   "execution_count": 15,
   "metadata": {
    "collapsed": false,
    "deletable": true,
    "editable": true
   },
   "outputs": [
    {
     "data": {
      "text/plain": [
       "((24000, 5), (24000, 5))"
      ]
     },
     "execution_count": 15,
     "metadata": {},
     "output_type": "execute_result"
    }
   ],
   "source": [
    "missing_true_val.shape, missing_true_test.shape"
   ]
  },
  {
   "cell_type": "code",
   "execution_count": 16,
   "metadata": {
    "collapsed": true,
    "deletable": true,
    "editable": true
   },
   "outputs": [],
   "source": [
    "nan_time_index_val, nan_activity_index_val = getnanindex(missing_true_val)"
   ]
  },
  {
   "cell_type": "code",
   "execution_count": 17,
   "metadata": {
    "collapsed": true,
    "deletable": true,
    "editable": true
   },
   "outputs": [],
   "source": [
    "nan_time_index_test, nan_activity_index_test = getnanindex(missing_true_test)"
   ]
  },
  {
   "cell_type": "code",
   "execution_count": 18,
   "metadata": {
    "collapsed": false,
    "deletable": true,
    "editable": true
   },
   "outputs": [
    {
     "data": {
      "text/plain": [
       "CaseID                   0\n",
       "Activity             35944\n",
       "CompleteTimestamp    36056\n",
       "CumTimeInterval      36056\n",
       "NormalizedTime       36056\n",
       "dtype: int64"
      ]
     },
     "execution_count": 18,
     "metadata": {},
     "output_type": "execute_result"
    }
   ],
   "source": [
    "pd.isnull(normalized_missing_df).sum()"
   ]
  },
  {
   "cell_type": "code",
   "execution_count": 19,
   "metadata": {
    "collapsed": false,
    "deletable": true,
    "editable": true
   },
   "outputs": [
    {
     "data": {
      "text/plain": [
       "CaseID                  0\n",
       "Activity             7241\n",
       "CompleteTimestamp    7150\n",
       "CumTimeInterval      7150\n",
       "NormalizedTime       7150\n",
       "dtype: int64"
      ]
     },
     "execution_count": 19,
     "metadata": {},
     "output_type": "execute_result"
    }
   ],
   "source": [
    "pd.isnull(missing_true_val).sum()"
   ]
  },
  {
   "cell_type": "code",
   "execution_count": 20,
   "metadata": {
    "collapsed": false,
    "deletable": true,
    "editable": true
   },
   "outputs": [
    {
     "data": {
      "text/plain": [
       "CaseID                  0\n",
       "Activity             7045\n",
       "CompleteTimestamp    7207\n",
       "CumTimeInterval      7207\n",
       "NormalizedTime       7207\n",
       "dtype: int64"
      ]
     },
     "execution_count": 20,
     "metadata": {},
     "output_type": "execute_result"
    }
   ],
   "source": [
    "pd.isnull(missing_true_test).sum()"
   ]
  },
  {
   "cell_type": "markdown",
   "metadata": {
    "deletable": true,
    "editable": true
   },
   "source": [
    "# Build model"
   ]
  },
  {
   "cell_type": "markdown",
   "metadata": {
    "deletable": true,
    "editable": true
   },
   "source": [
    "## Define model"
   ]
  },
  {
   "cell_type": "code",
   "execution_count": 21,
   "metadata": {
    "collapsed": true,
    "deletable": true,
    "editable": true
   },
   "outputs": [],
   "source": [
    "if args.model_class == 'VAE':\n",
    "    model = VAE(complete_matrix_w_normalized_time_train.shape, args.layer1, args.layer2, args.cuda)\n",
    "if args.model_class == 'VAE_dropout':\n",
    "    model = VAE_dropout(complete_matrix_w_normalized_time_train.shape, args.layer1, args.layer2, args.cuda)\n",
    "    \n",
    "if args.cuda:\n",
    "    model.cuda()"
   ]
  },
  {
   "cell_type": "markdown",
   "metadata": {
    "deletable": true,
    "editable": true
   },
   "source": [
    "## Define loss"
   ]
  },
  {
   "cell_type": "code",
   "execution_count": 22,
   "metadata": {
    "collapsed": true,
    "deletable": true,
    "editable": true
   },
   "outputs": [],
   "source": [
    "# Define loss\n",
    "\n",
    "def loss_function(recon_x, x, mu, logvar, avai_mask): \n",
    "    BCE = F.binary_cross_entropy(recon_x, x, weight=avai_mask, size_average=False)\n",
    "    KLD_element = mu.pow(2).add_(logvar.exp()).mul_(-1).add_(1).add_(logvar)\n",
    "    KLD = torch.sum(KLD_element).mul_(-0.5)\n",
    "    loss = BCE+KLD\n",
    "    return loss"
   ]
  },
  {
   "cell_type": "code",
   "execution_count": 23,
   "metadata": {
    "collapsed": true,
    "deletable": true,
    "editable": true
   },
   "outputs": [],
   "source": [
    "optimizer = optim.Adam(model.parameters(), lr=args.lr, betas=args.betas)"
   ]
  },
  {
   "cell_type": "code",
   "execution_count": 24,
   "metadata": {
    "collapsed": true,
    "deletable": true,
    "editable": true
   },
   "outputs": [],
   "source": [
    "#Adjust learning rate per epoch: http://pytorch.org/docs/master/optim.html?highlight=lr_scheduler#torch.optim.lr_scheduler.LambdaLR\n",
    "\n",
    "# Method 1:\n",
    "lambda1 = lambda epoch: epoch//10\n",
    "scheduler = torch.optim.lr_scheduler.LambdaLR(optimizer, lr_lambda=[lambda1])\n",
    "\n",
    "# Method 2:\n",
    "#scheduler = torch.optim.lr_scheduler.ReduceLROnPlateau(optimizer, 'min', patience=10)"
   ]
  },
  {
   "cell_type": "markdown",
   "metadata": {
    "deletable": true,
    "editable": true
   },
   "source": [
    "## Utils"
   ]
  },
  {
   "cell_type": "code",
   "execution_count": 25,
   "metadata": {
    "collapsed": true,
    "deletable": true,
    "editable": true
   },
   "outputs": [],
   "source": [
    "def save_model(model, epoch, score):\n",
    "    model_file = os.path.join(args.output_dir, 'model_{}_epoch{}_score{:.4f}.pth'.format(args.model_class, epoch, score))\n",
    "    torch.save(model.state_dict(), model_file)"
   ]
  },
  {
   "cell_type": "code",
   "execution_count": 26,
   "metadata": {
    "collapsed": true,
    "deletable": true,
    "editable": true
   },
   "outputs": [],
   "source": [
    "def load_model(model, model_name):\n",
    "    model_file = os.path.join(args.output_dir, model_name)\n",
    "    assert os.path.isfile(model_file), 'Error: no model found!'\n",
    "    model_state = torch.load(model_file)\n",
    "    model.load_state_dict(model_state)"
   ]
  },
  {
   "cell_type": "code",
   "execution_count": 27,
   "metadata": {
    "collapsed": true,
    "deletable": true,
    "editable": true
   },
   "outputs": [],
   "source": [
    "def val(model, missing_matrix_w_normalized_time_val, complete_matrix_w_normalized_time_val, avai_matrix_val):   \n",
    "    model.eval()\n",
    "    m_val = missing_matrix_w_normalized_time_val\n",
    "    m_val = Variable(torch.Tensor(m_val).float())\n",
    "    \n",
    "    c_val = complete_matrix_w_normalized_time_val\n",
    "    c_val = Variable(torch.Tensor(c_val).float())\n",
    "    \n",
    "    avai_matrix_val = Variable(torch.Tensor(avai_matrix_val).float())\n",
    "    \n",
    "    if args.cuda:\n",
    "        m_val = m_val.cuda()\n",
    "        c_val = c_val.cuda()\n",
    "        avai_matrix_val = avai_matrix_val.cuda()\n",
    "\n",
    "    recon_val, mu, var = model(m_val)\n",
    "    val_loss = loss_function(recon_val, c_val, mu, var, avai_matrix_val)    \n",
    "    \n",
    "    return val_loss.data[0]/len(c_val.data)"
   ]
  },
  {
   "cell_type": "code",
   "execution_count": 28,
   "metadata": {
    "collapsed": false,
    "deletable": true,
    "editable": true
   },
   "outputs": [
    {
     "data": {
      "text/html": [
       "<div>\n",
       "<style>\n",
       "    .dataframe thead tr:only-child th {\n",
       "        text-align: right;\n",
       "    }\n",
       "\n",
       "    .dataframe thead th {\n",
       "        text-align: left;\n",
       "    }\n",
       "\n",
       "    .dataframe tbody tr th {\n",
       "        vertical-align: top;\n",
       "    }\n",
       "</style>\n",
       "<table border=\"1\" class=\"dataframe\">\n",
       "  <thead>\n",
       "    <tr style=\"text-align: right;\">\n",
       "      <th></th>\n",
       "      <th>CaseID</th>\n",
       "      <th>Activity</th>\n",
       "      <th>CompleteTimestamp</th>\n",
       "      <th>CumTimeInterval</th>\n",
       "      <th>NormalizedTime</th>\n",
       "    </tr>\n",
       "  </thead>\n",
       "  <tbody>\n",
       "    <tr>\n",
       "      <th>0</th>\n",
       "      <td>9001</td>\n",
       "      <td>NaN</td>\n",
       "      <td>1970-01-01 09:00:00</td>\n",
       "      <td>0.0</td>\n",
       "      <td>0.000000</td>\n",
       "    </tr>\n",
       "    <tr>\n",
       "      <th>1</th>\n",
       "      <td>9001</td>\n",
       "      <td>Activity C</td>\n",
       "      <td>NaN</td>\n",
       "      <td>NaN</td>\n",
       "      <td>NaN</td>\n",
       "    </tr>\n",
       "    <tr>\n",
       "      <th>2</th>\n",
       "      <td>9001</td>\n",
       "      <td>NaN</td>\n",
       "      <td>NaN</td>\n",
       "      <td>NaN</td>\n",
       "      <td>NaN</td>\n",
       "    </tr>\n",
       "    <tr>\n",
       "      <th>3</th>\n",
       "      <td>9001</td>\n",
       "      <td>NaN</td>\n",
       "      <td>NaN</td>\n",
       "      <td>NaN</td>\n",
       "      <td>NaN</td>\n",
       "    </tr>\n",
       "    <tr>\n",
       "      <th>4</th>\n",
       "      <td>9001</td>\n",
       "      <td>Activity E</td>\n",
       "      <td>1970-01-01 12:00:00</td>\n",
       "      <td>10800.0</td>\n",
       "      <td>0.599997</td>\n",
       "    </tr>\n",
       "  </tbody>\n",
       "</table>\n",
       "</div>"
      ],
      "text/plain": [
       "   CaseID    Activity    CompleteTimestamp  CumTimeInterval  NormalizedTime\n",
       "0    9001         NaN  1970-01-01 09:00:00              0.0        0.000000\n",
       "1    9001  Activity C                  NaN              NaN             NaN\n",
       "2    9001         NaN                  NaN              NaN             NaN\n",
       "3    9001         NaN                  NaN              NaN             NaN\n",
       "4    9001  Activity E  1970-01-01 12:00:00          10800.0        0.599997"
      ]
     },
     "execution_count": 28,
     "metadata": {},
     "output_type": "execute_result"
    }
   ],
   "source": [
    "missing_true_val.head()"
   ]
  },
  {
   "cell_type": "code",
   "execution_count": 29,
   "metadata": {
    "collapsed": false,
    "deletable": true,
    "editable": true
   },
   "outputs": [
    {
     "data": {
      "text/html": [
       "<div>\n",
       "<style>\n",
       "    .dataframe thead tr:only-child th {\n",
       "        text-align: right;\n",
       "    }\n",
       "\n",
       "    .dataframe thead th {\n",
       "        text-align: left;\n",
       "    }\n",
       "\n",
       "    .dataframe tbody tr th {\n",
       "        vertical-align: top;\n",
       "    }\n",
       "</style>\n",
       "<table border=\"1\" class=\"dataframe\">\n",
       "  <thead>\n",
       "    <tr style=\"text-align: right;\">\n",
       "      <th></th>\n",
       "      <th>CaseID</th>\n",
       "      <th>Activity</th>\n",
       "      <th>CompleteTimestamp</th>\n",
       "      <th>CumTimeInterval</th>\n",
       "      <th>NormalizedTime</th>\n",
       "    </tr>\n",
       "  </thead>\n",
       "  <tbody>\n",
       "    <tr>\n",
       "      <th>0</th>\n",
       "      <td>9001</td>\n",
       "      <td>Activity A</td>\n",
       "      <td>1970-01-01 09:00:00</td>\n",
       "      <td>0.0</td>\n",
       "      <td>0.000000</td>\n",
       "    </tr>\n",
       "    <tr>\n",
       "      <th>1</th>\n",
       "      <td>9001</td>\n",
       "      <td>Activity C</td>\n",
       "      <td>1970-01-01 10:00:00</td>\n",
       "      <td>3600.0</td>\n",
       "      <td>0.166666</td>\n",
       "    </tr>\n",
       "    <tr>\n",
       "      <th>2</th>\n",
       "      <td>9001</td>\n",
       "      <td>Activity D</td>\n",
       "      <td>1970-01-01 10:00:00</td>\n",
       "      <td>3600.0</td>\n",
       "      <td>0.166666</td>\n",
       "    </tr>\n",
       "    <tr>\n",
       "      <th>3</th>\n",
       "      <td>9001</td>\n",
       "      <td>Activity B</td>\n",
       "      <td>1970-01-01 11:00:00</td>\n",
       "      <td>7200.0</td>\n",
       "      <td>0.333332</td>\n",
       "    </tr>\n",
       "    <tr>\n",
       "      <th>4</th>\n",
       "      <td>9001</td>\n",
       "      <td>Activity E</td>\n",
       "      <td>1970-01-01 12:00:00</td>\n",
       "      <td>10800.0</td>\n",
       "      <td>0.499998</td>\n",
       "    </tr>\n",
       "  </tbody>\n",
       "</table>\n",
       "</div>"
      ],
      "text/plain": [
       "   CaseID    Activity    CompleteTimestamp  CumTimeInterval  NormalizedTime\n",
       "0    9001  Activity A  1970-01-01 09:00:00              0.0        0.000000\n",
       "1    9001  Activity C  1970-01-01 10:00:00           3600.0        0.166666\n",
       "2    9001  Activity D  1970-01-01 10:00:00           3600.0        0.166666\n",
       "3    9001  Activity B  1970-01-01 11:00:00           7200.0        0.333332\n",
       "4    9001  Activity E  1970-01-01 12:00:00          10800.0        0.499998"
      ]
     },
     "execution_count": 29,
     "metadata": {},
     "output_type": "execute_result"
    }
   ],
   "source": [
    "complete_true_val.head()"
   ]
  },
  {
   "cell_type": "markdown",
   "metadata": {
    "deletable": true,
    "editable": true
   },
   "source": [
    "# Train model"
   ]
  },
  {
   "cell_type": "code",
   "execution_count": 30,
   "metadata": {
    "collapsed": true,
    "deletable": true,
    "editable": true
   },
   "outputs": [],
   "source": [
    "def train(epoch, model, optimizer):\n",
    "    model.train()\n",
    "    train_loss = 0\n",
    "    for batch_idx, (m_data, c_data, avai_mask) in enumerate(zip(missing_matrix_w_normalized_time_trainLoader,\n",
    "                                                                complete_matrix_w_normalized_time_trainLoader,\n",
    "                                                                avai_matrix_trainLoader)):\n",
    "        \n",
    "        c_data = Variable(c_data.float())\n",
    "        m_data = Variable(m_data.float())\n",
    "        avai_mask = Variable(avai_mask.float())\n",
    "      \n",
    "        if args.cuda:\n",
    "            c_data = c_data.cuda()\n",
    "            m_data = m_data.cuda()\n",
    "            avai_mask = avai_mask.cuda()\n",
    "            \n",
    "        optimizer.zero_grad()\n",
    "        \n",
    "        recon_data, mu, logvar = model(m_data)\n",
    "        \n",
    "        loss = loss_function(recon_data, c_data, mu, logvar, avai_mask)\n",
    "        loss.backward()\n",
    "        train_loss += loss.data[0]\n",
    "        optimizer.step()\n",
    "        \n",
    "    return train_loss / len(complete_matrix_w_normalized_time_trainLoader.dataset)"
   ]
  },
  {
   "cell_type": "code",
   "execution_count": 31,
   "metadata": {
    "collapsed": false,
    "deletable": true,
    "editable": true,
    "scrolled": false
   },
   "outputs": [
    {
     "name": "stdout",
     "output_type": "stream",
     "text": [
      "====> Epoch 1 | Train time: 1861.0263 ms| End time: 1900.7013 ms | Train loss: 59.6373 | Val score: 59.4729\n",
      "====> Epoch 2 | Train time: 1756.6190 ms| End time: 1798.9349 ms | Train loss: 59.5280 | Val score: 59.4702\n",
      "====> Epoch 3 | Train time: 1794.6763 ms| End time: 1832.9644 ms | Train loss: 59.5920 | Val score: 59.3683\n",
      "====> Epoch 4 | Train time: 1828.0432 ms| End time: 1870.6756 ms | Train loss: 59.4553 | Val score: 59.4539\n",
      "====> Epoch 5 | Train time: 1762.8033 ms| End time: 1805.3479 ms | Train loss: 59.5804 | Val score: 59.3131\n",
      "====> Epoch 6 | Train time: 1742.6445 ms| End time: 1780.5343 ms | Train loss: 59.4660 | Val score: 59.4647\n",
      "====> Epoch 7 | Train time: 1773.6189 ms| End time: 1815.8591 ms | Train loss: 59.5131 | Val score: 59.5184\n",
      "====> Epoch 8 | Train time: 1742.2526 ms| End time: 1784.3509 ms | Train loss: 59.5333 | Val score: 59.4328\n",
      "====> Epoch 9 | Train time: 1831.3632 ms| End time: 1874.1090 ms | Train loss: 59.4941 | Val score: 59.5954\n",
      "====> Epoch 10 | Train time: 1722.9335 ms| End time: 1765.6136 ms | Train loss: 59.5134 | Val score: 59.3790\n",
      "====> Epoch 11 | Train time: 1816.6091 ms| End time: 1854.3372 ms | Train loss: 12.5049 | Val score: 6.3719\n",
      "====> Epoch 12 | Train time: 1760.2804 ms| End time: 1802.6819 ms | Train loss: 5.4715 | Val score: 5.1015\n",
      "====> Epoch 13 | Train time: 1772.1496 ms| End time: 1814.9354 ms | Train loss: 5.0777 | Val score: 5.0159\n",
      "====> Epoch 14 | Train time: 1786.2790 ms| End time: 1828.7501 ms | Train loss: 4.9627 | Val score: 5.0018\n",
      "====> Epoch 15 | Train time: 1782.1729 ms| End time: 1828.0694 ms | Train loss: 4.9375 | Val score: 4.9476\n",
      "====> Epoch 16 | Train time: 1713.7012 ms| End time: 1755.7316 ms | Train loss: 4.8559 | Val score: 4.8039\n",
      "====> Epoch 17 | Train time: 1813.8978 ms| End time: 1856.1945 ms | Train loss: 4.7627 | Val score: 4.8114\n",
      "====> Epoch 18 | Train time: 1766.5462 ms| End time: 1804.3010 ms | Train loss: 4.6525 | Val score: 4.6114\n",
      "====> Epoch 19 | Train time: 1753.4368 ms| End time: 1795.8782 ms | Train loss: 4.5607 | Val score: 4.4989\n",
      "====> Epoch 20 | Train time: 1783.9541 ms| End time: 1826.5183 ms | Train loss: 4.4593 | Val score: 4.4676\n",
      "====> Epoch 21 | Train time: 1806.8748 ms| End time: 1845.5796 ms | Train loss: 4.4166 | Val score: 4.4040\n",
      "====> Epoch 22 | Train time: 1770.2911 ms| End time: 1812.6552 ms | Train loss: 4.3862 | Val score: 4.3505\n",
      "====> Epoch 23 | Train time: 1774.6203 ms| End time: 1816.5984 ms | Train loss: 4.3754 | Val score: 4.3546\n",
      "====> Epoch 24 | Train time: 1804.9660 ms| End time: 1847.8289 ms | Train loss: 4.3343 | Val score: 4.4079\n",
      "====> Epoch 25 | Train time: 1801.2669 ms| End time: 1839.1747 ms | Train loss: 4.3492 | Val score: 4.4050\n",
      "====> Epoch 26 | Train time: 1820.9276 ms| End time: 1863.0185 ms | Train loss: 4.3252 | Val score: 4.3691\n",
      "====> Epoch 27 | Train time: 1821.0080 ms| End time: 1863.3425 ms | Train loss: 4.2950 | Val score: 4.3280\n",
      "====> Epoch 28 | Train time: 1761.5848 ms| End time: 1799.6135 ms | Train loss: 4.3154 | Val score: 4.3518\n",
      "====> Epoch 29 | Train time: 1772.0821 ms| End time: 1814.4338 ms | Train loss: 4.2968 | Val score: 4.2779\n",
      "====> Epoch 30 | Train time: 1718.4429 ms| End time: 1761.8494 ms | Train loss: 4.3001 | Val score: 4.3213\n",
      "====> Epoch 31 | Train time: 1787.7259 ms| End time: 1830.8969 ms | Train loss: 4.3431 | Val score: 4.2927\n",
      "====> Epoch 32 | Train time: 1762.2733 ms| End time: 1804.8174 ms | Train loss: 4.3471 | Val score: 4.3440\n",
      "====> Epoch 33 | Train time: 1779.2780 ms| End time: 1821.2752 ms | Train loss: 4.3151 | Val score: 4.3321\n",
      "====> Epoch 34 | Train time: 1814.3899 ms| End time: 1858.2323 ms | Train loss: 4.3191 | Val score: 4.3407\n",
      "====> Epoch 35 | Train time: 1767.7310 ms| End time: 1810.0238 ms | Train loss: 4.3188 | Val score: 4.3943\n",
      "====> Epoch 36 | Train time: 1731.4246 ms| End time: 1773.4349 ms | Train loss: 4.3181 | Val score: 4.3212\n",
      "====> Epoch 37 | Train time: 1756.1502 ms| End time: 1793.5307 ms | Train loss: 4.2846 | Val score: 4.2999\n",
      "====> Epoch 38 | Train time: 1819.3126 ms| End time: 1863.3153 ms | Train loss: 4.3156 | Val score: 4.4084\n",
      "====> Epoch 39 | Train time: 1756.8352 ms| End time: 1799.2024 ms | Train loss: 4.2723 | Val score: 4.3533\n",
      "====> Epoch 40 | Train time: 1724.0021 ms| End time: 1766.2177 ms | Train loss: 4.3193 | Val score: 4.2673\n",
      "====> Epoch 41 | Train time: 1804.1639 ms| End time: 1847.2035 ms | Train loss: 4.3438 | Val score: 4.3306\n",
      "====> Epoch 42 | Train time: 1829.8314 ms| End time: 1872.3836 ms | Train loss: 4.3270 | Val score: 4.3203\n",
      "====> Epoch 43 | Train time: 1782.2673 ms| End time: 1825.9785 ms | Train loss: 4.3100 | Val score: 4.2992\n",
      "====> Epoch 44 | Train time: 1754.0212 ms| End time: 1796.7885 ms | Train loss: 4.3064 | Val score: 4.3260\n",
      "====> Epoch 45 | Train time: 1752.4629 ms| End time: 1790.0550 ms | Train loss: 4.3286 | Val score: 4.3173\n",
      "====> Epoch 46 | Train time: 1701.2165 ms| End time: 1743.5505 ms | Train loss: 4.3010 | Val score: 4.3058\n",
      "====> Epoch 47 | Train time: 1802.2914 ms| End time: 1844.6801 ms | Train loss: 4.3032 | Val score: 4.3422\n",
      "====> Epoch 48 | Train time: 1774.0843 ms| End time: 1812.5062 ms | Train loss: 4.2796 | Val score: 4.3417\n",
      "====> Epoch 49 | Train time: 1784.7881 ms| End time: 1826.8707 ms | Train loss: 4.3160 | Val score: 4.3208\n",
      "====> Epoch 50 | Train time: 1763.7463 ms| End time: 1801.9669 ms | Train loss: 4.3015 | Val score: 4.4108\n"
     ]
    }
   ],
   "source": [
    "if args.train:\n",
    "    for epoch in range(1, args.epochs + 1):\n",
    "        init = time.time()\n",
    "        \n",
    "        #method 1 scheduler\n",
    "        scheduler.step()\n",
    "        \n",
    "        train_loss = train(epoch, model, optimizer)\n",
    "        end_train = time.time()\n",
    "        \n",
    "        val_score = val(model, missing_matrix_w_normalized_time_val, \n",
    "                        complete_matrix_w_normalized_time_val, avai_matrix_val)\n",
    "        \n",
    "        end = time.time()\n",
    "        print('====> Epoch {} | Train time: {:.4f} ms| End time: {:.4f} ms | Train loss: {:.4f} | Val score: {:.4f}'.\n",
    "              format(epoch, (end_train-init)*1000, (end-init)*1000, train_loss, val_score))\n",
    "else:\n",
    "    load_model(model, args.model_name)"
   ]
  },
  {
   "cell_type": "markdown",
   "metadata": {
    "collapsed": true,
    "deletable": true,
    "editable": true
   },
   "source": [
    "# Predict and evaluate"
   ]
  },
  {
   "cell_type": "code",
   "execution_count": 32,
   "metadata": {
    "collapsed": false,
    "deletable": true,
    "editable": true
   },
   "outputs": [
    {
     "name": "stdout",
     "output_type": "stream",
     "text": [
      "Predicting...\n",
      "\n",
      "\n",
      "Converting to dataframe...\n",
      "Transforming Normalized Time to Time...\n",
      "Getting submission...\n",
      "Fixing Time...\n"
     ]
    },
    {
     "name": "stderr",
     "output_type": "stream",
     "text": [
      "/home/pllab/miniconda2/envs/pydata/lib/python3.5/site-packages/pandas/core/indexing.py:517: SettingWithCopyWarning: \n",
      "A value is trying to be set on a copy of a slice from a DataFrame.\n",
      "Try using .loc[row_indexer,col_indexer] = value instead\n",
      "\n",
      "See the caveats in the documentation: http://pandas.pydata.org/pandas-docs/stable/indexing.html#indexing-view-versus-copy\n",
      "  self.obj[item] = s\n"
     ]
    },
    {
     "name": "stdout",
     "output_type": "stream",
     "text": [
      "Testing...\n",
      "Number of missing Time: 7207\n",
      "Mean Absolute Error: 0.0248 day(s)\n",
      "Root Mean Squared Error: 0.0384 day(s)\n",
      "Number of missing Activity: 7045\n",
      "Accuracy: 87.14%\n",
      "\n",
      "\n",
      "Saving submission...\n",
      "Done!\n"
     ]
    }
   ],
   "source": [
    "if args.test:\n",
    "    m_test = missing_matrix_w_normalized_time_test\n",
    "    m_test = Variable(torch.Tensor(m_test).float())\n",
    "    \n",
    "    if args.cuda:\n",
    "        m_test = m_test.cuda()\n",
    "    \n",
    "    print('Predicting...')\n",
    "    recon_test, mu, logvar = model(m_test)\n",
    "    \n",
    "    print('\\n')\n",
    "    print('Converting to dataframe...')\n",
    "    recon_df_w_normalized_time = convert2df(recon_test, pad_matrix_test, cols_w_normalized_time, test_row_num)\n",
    "    \n",
    "    print('Transforming Normalized Time to Time...')\n",
    "    recon_df_w_time = getDfWithTime(recon_df_w_normalized_time, missing_true_test, min_max_storage)\n",
    "    \n",
    "    print('Getting submission...')\n",
    "    submission_df = getSubmission(recon_df_w_time, missing_true_test, complete_true_test, first_timestamp)\n",
    "    \n",
    "    print('Fixing Time...')\n",
    "    submission = fixTime(submission_df)\n",
    "        \n",
    "    print('Testing...')\n",
    "    mae_time, rmse_time, acc = evaluation(submission, nan_time_index_test, nan_activity_index_test,show=True)\n",
    "    \n",
    "    print('\\n')\n",
    "    print('Saving submission...')\n",
    "    submission_df.to_csv(args.output_dir+'submission.csv', index=False)\n",
    "    print('Done!')"
   ]
  },
  {
   "cell_type": "code",
   "execution_count": 33,
   "metadata": {
    "collapsed": false,
    "deletable": true,
    "editable": true
   },
   "outputs": [
    {
     "data": {
      "text/html": [
       "<div>\n",
       "<style>\n",
       "    .dataframe thead tr:only-child th {\n",
       "        text-align: right;\n",
       "    }\n",
       "\n",
       "    .dataframe thead th {\n",
       "        text-align: left;\n",
       "    }\n",
       "\n",
       "    .dataframe tbody tr th {\n",
       "        vertical-align: top;\n",
       "    }\n",
       "</style>\n",
       "<table border=\"1\" class=\"dataframe\">\n",
       "  <thead>\n",
       "    <tr style=\"text-align: right;\">\n",
       "      <th></th>\n",
       "      <th>CaseID</th>\n",
       "      <th>TrueActivity</th>\n",
       "      <th>PredictedActivity</th>\n",
       "      <th>TrueTime</th>\n",
       "      <th>PredictedTime</th>\n",
       "      <th>TrueCompleteTimestamp</th>\n",
       "      <th>PredictedCompleteTimestamp</th>\n",
       "    </tr>\n",
       "  </thead>\n",
       "  <tbody>\n",
       "    <tr>\n",
       "      <th>0</th>\n",
       "      <td>12001</td>\n",
       "      <td>Activity A</td>\n",
       "      <td>Activity A</td>\n",
       "      <td>0.0</td>\n",
       "      <td>0.000000</td>\n",
       "      <td>1970-01-01 09:00:00</td>\n",
       "      <td>1970-01-01 09:00:00</td>\n",
       "    </tr>\n",
       "    <tr>\n",
       "      <th>1</th>\n",
       "      <td>12001</td>\n",
       "      <td>Activity D</td>\n",
       "      <td>Activity D</td>\n",
       "      <td>3600.0</td>\n",
       "      <td>3600.000000</td>\n",
       "      <td>1970-01-01 10:00:00</td>\n",
       "      <td>1970-01-01 10:00:00</td>\n",
       "    </tr>\n",
       "    <tr>\n",
       "      <th>2</th>\n",
       "      <td>12001</td>\n",
       "      <td>Activity C</td>\n",
       "      <td>Activity C</td>\n",
       "      <td>3600.0</td>\n",
       "      <td>3014.858306</td>\n",
       "      <td>1970-01-01 10:00:00</td>\n",
       "      <td>1970-01-01 09:50:14.858306</td>\n",
       "    </tr>\n",
       "    <tr>\n",
       "      <th>3</th>\n",
       "      <td>12001</td>\n",
       "      <td>Activity B</td>\n",
       "      <td>Activity B</td>\n",
       "      <td>7200.0</td>\n",
       "      <td>7200.000000</td>\n",
       "      <td>1970-01-01 11:00:00</td>\n",
       "      <td>1970-01-01 11:00:00</td>\n",
       "    </tr>\n",
       "    <tr>\n",
       "      <th>4</th>\n",
       "      <td>12001</td>\n",
       "      <td>Activity E</td>\n",
       "      <td>Activity E</td>\n",
       "      <td>10800.0</td>\n",
       "      <td>10800.000000</td>\n",
       "      <td>1970-01-01 12:00:00</td>\n",
       "      <td>1970-01-01 12:00:00</td>\n",
       "    </tr>\n",
       "    <tr>\n",
       "      <th>5</th>\n",
       "      <td>12001</td>\n",
       "      <td>Activity I</td>\n",
       "      <td>Activity I</td>\n",
       "      <td>14400.0</td>\n",
       "      <td>12125.307569</td>\n",
       "      <td>1970-01-01 13:00:00</td>\n",
       "      <td>1970-01-01 12:22:05.307569</td>\n",
       "    </tr>\n",
       "    <tr>\n",
       "      <th>6</th>\n",
       "      <td>12001</td>\n",
       "      <td>Activity F</td>\n",
       "      <td>Activity F</td>\n",
       "      <td>18000.0</td>\n",
       "      <td>18000.000000</td>\n",
       "      <td>1970-01-01 14:00:00</td>\n",
       "      <td>1970-01-01 14:00:00</td>\n",
       "    </tr>\n",
       "    <tr>\n",
       "      <th>7</th>\n",
       "      <td>12001</td>\n",
       "      <td>Activity J</td>\n",
       "      <td>Activity J</td>\n",
       "      <td>21600.0</td>\n",
       "      <td>18000.016315</td>\n",
       "      <td>1970-01-01 15:00:00</td>\n",
       "      <td>1970-01-01 14:00:00.016315</td>\n",
       "    </tr>\n",
       "    <tr>\n",
       "      <th>8</th>\n",
       "      <td>12002</td>\n",
       "      <td>Activity A</td>\n",
       "      <td>Activity A</td>\n",
       "      <td>0.0</td>\n",
       "      <td>0.000000</td>\n",
       "      <td>1970-01-01 09:00:00</td>\n",
       "      <td>1970-01-01 09:00:00</td>\n",
       "    </tr>\n",
       "    <tr>\n",
       "      <th>9</th>\n",
       "      <td>12002</td>\n",
       "      <td>Activity C</td>\n",
       "      <td>Activity C</td>\n",
       "      <td>3600.0</td>\n",
       "      <td>3600.000000</td>\n",
       "      <td>1970-01-01 10:00:00</td>\n",
       "      <td>1970-01-01 10:00:00</td>\n",
       "    </tr>\n",
       "  </tbody>\n",
       "</table>\n",
       "</div>"
      ],
      "text/plain": [
       "   CaseID TrueActivity PredictedActivity  TrueTime  PredictedTime  \\\n",
       "0   12001   Activity A        Activity A       0.0       0.000000   \n",
       "1   12001   Activity D        Activity D    3600.0    3600.000000   \n",
       "2   12001   Activity C        Activity C    3600.0    3014.858306   \n",
       "3   12001   Activity B        Activity B    7200.0    7200.000000   \n",
       "4   12001   Activity E        Activity E   10800.0   10800.000000   \n",
       "5   12001   Activity I        Activity I   14400.0   12125.307569   \n",
       "6   12001   Activity F        Activity F   18000.0   18000.000000   \n",
       "7   12001   Activity J        Activity J   21600.0   18000.016315   \n",
       "8   12002   Activity A        Activity A       0.0       0.000000   \n",
       "9   12002   Activity C        Activity C    3600.0    3600.000000   \n",
       "\n",
       "  TrueCompleteTimestamp  PredictedCompleteTimestamp  \n",
       "0   1970-01-01 09:00:00         1970-01-01 09:00:00  \n",
       "1   1970-01-01 10:00:00         1970-01-01 10:00:00  \n",
       "2   1970-01-01 10:00:00  1970-01-01 09:50:14.858306  \n",
       "3   1970-01-01 11:00:00         1970-01-01 11:00:00  \n",
       "4   1970-01-01 12:00:00         1970-01-01 12:00:00  \n",
       "5   1970-01-01 13:00:00  1970-01-01 12:22:05.307569  \n",
       "6   1970-01-01 14:00:00         1970-01-01 14:00:00  \n",
       "7   1970-01-01 15:00:00  1970-01-01 14:00:00.016315  \n",
       "8   1970-01-01 09:00:00         1970-01-01 09:00:00  \n",
       "9   1970-01-01 10:00:00         1970-01-01 10:00:00  "
      ]
     },
     "execution_count": 33,
     "metadata": {},
     "output_type": "execute_result"
    }
   ],
   "source": [
    "submission_df.head(10)"
   ]
  },
  {
   "cell_type": "code",
   "execution_count": 34,
   "metadata": {
    "collapsed": false,
    "deletable": true,
    "editable": true
   },
   "outputs": [
    {
     "data": {
      "text/html": [
       "<div>\n",
       "<style>\n",
       "    .dataframe thead tr:only-child th {\n",
       "        text-align: right;\n",
       "    }\n",
       "\n",
       "    .dataframe thead th {\n",
       "        text-align: left;\n",
       "    }\n",
       "\n",
       "    .dataframe tbody tr th {\n",
       "        vertical-align: top;\n",
       "    }\n",
       "</style>\n",
       "<table border=\"1\" class=\"dataframe\">\n",
       "  <thead>\n",
       "    <tr style=\"text-align: right;\">\n",
       "      <th></th>\n",
       "      <th>CaseID</th>\n",
       "      <th>TrueActivity</th>\n",
       "      <th>PredictedActivity</th>\n",
       "      <th>TrueTime</th>\n",
       "      <th>PredictedTime</th>\n",
       "      <th>TrueCompleteTimestamp</th>\n",
       "      <th>PredictedCompleteTimestamp</th>\n",
       "    </tr>\n",
       "  </thead>\n",
       "  <tbody>\n",
       "    <tr>\n",
       "      <th>0</th>\n",
       "      <td>12001</td>\n",
       "      <td>Activity A</td>\n",
       "      <td>Activity A</td>\n",
       "      <td>0.0</td>\n",
       "      <td>0.000000</td>\n",
       "      <td>1970-01-01 09:00:00</td>\n",
       "      <td>1970-01-01 09:00:00</td>\n",
       "    </tr>\n",
       "    <tr>\n",
       "      <th>1</th>\n",
       "      <td>12001</td>\n",
       "      <td>Activity D</td>\n",
       "      <td>Activity D</td>\n",
       "      <td>3600.0</td>\n",
       "      <td>3600.000000</td>\n",
       "      <td>1970-01-01 10:00:00</td>\n",
       "      <td>1970-01-01 10:00:00</td>\n",
       "    </tr>\n",
       "    <tr>\n",
       "      <th>2</th>\n",
       "      <td>12001</td>\n",
       "      <td>Activity C</td>\n",
       "      <td>Activity C</td>\n",
       "      <td>3600.0</td>\n",
       "      <td>3600.000000</td>\n",
       "      <td>1970-01-01 10:00:00</td>\n",
       "      <td>1970-01-01 10:00:00</td>\n",
       "    </tr>\n",
       "    <tr>\n",
       "      <th>3</th>\n",
       "      <td>12001</td>\n",
       "      <td>Activity B</td>\n",
       "      <td>Activity B</td>\n",
       "      <td>7200.0</td>\n",
       "      <td>7200.000000</td>\n",
       "      <td>1970-01-01 11:00:00</td>\n",
       "      <td>1970-01-01 11:00:00</td>\n",
       "    </tr>\n",
       "    <tr>\n",
       "      <th>4</th>\n",
       "      <td>12001</td>\n",
       "      <td>Activity E</td>\n",
       "      <td>Activity E</td>\n",
       "      <td>10800.0</td>\n",
       "      <td>10800.000000</td>\n",
       "      <td>1970-01-01 12:00:00</td>\n",
       "      <td>1970-01-01 12:00:00</td>\n",
       "    </tr>\n",
       "    <tr>\n",
       "      <th>5</th>\n",
       "      <td>12001</td>\n",
       "      <td>Activity I</td>\n",
       "      <td>Activity I</td>\n",
       "      <td>14400.0</td>\n",
       "      <td>12125.307569</td>\n",
       "      <td>1970-01-01 13:00:00</td>\n",
       "      <td>1970-01-01 12:22:05.307569</td>\n",
       "    </tr>\n",
       "    <tr>\n",
       "      <th>6</th>\n",
       "      <td>12001</td>\n",
       "      <td>Activity F</td>\n",
       "      <td>Activity F</td>\n",
       "      <td>18000.0</td>\n",
       "      <td>18000.000000</td>\n",
       "      <td>1970-01-01 14:00:00</td>\n",
       "      <td>1970-01-01 14:00:00</td>\n",
       "    </tr>\n",
       "    <tr>\n",
       "      <th>7</th>\n",
       "      <td>12001</td>\n",
       "      <td>Activity J</td>\n",
       "      <td>Activity J</td>\n",
       "      <td>21600.0</td>\n",
       "      <td>18000.016315</td>\n",
       "      <td>1970-01-01 15:00:00</td>\n",
       "      <td>1970-01-01 14:00:00.016315</td>\n",
       "    </tr>\n",
       "    <tr>\n",
       "      <th>8</th>\n",
       "      <td>12002</td>\n",
       "      <td>Activity A</td>\n",
       "      <td>Activity A</td>\n",
       "      <td>0.0</td>\n",
       "      <td>0.000000</td>\n",
       "      <td>1970-01-01 09:00:00</td>\n",
       "      <td>1970-01-01 09:00:00</td>\n",
       "    </tr>\n",
       "    <tr>\n",
       "      <th>9</th>\n",
       "      <td>12002</td>\n",
       "      <td>Activity C</td>\n",
       "      <td>Activity C</td>\n",
       "      <td>3600.0</td>\n",
       "      <td>3600.000000</td>\n",
       "      <td>1970-01-01 10:00:00</td>\n",
       "      <td>1970-01-01 10:00:00</td>\n",
       "    </tr>\n",
       "    <tr>\n",
       "      <th>10</th>\n",
       "      <td>12002</td>\n",
       "      <td>Activity D</td>\n",
       "      <td>Activity D</td>\n",
       "      <td>3600.0</td>\n",
       "      <td>3600.000000</td>\n",
       "      <td>1970-01-01 10:00:00</td>\n",
       "      <td>1970-01-01 10:00:00</td>\n",
       "    </tr>\n",
       "    <tr>\n",
       "      <th>11</th>\n",
       "      <td>12002</td>\n",
       "      <td>Activity B</td>\n",
       "      <td>Activity B</td>\n",
       "      <td>7200.0</td>\n",
       "      <td>7200.000000</td>\n",
       "      <td>1970-01-01 11:00:00</td>\n",
       "      <td>1970-01-01 11:00:00</td>\n",
       "    </tr>\n",
       "    <tr>\n",
       "      <th>12</th>\n",
       "      <td>12002</td>\n",
       "      <td>Activity E</td>\n",
       "      <td>Activity E</td>\n",
       "      <td>10800.0</td>\n",
       "      <td>10800.000000</td>\n",
       "      <td>1970-01-01 12:00:00</td>\n",
       "      <td>1970-01-01 12:00:00</td>\n",
       "    </tr>\n",
       "    <tr>\n",
       "      <th>13</th>\n",
       "      <td>12002</td>\n",
       "      <td>Activity I</td>\n",
       "      <td>Activity I</td>\n",
       "      <td>14400.0</td>\n",
       "      <td>14400.000000</td>\n",
       "      <td>1970-01-01 13:00:00</td>\n",
       "      <td>1970-01-01 13:00:00</td>\n",
       "    </tr>\n",
       "    <tr>\n",
       "      <th>14</th>\n",
       "      <td>12002</td>\n",
       "      <td>Activity F</td>\n",
       "      <td>Activity F</td>\n",
       "      <td>18000.0</td>\n",
       "      <td>18000.000000</td>\n",
       "      <td>1970-01-01 14:00:00</td>\n",
       "      <td>1970-01-01 14:00:00</td>\n",
       "    </tr>\n",
       "    <tr>\n",
       "      <th>15</th>\n",
       "      <td>12002</td>\n",
       "      <td>Activity J</td>\n",
       "      <td>Activity J</td>\n",
       "      <td>21600.0</td>\n",
       "      <td>21600.000000</td>\n",
       "      <td>1970-01-01 15:00:00</td>\n",
       "      <td>1970-01-01 15:00:00</td>\n",
       "    </tr>\n",
       "    <tr>\n",
       "      <th>16</th>\n",
       "      <td>12003</td>\n",
       "      <td>Activity A</td>\n",
       "      <td>Activity A</td>\n",
       "      <td>0.0</td>\n",
       "      <td>3600.000000</td>\n",
       "      <td>1970-01-01 09:00:00</td>\n",
       "      <td>1970-01-01 10:00:00</td>\n",
       "    </tr>\n",
       "    <tr>\n",
       "      <th>17</th>\n",
       "      <td>12003</td>\n",
       "      <td>Activity D</td>\n",
       "      <td>Activity D</td>\n",
       "      <td>3600.0</td>\n",
       "      <td>3600.000000</td>\n",
       "      <td>1970-01-01 10:00:00</td>\n",
       "      <td>1970-01-01 10:00:00</td>\n",
       "    </tr>\n",
       "    <tr>\n",
       "      <th>18</th>\n",
       "      <td>12003</td>\n",
       "      <td>Activity C</td>\n",
       "      <td>Activity C</td>\n",
       "      <td>3600.0</td>\n",
       "      <td>6625.465160</td>\n",
       "      <td>1970-01-01 10:00:00</td>\n",
       "      <td>1970-01-01 10:50:25.465160</td>\n",
       "    </tr>\n",
       "    <tr>\n",
       "      <th>19</th>\n",
       "      <td>12003</td>\n",
       "      <td>Activity B</td>\n",
       "      <td>Activity B</td>\n",
       "      <td>7200.0</td>\n",
       "      <td>9684.445245</td>\n",
       "      <td>1970-01-01 11:00:00</td>\n",
       "      <td>1970-01-01 11:41:24.445245</td>\n",
       "    </tr>\n",
       "  </tbody>\n",
       "</table>\n",
       "</div>"
      ],
      "text/plain": [
       "   CaseID TrueActivity PredictedActivity  TrueTime  PredictedTime  \\\n",
       "0   12001   Activity A        Activity A       0.0       0.000000   \n",
       "1   12001   Activity D        Activity D    3600.0    3600.000000   \n",
       "2   12001   Activity C        Activity C    3600.0    3600.000000   \n",
       "3   12001   Activity B        Activity B    7200.0    7200.000000   \n",
       "4   12001   Activity E        Activity E   10800.0   10800.000000   \n",
       "5   12001   Activity I        Activity I   14400.0   12125.307569   \n",
       "6   12001   Activity F        Activity F   18000.0   18000.000000   \n",
       "7   12001   Activity J        Activity J   21600.0   18000.016315   \n",
       "8   12002   Activity A        Activity A       0.0       0.000000   \n",
       "9   12002   Activity C        Activity C    3600.0    3600.000000   \n",
       "10  12002   Activity D        Activity D    3600.0    3600.000000   \n",
       "11  12002   Activity B        Activity B    7200.0    7200.000000   \n",
       "12  12002   Activity E        Activity E   10800.0   10800.000000   \n",
       "13  12002   Activity I        Activity I   14400.0   14400.000000   \n",
       "14  12002   Activity F        Activity F   18000.0   18000.000000   \n",
       "15  12002   Activity J        Activity J   21600.0   21600.000000   \n",
       "16  12003   Activity A        Activity A       0.0    3600.000000   \n",
       "17  12003   Activity D        Activity D    3600.0    3600.000000   \n",
       "18  12003   Activity C        Activity C    3600.0    6625.465160   \n",
       "19  12003   Activity B        Activity B    7200.0    9684.445245   \n",
       "\n",
       "   TrueCompleteTimestamp  PredictedCompleteTimestamp  \n",
       "0    1970-01-01 09:00:00         1970-01-01 09:00:00  \n",
       "1    1970-01-01 10:00:00         1970-01-01 10:00:00  \n",
       "2    1970-01-01 10:00:00         1970-01-01 10:00:00  \n",
       "3    1970-01-01 11:00:00         1970-01-01 11:00:00  \n",
       "4    1970-01-01 12:00:00         1970-01-01 12:00:00  \n",
       "5    1970-01-01 13:00:00  1970-01-01 12:22:05.307569  \n",
       "6    1970-01-01 14:00:00         1970-01-01 14:00:00  \n",
       "7    1970-01-01 15:00:00  1970-01-01 14:00:00.016315  \n",
       "8    1970-01-01 09:00:00         1970-01-01 09:00:00  \n",
       "9    1970-01-01 10:00:00         1970-01-01 10:00:00  \n",
       "10   1970-01-01 10:00:00         1970-01-01 10:00:00  \n",
       "11   1970-01-01 11:00:00         1970-01-01 11:00:00  \n",
       "12   1970-01-01 12:00:00         1970-01-01 12:00:00  \n",
       "13   1970-01-01 13:00:00         1970-01-01 13:00:00  \n",
       "14   1970-01-01 14:00:00         1970-01-01 14:00:00  \n",
       "15   1970-01-01 15:00:00         1970-01-01 15:00:00  \n",
       "16   1970-01-01 09:00:00         1970-01-01 10:00:00  \n",
       "17   1970-01-01 10:00:00         1970-01-01 10:00:00  \n",
       "18   1970-01-01 10:00:00  1970-01-01 10:50:25.465160  \n",
       "19   1970-01-01 11:00:00  1970-01-01 11:41:24.445245  "
      ]
     },
     "execution_count": 34,
     "metadata": {},
     "output_type": "execute_result"
    }
   ],
   "source": [
    "submission.head(20)"
   ]
  },
  {
   "cell_type": "code",
   "execution_count": 35,
   "metadata": {
    "collapsed": false,
    "deletable": true,
    "editable": true
   },
   "outputs": [
    {
     "data": {
      "text/html": [
       "<div>\n",
       "<style>\n",
       "    .dataframe thead tr:only-child th {\n",
       "        text-align: right;\n",
       "    }\n",
       "\n",
       "    .dataframe thead th {\n",
       "        text-align: left;\n",
       "    }\n",
       "\n",
       "    .dataframe tbody tr th {\n",
       "        vertical-align: top;\n",
       "    }\n",
       "</style>\n",
       "<table border=\"1\" class=\"dataframe\">\n",
       "  <thead>\n",
       "    <tr style=\"text-align: right;\">\n",
       "      <th></th>\n",
       "      <th>CaseID</th>\n",
       "      <th>Activity</th>\n",
       "      <th>CompleteTimestamp</th>\n",
       "      <th>CumTimeInterval</th>\n",
       "      <th>NormalizedTime</th>\n",
       "    </tr>\n",
       "  </thead>\n",
       "  <tbody>\n",
       "    <tr>\n",
       "      <th>0</th>\n",
       "      <td>12001</td>\n",
       "      <td>Activity A</td>\n",
       "      <td>1970-01-01 09:00:00</td>\n",
       "      <td>0.0</td>\n",
       "      <td>0.000000</td>\n",
       "    </tr>\n",
       "    <tr>\n",
       "      <th>1</th>\n",
       "      <td>12001</td>\n",
       "      <td>Activity D</td>\n",
       "      <td>1970-01-01 10:00:00</td>\n",
       "      <td>3600.0</td>\n",
       "      <td>0.199999</td>\n",
       "    </tr>\n",
       "    <tr>\n",
       "      <th>2</th>\n",
       "      <td>12001</td>\n",
       "      <td>NaN</td>\n",
       "      <td>NaN</td>\n",
       "      <td>NaN</td>\n",
       "      <td>NaN</td>\n",
       "    </tr>\n",
       "    <tr>\n",
       "      <th>3</th>\n",
       "      <td>12001</td>\n",
       "      <td>NaN</td>\n",
       "      <td>1970-01-01 11:00:00</td>\n",
       "      <td>7200.0</td>\n",
       "      <td>0.399998</td>\n",
       "    </tr>\n",
       "    <tr>\n",
       "      <th>4</th>\n",
       "      <td>12001</td>\n",
       "      <td>NaN</td>\n",
       "      <td>1970-01-01 12:00:00</td>\n",
       "      <td>10800.0</td>\n",
       "      <td>0.599997</td>\n",
       "    </tr>\n",
       "    <tr>\n",
       "      <th>5</th>\n",
       "      <td>12001</td>\n",
       "      <td>Activity I</td>\n",
       "      <td>NaN</td>\n",
       "      <td>NaN</td>\n",
       "      <td>NaN</td>\n",
       "    </tr>\n",
       "    <tr>\n",
       "      <th>6</th>\n",
       "      <td>12001</td>\n",
       "      <td>Activity F</td>\n",
       "      <td>1970-01-01 14:00:00</td>\n",
       "      <td>18000.0</td>\n",
       "      <td>0.999994</td>\n",
       "    </tr>\n",
       "    <tr>\n",
       "      <th>7</th>\n",
       "      <td>12001</td>\n",
       "      <td>Activity J</td>\n",
       "      <td>NaN</td>\n",
       "      <td>NaN</td>\n",
       "      <td>NaN</td>\n",
       "    </tr>\n",
       "    <tr>\n",
       "      <th>8</th>\n",
       "      <td>12002</td>\n",
       "      <td>Activity A</td>\n",
       "      <td>1970-01-01 09:00:00</td>\n",
       "      <td>0.0</td>\n",
       "      <td>0.000000</td>\n",
       "    </tr>\n",
       "    <tr>\n",
       "      <th>9</th>\n",
       "      <td>12002</td>\n",
       "      <td>Activity C</td>\n",
       "      <td>1970-01-01 10:00:00</td>\n",
       "      <td>3600.0</td>\n",
       "      <td>0.166666</td>\n",
       "    </tr>\n",
       "    <tr>\n",
       "      <th>10</th>\n",
       "      <td>12002</td>\n",
       "      <td>NaN</td>\n",
       "      <td>1970-01-01 10:00:00</td>\n",
       "      <td>3600.0</td>\n",
       "      <td>0.166666</td>\n",
       "    </tr>\n",
       "    <tr>\n",
       "      <th>11</th>\n",
       "      <td>12002</td>\n",
       "      <td>Activity B</td>\n",
       "      <td>1970-01-01 11:00:00</td>\n",
       "      <td>7200.0</td>\n",
       "      <td>0.333332</td>\n",
       "    </tr>\n",
       "    <tr>\n",
       "      <th>12</th>\n",
       "      <td>12002</td>\n",
       "      <td>NaN</td>\n",
       "      <td>1970-01-01 12:00:00</td>\n",
       "      <td>10800.0</td>\n",
       "      <td>0.499998</td>\n",
       "    </tr>\n",
       "    <tr>\n",
       "      <th>13</th>\n",
       "      <td>12002</td>\n",
       "      <td>Activity I</td>\n",
       "      <td>1970-01-01 13:00:00</td>\n",
       "      <td>14400.0</td>\n",
       "      <td>0.666664</td>\n",
       "    </tr>\n",
       "    <tr>\n",
       "      <th>14</th>\n",
       "      <td>12002</td>\n",
       "      <td>NaN</td>\n",
       "      <td>1970-01-01 14:00:00</td>\n",
       "      <td>18000.0</td>\n",
       "      <td>0.833329</td>\n",
       "    </tr>\n",
       "    <tr>\n",
       "      <th>15</th>\n",
       "      <td>12002</td>\n",
       "      <td>Activity J</td>\n",
       "      <td>1970-01-01 15:00:00</td>\n",
       "      <td>21600.0</td>\n",
       "      <td>0.999995</td>\n",
       "    </tr>\n",
       "    <tr>\n",
       "      <th>16</th>\n",
       "      <td>12003</td>\n",
       "      <td>Activity A</td>\n",
       "      <td>NaN</td>\n",
       "      <td>NaN</td>\n",
       "      <td>NaN</td>\n",
       "    </tr>\n",
       "    <tr>\n",
       "      <th>17</th>\n",
       "      <td>12003</td>\n",
       "      <td>Activity D</td>\n",
       "      <td>1970-01-01 10:00:00</td>\n",
       "      <td>3600.0</td>\n",
       "      <td>0.000000</td>\n",
       "    </tr>\n",
       "    <tr>\n",
       "      <th>18</th>\n",
       "      <td>12003</td>\n",
       "      <td>Activity C</td>\n",
       "      <td>NaN</td>\n",
       "      <td>NaN</td>\n",
       "      <td>NaN</td>\n",
       "    </tr>\n",
       "    <tr>\n",
       "      <th>19</th>\n",
       "      <td>12003</td>\n",
       "      <td>NaN</td>\n",
       "      <td>NaN</td>\n",
       "      <td>NaN</td>\n",
       "      <td>NaN</td>\n",
       "    </tr>\n",
       "  </tbody>\n",
       "</table>\n",
       "</div>"
      ],
      "text/plain": [
       "    CaseID    Activity    CompleteTimestamp  CumTimeInterval  NormalizedTime\n",
       "0    12001  Activity A  1970-01-01 09:00:00              0.0        0.000000\n",
       "1    12001  Activity D  1970-01-01 10:00:00           3600.0        0.199999\n",
       "2    12001         NaN                  NaN              NaN             NaN\n",
       "3    12001         NaN  1970-01-01 11:00:00           7200.0        0.399998\n",
       "4    12001         NaN  1970-01-01 12:00:00          10800.0        0.599997\n",
       "5    12001  Activity I                  NaN              NaN             NaN\n",
       "6    12001  Activity F  1970-01-01 14:00:00          18000.0        0.999994\n",
       "7    12001  Activity J                  NaN              NaN             NaN\n",
       "8    12002  Activity A  1970-01-01 09:00:00              0.0        0.000000\n",
       "9    12002  Activity C  1970-01-01 10:00:00           3600.0        0.166666\n",
       "10   12002         NaN  1970-01-01 10:00:00           3600.0        0.166666\n",
       "11   12002  Activity B  1970-01-01 11:00:00           7200.0        0.333332\n",
       "12   12002         NaN  1970-01-01 12:00:00          10800.0        0.499998\n",
       "13   12002  Activity I  1970-01-01 13:00:00          14400.0        0.666664\n",
       "14   12002         NaN  1970-01-01 14:00:00          18000.0        0.833329\n",
       "15   12002  Activity J  1970-01-01 15:00:00          21600.0        0.999995\n",
       "16   12003  Activity A                  NaN              NaN             NaN\n",
       "17   12003  Activity D  1970-01-01 10:00:00           3600.0        0.000000\n",
       "18   12003  Activity C                  NaN              NaN             NaN\n",
       "19   12003         NaN                  NaN              NaN             NaN"
      ]
     },
     "execution_count": 35,
     "metadata": {},
     "output_type": "execute_result"
    }
   ],
   "source": [
    "missing_true_test.head(20)"
   ]
  },
  {
   "cell_type": "code",
   "execution_count": 36,
   "metadata": {
    "collapsed": false,
    "deletable": true,
    "editable": true
   },
   "outputs": [
    {
     "data": {
      "text/plain": [
       "Timestamp('1970-01-01 09:00:00')"
      ]
     },
     "execution_count": 36,
     "metadata": {},
     "output_type": "execute_result"
    }
   ],
   "source": [
    "first_timestamp"
   ]
  },
  {
   "cell_type": "code",
   "execution_count": null,
   "metadata": {
    "collapsed": true,
    "deletable": true,
    "editable": true
   },
   "outputs": [],
   "source": []
  }
 ],
 "metadata": {
  "kernelspec": {
   "display_name": "Python 3",
   "language": "python",
   "name": "python3"
  },
  "language_info": {
   "codemirror_mode": {
    "name": "ipython",
    "version": 3
   },
   "file_extension": ".py",
   "mimetype": "text/x-python",
   "name": "python",
   "nbconvert_exporter": "python",
   "pygments_lexer": "ipython3",
   "version": "3.5.2"
  },
  "toc": {
   "colors": {
    "hover_highlight": "#DAA520",
    "running_highlight": "#FF0000",
    "selected_highlight": "#FFD700"
   },
   "moveMenuLeft": true,
   "nav_menu": {
    "height": "48px",
    "width": "252px"
   },
   "navigate_menu": true,
   "number_sections": true,
   "sideBar": true,
   "threshold": 4,
   "toc_cell": false,
   "toc_section_display": "block",
   "toc_window_display": false
  }
 },
 "nbformat": 4,
 "nbformat_minor": 2
}

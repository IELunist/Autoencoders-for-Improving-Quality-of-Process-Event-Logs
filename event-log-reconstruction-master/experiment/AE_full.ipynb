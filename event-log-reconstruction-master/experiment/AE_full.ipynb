{
 "cells": [
  {
   "cell_type": "markdown",
   "metadata": {
    "deletable": true,
    "editable": true
   },
   "source": [
    "**Outline:**\n",
    "- Build model and loss function\n",
    "- Train model\n",
    "- Observe valdidate\n",
    "- Test"
   ]
  },
  {
   "cell_type": "markdown",
   "metadata": {
    "deletable": true,
    "editable": true
   },
   "source": [
    "**To do:**\n",
    "- Hyperparameter tuning\n",
    "    + lr\n",
    "    + layer1, layer2\n",
    "    + betas"
   ]
  },
  {
   "cell_type": "markdown",
   "metadata": {
    "deletable": true,
    "editable": true
   },
   "source": [
    "**Modification**\n",
    "- Weight initialization with xavier uniform\n",
    "- Adam optimization\n",
    "- LR decay"
   ]
  },
  {
   "cell_type": "code",
   "execution_count": 1,
   "metadata": {
    "collapsed": true,
    "deletable": true,
    "editable": true
   },
   "outputs": [],
   "source": [
    "import importlib\n",
    "import argparse\n",
    "import os, sys\n",
    "import argparse\n",
    "import pandas as pd\n",
    "import numpy as np\n",
    "import pickle\n",
    "import time"
   ]
  },
  {
   "cell_type": "code",
   "execution_count": 2,
   "metadata": {
    "collapsed": true,
    "deletable": true,
    "editable": true
   },
   "outputs": [],
   "source": [
    "import torch\n",
    "import torch.utils.data\n",
    "import torch.nn.functional as F\n",
    "import torch.nn as nn\n",
    "import torch.optim as optim\n",
    "import torch.optim.lr_scheduler\n",
    "from torch.autograd import Variable\n",
    "from torchvision import transforms"
   ]
  },
  {
   "cell_type": "code",
   "execution_count": 3,
   "metadata": {
    "collapsed": true,
    "deletable": true,
    "editable": true
   },
   "outputs": [],
   "source": [
    "sys.path.insert(0, './../utils/')\n",
    "from utils import *\n",
    "from models import *"
   ]
  },
  {
   "cell_type": "code",
   "execution_count": 4,
   "metadata": {
    "collapsed": true,
    "deletable": true,
    "editable": true
   },
   "outputs": [],
   "source": [
    "#Define parser\n",
    "#name = 'bpi_2012'\n",
    "#name = 'bpi_2013'\n",
    "name = 'small_log'\n",
    "#name = 'large_log'\n",
    "\n",
    "parser = {\n",
    "    'train': True,\n",
    "    'test': True,\n",
    "    'model_class': 'AE',\n",
    "    'model_name': '',\n",
    "    'data_dir': '../data/',\n",
    "    'data_file': name + '.csv',\n",
    "    'nan_pct': 0.5,\n",
    "    'input_dir': '../input/{}/'.format(name),\n",
    "    'batch_size' : 16,\n",
    "    'epochs' : 200,\n",
    "    'no_cuda' : False,\n",
    "    'seed' : 7,\n",
    "    'layer1': 300,\n",
    "    'layer2': 100,\n",
    "    'lr': 0.0005,\n",
    "    'betas': (0.9, 0.999),   \n",
    "    'lr_decay': 0.90,\n",
    "}\n",
    "\n",
    "args = argparse.Namespace(**parser)\n",
    "args.output_dir = './output/{0}_{1}_{2}/'.format(name, args.nan_pct, args.model_class)"
   ]
  },
  {
   "cell_type": "code",
   "execution_count": 5,
   "metadata": {
    "collapsed": true,
    "deletable": true,
    "editable": true
   },
   "outputs": [],
   "source": [
    "if not os.path.isdir(args.output_dir):\n",
    "    os.makedirs(args.output_dir)"
   ]
  },
  {
   "cell_type": "code",
   "execution_count": 6,
   "metadata": {
    "collapsed": true,
    "deletable": true,
    "editable": true
   },
   "outputs": [],
   "source": [
    "args.cuda = not args.no_cuda and torch.cuda.is_available()"
   ]
  },
  {
   "cell_type": "code",
   "execution_count": 7,
   "metadata": {
    "collapsed": true,
    "deletable": true,
    "editable": true
   },
   "outputs": [],
   "source": [
    "torch.manual_seed(args.seed)\n",
    "if args.cuda:\n",
    "    torch.cuda.manual_seed(args.seed)"
   ]
  },
  {
   "cell_type": "code",
   "execution_count": 8,
   "metadata": {
    "collapsed": true,
    "deletable": true,
    "editable": true
   },
   "outputs": [],
   "source": [
    "kwargs = {'num_workers': 2, 'pin_memory': True} if args.cuda else {}"
   ]
  },
  {
   "cell_type": "code",
   "execution_count": 9,
   "metadata": {
    "collapsed": true,
    "deletable": true,
    "editable": true
   },
   "outputs": [],
   "source": [
    "preprocessed_data_name = os.path.join(args.input_dir, 'preprocessed_data_full_{}.pkl'.format(args.nan_pct))\n",
    "with open(preprocessed_data_name, 'rb') as f:\n",
    "    min_max_storage = pickle.load(f)\n",
    "    complete_matrix_w_normalized_time = pickle.load(f)\n",
    "    missing_matrix_w_normalized_time = pickle.load(f)\n",
    "    avai_matrix = pickle.load(f)\n",
    "    nan_matrix = pickle.load(f)\n",
    "    pad_matrix = pickle.load(f)\n",
    "    cols_w_time = pickle.load(f)\n",
    "    cols_w_normalized_time = pickle.load(f)"
   ]
  },
  {
   "cell_type": "code",
   "execution_count": 10,
   "metadata": {
    "collapsed": true,
    "deletable": true,
    "editable": true
   },
   "outputs": [],
   "source": [
    "file_name = os.path.join(args.input_dir, 'parameters_{}.pkl'.format(args.nan_pct))\n",
    "with open(file_name, 'rb') as f:\n",
    "    most_frequent_activity = pickle.load(f)\n",
    "    first_timestamp = pickle.load(f)\n",
    "    avai_instance = pickle.load(f)\n",
    "    nan_instance = pickle.load(f)\n",
    "    train_size = pickle.load(f)\n",
    "    val_size = pickle.load(f)\n",
    "    test_size = pickle.load(f)\n",
    "    train_row_num = pickle.load(f)\n",
    "    val_row_num = pickle.load(f)\n",
    "    test_row_num = pickle.load(f)"
   ]
  },
  {
   "cell_type": "markdown",
   "metadata": {
    "deletable": true,
    "editable": true
   },
   "source": [
    "# Load data"
   ]
  },
  {
   "cell_type": "code",
   "execution_count": 11,
   "metadata": {
    "collapsed": true,
    "deletable": true,
    "editable": true
   },
   "outputs": [],
   "source": [
    "complete_matrix_w_normalized_time_trainLoader = torch.utils.data.DataLoader(complete_matrix_w_normalized_time, \n",
    "                                                                            batch_size=args.batch_size, shuffle=False, \n",
    "                                                                            num_workers=2)\n",
    "missing_matrix_w_normalized_time_trainLoader = torch.utils.data.DataLoader(missing_matrix_w_normalized_time, \n",
    "                                                                           batch_size=args.batch_size, shuffle=False, \n",
    "                                                                           num_workers=2)\n",
    "avai_matrix_trainLoader = torch.utils.data.DataLoader(avai_matrix, \n",
    "                                                      batch_size=args.batch_size, shuffle=False, \n",
    "                                                      num_workers=2)"
   ]
  },
  {
   "cell_type": "code",
   "execution_count": 12,
   "metadata": {
    "collapsed": true,
    "deletable": true,
    "editable": true
   },
   "outputs": [],
   "source": [
    "normalized_complete_df_name = os.path.join(args.input_dir, 'normalized_complete_df_{}.csv'.format(args.nan_pct))\n",
    "normalized_complete_df = pd.read_csv(normalized_complete_df_name)\n",
    "\n",
    "normalized_missing_df_name = os.path.join(args.input_dir, 'normalized_missing_df_{}.csv'.format(args.nan_pct))\n",
    "normalized_missing_df = pd.read_csv(normalized_missing_df_name)"
   ]
  },
  {
   "cell_type": "code",
   "execution_count": 13,
   "metadata": {
    "collapsed": true,
    "deletable": true,
    "editable": true
   },
   "outputs": [],
   "source": [
    "missing_true_test = normalized_missing_df\n",
    "complete_true_test = normalized_complete_df"
   ]
  },
  {
   "cell_type": "code",
   "execution_count": 14,
   "metadata": {
    "collapsed": true,
    "deletable": true,
    "editable": true
   },
   "outputs": [],
   "source": [
    "nan_time_index, nan_activity_index = getnanindex(missing_true_test)"
   ]
  },
  {
   "cell_type": "code",
   "execution_count": 15,
   "metadata": {
    "collapsed": true,
    "deletable": true,
    "editable": true
   },
   "outputs": [],
   "source": [
    "row_num = missing_true_test.shape[0]"
   ]
  },
  {
   "cell_type": "code",
   "execution_count": 16,
   "metadata": {
    "collapsed": false,
    "deletable": true,
    "editable": true
   },
   "outputs": [
    {
     "data": {
      "text/plain": [
       "(13087, 175, 37)"
      ]
     },
     "execution_count": 16,
     "metadata": {},
     "output_type": "execute_result"
    }
   ],
   "source": [
    "complete_matrix_w_normalized_time.shape"
   ]
  },
  {
   "cell_type": "code",
   "execution_count": 17,
   "metadata": {
    "collapsed": false,
    "deletable": true,
    "editable": true
   },
   "outputs": [
    {
     "data": {
      "text/plain": [
       "280"
      ]
     },
     "execution_count": 17,
     "metadata": {},
     "output_type": "execute_result"
    }
   ],
   "source": [
    "35*8"
   ]
  },
  {
   "cell_type": "markdown",
   "metadata": {
    "deletable": true,
    "editable": true
   },
   "source": [
    "# Build model"
   ]
  },
  {
   "cell_type": "markdown",
   "metadata": {
    "deletable": true,
    "editable": true
   },
   "source": [
    "## Define model"
   ]
  },
  {
   "cell_type": "code",
   "execution_count": 18,
   "metadata": {
    "collapsed": true,
    "deletable": true,
    "editable": true
   },
   "outputs": [],
   "source": [
    "if args.model_class == 'AE':\n",
    "    model = AE(complete_matrix_w_normalized_time.shape, args.layer1, args.layer2)\n",
    "        \n",
    "if args.cuda:\n",
    "    model.cuda()"
   ]
  },
  {
   "cell_type": "markdown",
   "metadata": {
    "deletable": true,
    "editable": true
   },
   "source": [
    "## Define loss"
   ]
  },
  {
   "cell_type": "code",
   "execution_count": 19,
   "metadata": {
    "collapsed": true,
    "deletable": true,
    "editable": true
   },
   "outputs": [],
   "source": [
    "# Define loss\n",
    "\n",
    "def loss_function(recon_x, x, avai_mask):\n",
    "    #MSE = F.mse_loss(recon_x*avai_mask, x*avai_mask, size_average=False)\n",
    "    BCE = F.binary_cross_entropy(recon_x, x, weight=avai_mask, size_average=False) \n",
    "    return BCE"
   ]
  },
  {
   "cell_type": "code",
   "execution_count": 20,
   "metadata": {
    "collapsed": true,
    "deletable": true,
    "editable": true
   },
   "outputs": [],
   "source": [
    "optimizer = optim.Adam(model.parameters(), lr=args.lr, betas=args.betas)"
   ]
  },
  {
   "cell_type": "code",
   "execution_count": 21,
   "metadata": {
    "collapsed": true,
    "deletable": true,
    "editable": true
   },
   "outputs": [],
   "source": [
    "#Adjust learning rate per epoch: http://pytorch.org/docs/master/optim.html?highlight=adam#torch.optim.Adam\n",
    "\n",
    "# Method 1:\n",
    "lambda1 = lambda epoch: args.lr_decay ** epoch\n",
    "scheduler = torch.optim.lr_scheduler.LambdaLR(optimizer, lr_lambda=[lambda1])\n",
    "\n",
    "# Method 2:\n",
    "#scheduler = torch.optim.lr_scheduler.ReduceLROnPlateau(optimizer, 'min', patience=10)"
   ]
  },
  {
   "cell_type": "markdown",
   "metadata": {
    "deletable": true,
    "editable": true
   },
   "source": [
    "## Utils"
   ]
  },
  {
   "cell_type": "code",
   "execution_count": 22,
   "metadata": {
    "collapsed": true,
    "deletable": true,
    "editable": true
   },
   "outputs": [],
   "source": [
    "def save_model(model, epoch, score):\n",
    "    model_file = os.path.join(args.output_dir, 'model_{}_epoch{}_score{:.4f}.pth'.format(args.model_class, epoch, score))\n",
    "    torch.save(model.state_dict(), model_file)"
   ]
  },
  {
   "cell_type": "code",
   "execution_count": 23,
   "metadata": {
    "collapsed": true,
    "deletable": true,
    "editable": true
   },
   "outputs": [],
   "source": [
    "def load_model(model, model_name):\n",
    "    model_file = os.path.join(args.output_dir, model_name)\n",
    "    assert os.path.isfile(model_file), 'Error: no model found!'\n",
    "    model_state = torch.load(model_file)\n",
    "    model.load_state_dict(model_state)"
   ]
  },
  {
   "cell_type": "markdown",
   "metadata": {
    "deletable": true,
    "editable": true
   },
   "source": [
    "# Train model"
   ]
  },
  {
   "cell_type": "code",
   "execution_count": 24,
   "metadata": {
    "collapsed": true,
    "deletable": true,
    "editable": true
   },
   "outputs": [],
   "source": [
    "def train(epoch, model, optimizer):\n",
    "    model.train()\n",
    "    train_loss = 0\n",
    "    for batch_idx, (m_data, c_data, avai_mask) in enumerate(zip(missing_matrix_w_normalized_time_trainLoader, \n",
    "                                                                complete_matrix_w_normalized_time_trainLoader,\n",
    "                                                                avai_matrix_trainLoader)):\n",
    "        c_data = Variable(c_data.float())\n",
    "        m_data = Variable(m_data.float())\n",
    "        avai_mask = Variable(avai_mask.float())\n",
    "\n",
    "        if args.cuda:\n",
    "            c_data = c_data.cuda()\n",
    "            m_data = m_data.cuda()\n",
    "            avai_mask = avai_mask.cuda()\n",
    "\n",
    "            \n",
    "        optimizer.zero_grad()\n",
    "        \n",
    "        recon_data = model(m_data)\n",
    "        \n",
    "        loss = loss_function(recon_data, c_data, avai_mask)\n",
    "        \n",
    "        loss.backward()\n",
    "        train_loss += loss.data[0]\n",
    "        optimizer.step()\n",
    "        \n",
    "    return train_loss / len(complete_matrix_w_normalized_time_trainLoader.dataset)"
   ]
  },
  {
   "cell_type": "code",
   "execution_count": 25,
   "metadata": {
    "collapsed": false,
    "deletable": true,
    "editable": true,
    "scrolled": true
   },
   "outputs": [
    {
     "name": "stdout",
     "output_type": "stream",
     "text": [
      "====> Epoch 1 | End time: 2927.8162 ms | Train loss: 41.2679\n",
      "====> Epoch 2 | End time: 2809.6933 ms | Train loss: 25.1099\n",
      "====> Epoch 3 | End time: 2809.2673 ms | Train loss: 20.7302\n",
      "====> Epoch 4 | End time: 2920.8090 ms | Train loss: 18.0386\n",
      "====> Epoch 5 | End time: 2883.6315 ms | Train loss: 16.0032\n",
      "====> Epoch 6 | End time: 2835.0167 ms | Train loss: 14.4409\n",
      "====> Epoch 7 | End time: 2860.0199 ms | Train loss: 13.1798\n",
      "====> Epoch 8 | End time: 2867.3451 ms | Train loss: 12.1145\n",
      "====> Epoch 9 | End time: 2827.0733 ms | Train loss: 11.2195\n",
      "====> Epoch 10 | End time: 2859.0631 ms | Train loss: 10.4843\n",
      "====> Epoch 11 | End time: 2853.2701 ms | Train loss: 9.8688\n",
      "====> Epoch 12 | End time: 2872.5953 ms | Train loss: 9.3499\n",
      "====> Epoch 13 | End time: 2827.5106 ms | Train loss: 8.9095\n",
      "====> Epoch 14 | End time: 2870.7354 ms | Train loss: 8.5345\n",
      "====> Epoch 15 | End time: 2859.7374 ms | Train loss: 8.2115\n",
      "====> Epoch 16 | End time: 2903.3062 ms | Train loss: 7.9322\n",
      "====> Epoch 17 | End time: 2892.4360 ms | Train loss: 7.6904\n",
      "====> Epoch 18 | End time: 2813.1645 ms | Train loss: 7.4793\n",
      "====> Epoch 19 | End time: 2903.5280 ms | Train loss: 7.2936\n",
      "====> Epoch 20 | End time: 2901.5791 ms | Train loss: 7.1296\n",
      "====> Epoch 21 | End time: 2858.0575 ms | Train loss: 6.9852\n",
      "====> Epoch 22 | End time: 2854.9716 ms | Train loss: 6.8576\n",
      "====> Epoch 23 | End time: 2875.7441 ms | Train loss: 6.7445\n",
      "====> Epoch 24 | End time: 2831.9695 ms | Train loss: 6.6439\n",
      "====> Epoch 25 | End time: 2799.7599 ms | Train loss: 6.5545\n",
      "====> Epoch 26 | End time: 2847.7128 ms | Train loss: 6.4748\n",
      "====> Epoch 27 | End time: 2803.9548 ms | Train loss: 6.4039\n",
      "====> Epoch 28 | End time: 2797.7350 ms | Train loss: 6.3405\n",
      "====> Epoch 29 | End time: 2855.2601 ms | Train loss: 6.2839\n",
      "====> Epoch 30 | End time: 2887.3513 ms | Train loss: 6.2333\n",
      "====> Epoch 31 | End time: 2826.7925 ms | Train loss: 6.1880\n",
      "====> Epoch 32 | End time: 2859.9792 ms | Train loss: 6.1474\n",
      "====> Epoch 33 | End time: 2872.8395 ms | Train loss: 6.1110\n",
      "====> Epoch 34 | End time: 2842.8662 ms | Train loss: 6.0784\n",
      "====> Epoch 35 | End time: 2814.6267 ms | Train loss: 6.0492\n",
      "====> Epoch 36 | End time: 2842.5500 ms | Train loss: 6.0230\n",
      "====> Epoch 37 | End time: 2857.6438 ms | Train loss: 5.9994\n",
      "====> Epoch 38 | End time: 2814.5242 ms | Train loss: 5.9783\n",
      "====> Epoch 39 | End time: 2867.9473 ms | Train loss: 5.9593\n",
      "====> Epoch 40 | End time: 2770.3245 ms | Train loss: 5.9422\n",
      "====> Epoch 41 | End time: 2781.2970 ms | Train loss: 5.9269\n",
      "====> Epoch 42 | End time: 2828.3520 ms | Train loss: 5.9131\n",
      "====> Epoch 43 | End time: 2845.2904 ms | Train loss: 5.9007\n",
      "====> Epoch 44 | End time: 2912.4825 ms | Train loss: 5.8895\n",
      "====> Epoch 45 | End time: 2872.5221 ms | Train loss: 5.8795\n",
      "====> Epoch 46 | End time: 2817.2526 ms | Train loss: 5.8705\n",
      "====> Epoch 47 | End time: 2900.7714 ms | Train loss: 5.8623\n",
      "====> Epoch 48 | End time: 2868.3898 ms | Train loss: 5.8550\n",
      "====> Epoch 49 | End time: 2889.4150 ms | Train loss: 5.8485\n",
      "====> Epoch 50 | End time: 2866.0035 ms | Train loss: 5.8426\n",
      "====> Epoch 51 | End time: 2871.7730 ms | Train loss: 5.8372\n",
      "====> Epoch 52 | End time: 2906.2309 ms | Train loss: 5.8325\n",
      "====> Epoch 53 | End time: 2870.8026 ms | Train loss: 5.8281\n",
      "====> Epoch 54 | End time: 2868.1517 ms | Train loss: 5.8243\n",
      "====> Epoch 55 | End time: 2866.8809 ms | Train loss: 5.8208\n",
      "====> Epoch 56 | End time: 2807.8411 ms | Train loss: 5.8177\n",
      "====> Epoch 57 | End time: 2864.7499 ms | Train loss: 5.8148\n",
      "====> Epoch 58 | End time: 2825.6176 ms | Train loss: 5.8123\n",
      "====> Epoch 59 | End time: 2854.9936 ms | Train loss: 5.8100\n",
      "====> Epoch 60 | End time: 2804.1892 ms | Train loss: 5.8079\n",
      "====> Epoch 61 | End time: 2816.7939 ms | Train loss: 5.8061\n",
      "====> Epoch 62 | End time: 2894.4318 ms | Train loss: 5.8044\n",
      "====> Epoch 63 | End time: 2846.7433 ms | Train loss: 5.8029\n",
      "====> Epoch 64 | End time: 2868.0823 ms | Train loss: 5.8016\n",
      "====> Epoch 65 | End time: 2841.6588 ms | Train loss: 5.8004\n",
      "====> Epoch 66 | End time: 2874.5360 ms | Train loss: 5.7993\n",
      "====> Epoch 67 | End time: 2836.1256 ms | Train loss: 5.7983\n",
      "====> Epoch 68 | End time: 2862.2532 ms | Train loss: 5.7974\n",
      "====> Epoch 69 | End time: 2844.9166 ms | Train loss: 5.7966\n",
      "====> Epoch 70 | End time: 2887.6870 ms | Train loss: 5.7959\n",
      "====> Epoch 71 | End time: 2908.4349 ms | Train loss: 5.7953\n",
      "====> Epoch 72 | End time: 2895.3364 ms | Train loss: 5.7947\n",
      "====> Epoch 73 | End time: 2827.5771 ms | Train loss: 5.7942\n",
      "====> Epoch 74 | End time: 2786.6123 ms | Train loss: 5.7937\n",
      "====> Epoch 75 | End time: 2848.8863 ms | Train loss: 5.7933\n",
      "====> Epoch 76 | End time: 2820.6902 ms | Train loss: 5.7929\n",
      "====> Epoch 77 | End time: 2885.5345 ms | Train loss: 5.7925\n",
      "====> Epoch 78 | End time: 2876.1895 ms | Train loss: 5.7922\n",
      "====> Epoch 79 | End time: 2873.3554 ms | Train loss: 5.7920\n",
      "====> Epoch 80 | End time: 2849.3726 ms | Train loss: 5.7917\n",
      "====> Epoch 81 | End time: 2873.2524 ms | Train loss: 5.7915\n",
      "====> Epoch 82 | End time: 2923.0032 ms | Train loss: 5.7913\n",
      "====> Epoch 83 | End time: 2865.6590 ms | Train loss: 5.7911\n",
      "====> Epoch 84 | End time: 2871.3915 ms | Train loss: 5.7909\n",
      "====> Epoch 85 | End time: 2814.4953 ms | Train loss: 5.7908\n",
      "====> Epoch 86 | End time: 2888.5136 ms | Train loss: 5.7907\n",
      "====> Epoch 87 | End time: 2836.0500 ms | Train loss: 5.7905\n",
      "====> Epoch 88 | End time: 2912.8592 ms | Train loss: 5.7904\n",
      "====> Epoch 89 | End time: 2925.3993 ms | Train loss: 5.7903\n",
      "====> Epoch 90 | End time: 2851.4764 ms | Train loss: 5.7903\n",
      "====> Epoch 91 | End time: 2886.5204 ms | Train loss: 5.7902\n",
      "====> Epoch 92 | End time: 2909.1804 ms | Train loss: 5.7901\n",
      "====> Epoch 93 | End time: 2861.0423 ms | Train loss: 5.7901\n",
      "====> Epoch 94 | End time: 2854.3792 ms | Train loss: 5.7900\n",
      "====> Epoch 95 | End time: 2820.7507 ms | Train loss: 5.7900\n",
      "====> Epoch 96 | End time: 2797.9531 ms | Train loss: 5.7899\n",
      "====> Epoch 97 | End time: 2862.6032 ms | Train loss: 5.7899\n",
      "====> Epoch 98 | End time: 2847.9779 ms | Train loss: 5.7899\n",
      "====> Epoch 99 | End time: 2927.4035 ms | Train loss: 5.7899\n",
      "====> Epoch 100 | End time: 2903.3241 ms | Train loss: 5.7898\n",
      "====> Epoch 101 | End time: 2870.3032 ms | Train loss: 5.7898\n",
      "====> Epoch 102 | End time: 2867.3382 ms | Train loss: 5.7898\n",
      "====> Epoch 103 | End time: 2833.4002 ms | Train loss: 5.7898\n",
      "====> Epoch 104 | End time: 2865.3140 ms | Train loss: 5.7898\n",
      "====> Epoch 105 | End time: 2881.1648 ms | Train loss: 5.7898\n",
      "====> Epoch 106 | End time: 2881.6333 ms | Train loss: 5.7897\n",
      "====> Epoch 107 | End time: 2880.6796 ms | Train loss: 5.7897\n",
      "====> Epoch 108 | End time: 2857.5649 ms | Train loss: 5.7897\n",
      "====> Epoch 109 | End time: 2823.5662 ms | Train loss: 5.7897\n",
      "====> Epoch 110 | End time: 2841.4946 ms | Train loss: 5.7897\n",
      "====> Epoch 111 | End time: 2842.0293 ms | Train loss: 5.7897\n",
      "====> Epoch 112 | End time: 2914.4516 ms | Train loss: 5.7897\n",
      "====> Epoch 113 | End time: 2834.5392 ms | Train loss: 5.7897\n",
      "====> Epoch 114 | End time: 2894.4821 ms | Train loss: 5.7897\n",
      "====> Epoch 115 | End time: 2848.6218 ms | Train loss: 5.7897\n",
      "====> Epoch 116 | End time: 2880.1887 ms | Train loss: 5.7897\n",
      "====> Epoch 117 | End time: 2888.7768 ms | Train loss: 5.7897\n",
      "====> Epoch 118 | End time: 2848.4714 ms | Train loss: 5.7897\n",
      "====> Epoch 119 | End time: 2858.7337 ms | Train loss: 5.7897\n",
      "====> Epoch 120 | End time: 2827.3931 ms | Train loss: 5.7897\n",
      "====> Epoch 121 | End time: 2862.4887 ms | Train loss: 5.7897\n",
      "====> Epoch 122 | End time: 2892.0772 ms | Train loss: 5.7897\n",
      "====> Epoch 123 | End time: 2830.6141 ms | Train loss: 5.7897\n",
      "====> Epoch 124 | End time: 2836.6156 ms | Train loss: 5.7897\n",
      "====> Epoch 125 | End time: 2848.3367 ms | Train loss: 5.7897\n",
      "====> Epoch 126 | End time: 2877.1062 ms | Train loss: 5.7897\n",
      "====> Epoch 127 | End time: 2872.8585 ms | Train loss: 5.7897\n",
      "====> Epoch 128 | End time: 2910.5213 ms | Train loss: 5.7897\n",
      "====> Epoch 129 | End time: 2873.3726 ms | Train loss: 5.7897\n",
      "====> Epoch 130 | End time: 2808.2199 ms | Train loss: 5.7897\n",
      "====> Epoch 131 | End time: 2854.7614 ms | Train loss: 5.7897\n",
      "====> Epoch 132 | End time: 2862.7920 ms | Train loss: 5.7897\n",
      "====> Epoch 133 | End time: 2848.5975 ms | Train loss: 5.7897\n",
      "====> Epoch 134 | End time: 2899.0095 ms | Train loss: 5.7897\n",
      "====> Epoch 135 | End time: 2889.3859 ms | Train loss: 5.7897\n",
      "====> Epoch 136 | End time: 2829.8404 ms | Train loss: 5.7897\n",
      "====> Epoch 137 | End time: 2835.2909 ms | Train loss: 5.7897\n",
      "====> Epoch 138 | End time: 2848.7933 ms | Train loss: 5.7897\n",
      "====> Epoch 139 | End time: 2900.9752 ms | Train loss: 5.7897\n",
      "====> Epoch 140 | End time: 2841.7346 ms | Train loss: 5.7897\n",
      "====> Epoch 141 | End time: 2847.6009 ms | Train loss: 5.7897\n",
      "====> Epoch 142 | End time: 2885.3307 ms | Train loss: 5.7897\n",
      "====> Epoch 143 | End time: 2907.0904 ms | Train loss: 5.7897\n",
      "====> Epoch 144 | End time: 2879.0219 ms | Train loss: 5.7897\n",
      "====> Epoch 145 | End time: 2778.6865 ms | Train loss: 5.7897\n",
      "====> Epoch 146 | End time: 2753.4957 ms | Train loss: 5.7897\n",
      "====> Epoch 147 | End time: 2812.6838 ms | Train loss: 5.7897\n",
      "====> Epoch 148 | End time: 2761.9169 ms | Train loss: 5.7897\n",
      "====> Epoch 149 | End time: 2791.3196 ms | Train loss: 5.7897\n",
      "====> Epoch 150 | End time: 2881.1126 ms | Train loss: 5.7897\n",
      "====> Epoch 151 | End time: 2842.8481 ms | Train loss: 5.7897\n",
      "====> Epoch 152 | End time: 2851.6209 ms | Train loss: 5.7897\n",
      "====> Epoch 153 | End time: 2865.5074 ms | Train loss: 5.7897\n",
      "====> Epoch 154 | End time: 2853.8029 ms | Train loss: 5.7897\n",
      "====> Epoch 155 | End time: 2984.7631 ms | Train loss: 5.7897\n",
      "====> Epoch 156 | End time: 2901.7231 ms | Train loss: 5.7897\n",
      "====> Epoch 157 | End time: 2762.5697 ms | Train loss: 5.7897\n",
      "====> Epoch 158 | End time: 2823.2110 ms | Train loss: 5.7897\n",
      "====> Epoch 159 | End time: 2917.3198 ms | Train loss: 5.7897\n",
      "====> Epoch 160 | End time: 2840.8568 ms | Train loss: 5.7897\n",
      "====> Epoch 161 | End time: 2827.0545 ms | Train loss: 5.7897\n",
      "====> Epoch 162 | End time: 2868.7732 ms | Train loss: 5.7897\n",
      "====> Epoch 163 | End time: 2907.6006 ms | Train loss: 5.7897\n",
      "====> Epoch 164 | End time: 2787.3170 ms | Train loss: 5.7897\n",
      "====> Epoch 165 | End time: 2887.3465 ms | Train loss: 5.7897\n",
      "====> Epoch 166 | End time: 2922.5345 ms | Train loss: 5.7897\n",
      "====> Epoch 167 | End time: 2896.4608 ms | Train loss: 5.7897\n",
      "====> Epoch 168 | End time: 2817.2014 ms | Train loss: 5.7897\n",
      "====> Epoch 169 | End time: 2844.1763 ms | Train loss: 5.7897\n",
      "====> Epoch 170 | End time: 2826.3602 ms | Train loss: 5.7897\n",
      "====> Epoch 171 | End time: 2862.9391 ms | Train loss: 5.7897\n",
      "====> Epoch 172 | End time: 2884.3327 ms | Train loss: 5.7897\n",
      "====> Epoch 173 | End time: 2873.0540 ms | Train loss: 5.7897\n",
      "====> Epoch 174 | End time: 2834.4214 ms | Train loss: 5.7897\n",
      "====> Epoch 175 | End time: 2884.5007 ms | Train loss: 5.7897\n",
      "====> Epoch 176 | End time: 2804.0268 ms | Train loss: 5.7897\n",
      "====> Epoch 177 | End time: 2852.6983 ms | Train loss: 5.7897\n",
      "====> Epoch 178 | End time: 2833.4432 ms | Train loss: 5.7897\n",
      "====> Epoch 179 | End time: 2812.5644 ms | Train loss: 5.7897\n",
      "====> Epoch 180 | End time: 2911.8392 ms | Train loss: 5.7897\n",
      "====> Epoch 181 | End time: 2793.2591 ms | Train loss: 5.7897\n",
      "====> Epoch 182 | End time: 2897.0041 ms | Train loss: 5.7897\n",
      "====> Epoch 183 | End time: 2876.5724 ms | Train loss: 5.7897\n",
      "====> Epoch 184 | End time: 2838.2130 ms | Train loss: 5.7897\n",
      "====> Epoch 185 | End time: 2845.7060 ms | Train loss: 5.7897\n",
      "====> Epoch 186 | End time: 2867.5013 ms | Train loss: 5.7897\n",
      "====> Epoch 187 | End time: 2817.0838 ms | Train loss: 5.7897\n",
      "====> Epoch 188 | End time: 2864.1872 ms | Train loss: 5.7897\n",
      "====> Epoch 189 | End time: 2846.3340 ms | Train loss: 5.7897\n",
      "====> Epoch 190 | End time: 2884.2463 ms | Train loss: 5.7897\n",
      "====> Epoch 191 | End time: 2819.2947 ms | Train loss: 5.7897\n",
      "====> Epoch 192 | End time: 2867.0547 ms | Train loss: 5.7897\n",
      "====> Epoch 193 | End time: 2892.4220 ms | Train loss: 5.7897\n",
      "====> Epoch 194 | End time: 2859.0398 ms | Train loss: 5.7897\n",
      "====> Epoch 195 | End time: 2900.4409 ms | Train loss: 5.7897\n",
      "====> Epoch 196 | End time: 2869.3712 ms | Train loss: 5.7897\n",
      "====> Epoch 197 | End time: 2838.9060 ms | Train loss: 5.7897\n",
      "====> Epoch 198 | End time: 2838.0215 ms | Train loss: 5.7897\n",
      "====> Epoch 199 | End time: 2810.3423 ms | Train loss: 5.7897\n",
      "====> Epoch 200 | End time: 2928.4146 ms | Train loss: 5.7897\n"
     ]
    }
   ],
   "source": [
    "if args.train:\n",
    "    for epoch in range(1, args.epochs + 1):\n",
    "        init = time.time()\n",
    "        \n",
    "        #method 1 scheduler\n",
    "        scheduler.step()\n",
    "        train_loss = train(epoch, model, optimizer)\n",
    "        \n",
    "        end = time.time()\n",
    "        print('====> Epoch {} | End time: {:.4f} ms | Train loss: {:.4f}'.\n",
    "              format(epoch, (end-init)*1000, train_loss))\n",
    "else:\n",
    "    load_model(model, args.model_name)"
   ]
  },
  {
   "cell_type": "markdown",
   "metadata": {
    "collapsed": true,
    "deletable": true,
    "editable": true
   },
   "source": [
    "# Predict and evaluate"
   ]
  },
  {
   "cell_type": "code",
   "execution_count": 26,
   "metadata": {
    "collapsed": false,
    "deletable": true,
    "editable": true
   },
   "outputs": [
    {
     "name": "stdout",
     "output_type": "stream",
     "text": [
      "Predicting...\n",
      "\n",
      "\n",
      "Converting to dataframe...\n",
      "Transforming Normalized Time to Time...\n",
      "Getting submission...\n"
     ]
    },
    {
     "name": "stderr",
     "output_type": "stream",
     "text": [
      "/home/pllab/miniconda2/envs/pydata/lib/python3.5/site-packages/pandas/core/indexing.py:517: SettingWithCopyWarning: \n",
      "A value is trying to be set on a copy of a slice from a DataFrame.\n",
      "Try using .loc[row_indexer,col_indexer] = value instead\n",
      "\n",
      "See the caveats in the documentation: http://pandas.pydata.org/pandas-docs/stable/indexing.html#indexing-view-versus-copy\n",
      "  self.obj[item] = s\n"
     ]
    },
    {
     "name": "stdout",
     "output_type": "stream",
     "text": [
      "Testing...\n",
      "Number of missing Time: 131056\n",
      "Mean Absolute Error: 1.1615 day(s)\n",
      "Root Mean Squared Error: 3.0603 day(s)\n",
      "Number of missing Activity: 131144\n",
      "Accuracy: 77.68%\n",
      "\n",
      "\n",
      "Saving submission...\n",
      "Done!\n"
     ]
    }
   ],
   "source": [
    "if args.test:\n",
    "    m_test = missing_matrix_w_normalized_time\n",
    "    m_test = Variable(torch.Tensor(m_test).float())\n",
    "    \n",
    "    if args.cuda:\n",
    "        m_test = m_test.cuda()\n",
    "    \n",
    "    print('Predicting...')\n",
    "    recon_test = model(m_test)\n",
    "    \n",
    "    print('\\n')\n",
    "    print('Converting to dataframe...')\n",
    "    recon_df_w_normalized_time = convert2df(recon_test, pad_matrix, cols_w_normalized_time, row_num)\n",
    "    \n",
    "    print('Transforming Normalized Time to Time...')\n",
    "    recon_df_w_time = getDfWithTime(recon_df_w_normalized_time, missing_true_test, min_max_storage)\n",
    "    \n",
    "    print('Getting submission...')\n",
    "    submission_df = getSubmission(recon_df_w_time, missing_true_test, complete_true_test, first_timestamp)\n",
    "    submission = fixTime(submission_df)\n",
    "    \n",
    "    print('Testing...')\n",
    "    mae_time, rmse_time, acc = evaluation(submission, nan_time_index, nan_activity_index, show=True)\n",
    "    print('\\n')\n",
    "    \n",
    "    print('Saving submission...')\n",
    "    submission_df.to_csv(args.output_dir+'submission.csv', index=False)\n",
    "    print('Done!')"
   ]
  },
  {
   "cell_type": "code",
   "execution_count": 27,
   "metadata": {
    "collapsed": false,
    "deletable": true,
    "editable": true
   },
   "outputs": [
    {
     "data": {
      "text/plain": [
       "(262200, 7)"
      ]
     },
     "execution_count": 27,
     "metadata": {},
     "output_type": "execute_result"
    }
   ],
   "source": [
    "submission_df.shape"
   ]
  },
  {
   "cell_type": "code",
   "execution_count": 28,
   "metadata": {
    "collapsed": false,
    "deletable": true,
    "editable": true
   },
   "outputs": [
    {
     "data": {
      "text/html": [
       "<div>\n",
       "<style>\n",
       "    .dataframe thead tr:only-child th {\n",
       "        text-align: right;\n",
       "    }\n",
       "\n",
       "    .dataframe thead th {\n",
       "        text-align: left;\n",
       "    }\n",
       "\n",
       "    .dataframe tbody tr th {\n",
       "        vertical-align: top;\n",
       "    }\n",
       "</style>\n",
       "<table border=\"1\" class=\"dataframe\">\n",
       "  <thead>\n",
       "    <tr style=\"text-align: right;\">\n",
       "      <th></th>\n",
       "      <th>CaseID</th>\n",
       "      <th>TrueActivity</th>\n",
       "      <th>PredictedActivity</th>\n",
       "      <th>TrueTime</th>\n",
       "      <th>PredictedTime</th>\n",
       "      <th>TrueCompleteTimestamp</th>\n",
       "      <th>PredictedCompleteTimestamp</th>\n",
       "    </tr>\n",
       "  </thead>\n",
       "  <tbody>\n",
       "    <tr>\n",
       "      <th>0</th>\n",
       "      <td>1</td>\n",
       "      <td>A_SUBMITTED-COMPLETE</td>\n",
       "      <td>A_SUBMITTED-COMPLETE</td>\n",
       "      <td>0.000</td>\n",
       "      <td>0.000000</td>\n",
       "      <td>2011-10-01 07:38:44.546</td>\n",
       "      <td>2011-10-01 07:38:44.546</td>\n",
       "    </tr>\n",
       "    <tr>\n",
       "      <th>1</th>\n",
       "      <td>1</td>\n",
       "      <td>A_PARTLYSUBMITTED-COMPLETE</td>\n",
       "      <td>A_PARTLYSUBMITTED-COMPLETE</td>\n",
       "      <td>0.334</td>\n",
       "      <td>0.334000</td>\n",
       "      <td>2011-10-01 07:38:44.880</td>\n",
       "      <td>2011-10-01 07:38:44.880</td>\n",
       "    </tr>\n",
       "    <tr>\n",
       "      <th>2</th>\n",
       "      <td>1</td>\n",
       "      <td>A_PREACCEPTED-COMPLETE</td>\n",
       "      <td>A_PREACCEPTED-COMPLETE</td>\n",
       "      <td>53.360</td>\n",
       "      <td>53.360000</td>\n",
       "      <td>2011-10-01 07:39:37.906</td>\n",
       "      <td>2011-10-01 07:39:37.906</td>\n",
       "    </tr>\n",
       "    <tr>\n",
       "      <th>3</th>\n",
       "      <td>1</td>\n",
       "      <td>W_Completeren aanvraag-SCHEDULE</td>\n",
       "      <td>W_Completeren aanvraag-SCHEDULE</td>\n",
       "      <td>54.329</td>\n",
       "      <td>54.329000</td>\n",
       "      <td>2011-10-01 07:39:38.875</td>\n",
       "      <td>2011-10-01 07:39:38.875</td>\n",
       "    </tr>\n",
       "    <tr>\n",
       "      <th>4</th>\n",
       "      <td>1</td>\n",
       "      <td>W_Completeren aanvraag-START</td>\n",
       "      <td>W_Completeren aanvraag-START</td>\n",
       "      <td>39481.891</td>\n",
       "      <td>39481.891000</td>\n",
       "      <td>2011-10-01 18:36:46.437</td>\n",
       "      <td>2011-10-01 18:36:46.437</td>\n",
       "    </tr>\n",
       "    <tr>\n",
       "      <th>5</th>\n",
       "      <td>1</td>\n",
       "      <td>A_ACCEPTED-COMPLETE</td>\n",
       "      <td>A_ACCEPTED-COMPLETE</td>\n",
       "      <td>39838.762</td>\n",
       "      <td>39838.762000</td>\n",
       "      <td>2011-10-01 18:42:43.308</td>\n",
       "      <td>2011-10-01 18:42:43.308</td>\n",
       "    </tr>\n",
       "    <tr>\n",
       "      <th>6</th>\n",
       "      <td>1</td>\n",
       "      <td>O_SELECTED-COMPLETE</td>\n",
       "      <td>O_SELECTED-COMPLETE</td>\n",
       "      <td>39984.697</td>\n",
       "      <td>39838.762000</td>\n",
       "      <td>2011-10-01 18:45:09.243</td>\n",
       "      <td>2011-10-01 18:42:43.308</td>\n",
       "    </tr>\n",
       "    <tr>\n",
       "      <th>7</th>\n",
       "      <td>1</td>\n",
       "      <td>A_FINALIZED-COMPLETE</td>\n",
       "      <td>A_FINALIZED-COMPLETE</td>\n",
       "      <td>39984.697</td>\n",
       "      <td>39838.762000</td>\n",
       "      <td>2011-10-01 18:45:09.243</td>\n",
       "      <td>2011-10-01 18:42:43.308</td>\n",
       "    </tr>\n",
       "    <tr>\n",
       "      <th>8</th>\n",
       "      <td>1</td>\n",
       "      <td>O_CREATED-COMPLETE</td>\n",
       "      <td>O_CREATED-COMPLETE</td>\n",
       "      <td>39986.651</td>\n",
       "      <td>39986.651000</td>\n",
       "      <td>2011-10-01 18:45:11.197</td>\n",
       "      <td>2011-10-01 18:45:11.197</td>\n",
       "    </tr>\n",
       "    <tr>\n",
       "      <th>9</th>\n",
       "      <td>1</td>\n",
       "      <td>O_SENT-COMPLETE</td>\n",
       "      <td>O_SENT-COMPLETE</td>\n",
       "      <td>39986.834</td>\n",
       "      <td>43217.449792</td>\n",
       "      <td>2011-10-01 18:45:11.380</td>\n",
       "      <td>2011-10-01 19:39:01.995792</td>\n",
       "    </tr>\n",
       "  </tbody>\n",
       "</table>\n",
       "</div>"
      ],
      "text/plain": [
       "  CaseID                     TrueActivity                PredictedActivity  \\\n",
       "0      1             A_SUBMITTED-COMPLETE             A_SUBMITTED-COMPLETE   \n",
       "1      1       A_PARTLYSUBMITTED-COMPLETE       A_PARTLYSUBMITTED-COMPLETE   \n",
       "2      1           A_PREACCEPTED-COMPLETE           A_PREACCEPTED-COMPLETE   \n",
       "3      1  W_Completeren aanvraag-SCHEDULE  W_Completeren aanvraag-SCHEDULE   \n",
       "4      1     W_Completeren aanvraag-START     W_Completeren aanvraag-START   \n",
       "5      1              A_ACCEPTED-COMPLETE              A_ACCEPTED-COMPLETE   \n",
       "6      1              O_SELECTED-COMPLETE              O_SELECTED-COMPLETE   \n",
       "7      1             A_FINALIZED-COMPLETE             A_FINALIZED-COMPLETE   \n",
       "8      1               O_CREATED-COMPLETE               O_CREATED-COMPLETE   \n",
       "9      1                  O_SENT-COMPLETE                  O_SENT-COMPLETE   \n",
       "\n",
       "    TrueTime  PredictedTime    TrueCompleteTimestamp  \\\n",
       "0      0.000       0.000000  2011-10-01 07:38:44.546   \n",
       "1      0.334       0.334000  2011-10-01 07:38:44.880   \n",
       "2     53.360      53.360000  2011-10-01 07:39:37.906   \n",
       "3     54.329      54.329000  2011-10-01 07:39:38.875   \n",
       "4  39481.891   39481.891000  2011-10-01 18:36:46.437   \n",
       "5  39838.762   39838.762000  2011-10-01 18:42:43.308   \n",
       "6  39984.697   39838.762000  2011-10-01 18:45:09.243   \n",
       "7  39984.697   39838.762000  2011-10-01 18:45:09.243   \n",
       "8  39986.651   39986.651000  2011-10-01 18:45:11.197   \n",
       "9  39986.834   43217.449792  2011-10-01 18:45:11.380   \n",
       "\n",
       "   PredictedCompleteTimestamp  \n",
       "0     2011-10-01 07:38:44.546  \n",
       "1     2011-10-01 07:38:44.880  \n",
       "2     2011-10-01 07:39:37.906  \n",
       "3     2011-10-01 07:39:38.875  \n",
       "4     2011-10-01 18:36:46.437  \n",
       "5     2011-10-01 18:42:43.308  \n",
       "6     2011-10-01 18:42:43.308  \n",
       "7     2011-10-01 18:42:43.308  \n",
       "8     2011-10-01 18:45:11.197  \n",
       "9  2011-10-01 19:39:01.995792  "
      ]
     },
     "execution_count": 28,
     "metadata": {},
     "output_type": "execute_result"
    }
   ],
   "source": [
    "submission.head(10)"
   ]
  },
  {
   "cell_type": "code",
   "execution_count": 29,
   "metadata": {
    "collapsed": false,
    "deletable": true,
    "editable": true
   },
   "outputs": [
    {
     "data": {
      "text/html": [
       "<div>\n",
       "<style>\n",
       "    .dataframe thead tr:only-child th {\n",
       "        text-align: right;\n",
       "    }\n",
       "\n",
       "    .dataframe thead th {\n",
       "        text-align: left;\n",
       "    }\n",
       "\n",
       "    .dataframe tbody tr th {\n",
       "        vertical-align: top;\n",
       "    }\n",
       "</style>\n",
       "<table border=\"1\" class=\"dataframe\">\n",
       "  <thead>\n",
       "    <tr style=\"text-align: right;\">\n",
       "      <th></th>\n",
       "      <th>CaseID</th>\n",
       "      <th>Activity</th>\n",
       "      <th>CompleteTimestamp</th>\n",
       "      <th>CumTimeInterval</th>\n",
       "      <th>NormalizedTime</th>\n",
       "    </tr>\n",
       "  </thead>\n",
       "  <tbody>\n",
       "    <tr>\n",
       "      <th>0</th>\n",
       "      <td>1</td>\n",
       "      <td>A_SUBMITTED-COMPLETE</td>\n",
       "      <td>2011-10-01 07:38:44.546</td>\n",
       "      <td>0.000</td>\n",
       "      <td>0.000000e+00</td>\n",
       "    </tr>\n",
       "    <tr>\n",
       "      <th>1</th>\n",
       "      <td>1</td>\n",
       "      <td>NaN</td>\n",
       "      <td>2011-10-01 07:38:44.880</td>\n",
       "      <td>0.334</td>\n",
       "      <td>3.113567e-07</td>\n",
       "    </tr>\n",
       "    <tr>\n",
       "      <th>2</th>\n",
       "      <td>1</td>\n",
       "      <td>A_PREACCEPTED-COMPLETE</td>\n",
       "      <td>2011-10-01 07:39:37.906</td>\n",
       "      <td>53.360</td>\n",
       "      <td>4.974249e-05</td>\n",
       "    </tr>\n",
       "    <tr>\n",
       "      <th>3</th>\n",
       "      <td>1</td>\n",
       "      <td>W_Completeren aanvraag-SCHEDULE</td>\n",
       "      <td>2011-10-01 07:39:38.875</td>\n",
       "      <td>54.329</td>\n",
       "      <td>5.064580e-05</td>\n",
       "    </tr>\n",
       "    <tr>\n",
       "      <th>4</th>\n",
       "      <td>1</td>\n",
       "      <td>W_Completeren aanvraag-START</td>\n",
       "      <td>2011-10-01 18:36:46.437</td>\n",
       "      <td>39481.891</td>\n",
       "      <td>3.680524e-02</td>\n",
       "    </tr>\n",
       "    <tr>\n",
       "      <th>5</th>\n",
       "      <td>1</td>\n",
       "      <td>A_ACCEPTED-COMPLETE</td>\n",
       "      <td>2011-10-01 18:42:43.308</td>\n",
       "      <td>39838.762</td>\n",
       "      <td>3.713792e-02</td>\n",
       "    </tr>\n",
       "    <tr>\n",
       "      <th>6</th>\n",
       "      <td>1</td>\n",
       "      <td>O_SELECTED-COMPLETE</td>\n",
       "      <td>NaN</td>\n",
       "      <td>NaN</td>\n",
       "      <td>NaN</td>\n",
       "    </tr>\n",
       "    <tr>\n",
       "      <th>7</th>\n",
       "      <td>1</td>\n",
       "      <td>NaN</td>\n",
       "      <td>NaN</td>\n",
       "      <td>NaN</td>\n",
       "      <td>NaN</td>\n",
       "    </tr>\n",
       "    <tr>\n",
       "      <th>8</th>\n",
       "      <td>1</td>\n",
       "      <td>NaN</td>\n",
       "      <td>2011-10-01 18:45:11.197</td>\n",
       "      <td>39986.651</td>\n",
       "      <td>3.727578e-02</td>\n",
       "    </tr>\n",
       "    <tr>\n",
       "      <th>9</th>\n",
       "      <td>1</td>\n",
       "      <td>NaN</td>\n",
       "      <td>NaN</td>\n",
       "      <td>NaN</td>\n",
       "      <td>NaN</td>\n",
       "    </tr>\n",
       "  </tbody>\n",
       "</table>\n",
       "</div>"
      ],
      "text/plain": [
       "   CaseID                         Activity        CompleteTimestamp  \\\n",
       "0       1             A_SUBMITTED-COMPLETE  2011-10-01 07:38:44.546   \n",
       "1       1                              NaN  2011-10-01 07:38:44.880   \n",
       "2       1           A_PREACCEPTED-COMPLETE  2011-10-01 07:39:37.906   \n",
       "3       1  W_Completeren aanvraag-SCHEDULE  2011-10-01 07:39:38.875   \n",
       "4       1     W_Completeren aanvraag-START  2011-10-01 18:36:46.437   \n",
       "5       1              A_ACCEPTED-COMPLETE  2011-10-01 18:42:43.308   \n",
       "6       1              O_SELECTED-COMPLETE                      NaN   \n",
       "7       1                              NaN                      NaN   \n",
       "8       1                              NaN  2011-10-01 18:45:11.197   \n",
       "9       1                              NaN                      NaN   \n",
       "\n",
       "   CumTimeInterval  NormalizedTime  \n",
       "0            0.000    0.000000e+00  \n",
       "1            0.334    3.113567e-07  \n",
       "2           53.360    4.974249e-05  \n",
       "3           54.329    5.064580e-05  \n",
       "4        39481.891    3.680524e-02  \n",
       "5        39838.762    3.713792e-02  \n",
       "6              NaN             NaN  \n",
       "7              NaN             NaN  \n",
       "8        39986.651    3.727578e-02  \n",
       "9              NaN             NaN  "
      ]
     },
     "execution_count": 29,
     "metadata": {},
     "output_type": "execute_result"
    }
   ],
   "source": [
    "missing_true_test.head(10)"
   ]
  },
  {
   "cell_type": "code",
   "execution_count": null,
   "metadata": {
    "collapsed": true,
    "deletable": true,
    "editable": true
   },
   "outputs": [],
   "source": []
  }
 ],
 "metadata": {
  "kernelspec": {
   "display_name": "Python 3",
   "language": "python",
   "name": "python3"
  },
  "language_info": {
   "codemirror_mode": {
    "name": "ipython",
    "version": 3
   },
   "file_extension": ".py",
   "mimetype": "text/x-python",
   "name": "python",
   "nbconvert_exporter": "python",
   "pygments_lexer": "ipython3",
   "version": "3.5.2"
  },
  "toc": {
   "colors": {
    "hover_highlight": "#DAA520",
    "running_highlight": "#FF0000",
    "selected_highlight": "#FFD700"
   },
   "moveMenuLeft": true,
   "nav_menu": {
    "height": "48px",
    "width": "252px"
   },
   "navigate_menu": true,
   "number_sections": true,
   "sideBar": true,
   "threshold": 4,
   "toc_cell": false,
   "toc_section_display": "block",
   "toc_window_display": false
  }
 },
 "nbformat": 4,
 "nbformat_minor": 2
}
